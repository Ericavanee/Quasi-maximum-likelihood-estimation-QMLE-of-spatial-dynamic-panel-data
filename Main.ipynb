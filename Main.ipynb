{
 "cells": [
  {
   "cell_type": "code",
   "execution_count": 1,
   "id": "1095f188-3792-4695-96fe-e649d1a6ab67",
   "metadata": {},
   "outputs": [],
   "source": [
    "from QMLE_scipy import *\n",
    "from explore import *"
   ]
  },
  {
   "cell_type": "markdown",
   "id": "65e7aa95-eff8-4d6c-8e72-58cc587c8a84",
   "metadata": {},
   "source": [
    "### 1. Test k=2"
   ]
  },
  {
   "cell_type": "code",
   "execution_count": 2,
   "id": "31c51542-b8e2-47c3-9700-cd541b3402d5",
   "metadata": {},
   "outputs": [],
   "source": [
    "# set up initial guess\n",
    "sigma = 1\n",
    "lam = 0.5\n",
    "gamma = 0.1\n",
    "rho = 0.2\n",
    "beta = np.array([1,2])\n",
    "params = [sigma,lam,gamma, rho, *beta]\n",
    "params\n",
    "\n",
    "# set up input data\n",
    "n = 4\n",
    "T = 4\n",
    "k = 2\n",
    "alpha = np.random.normal(0,1,4)\n",
    "c0 = np.random.normal(0,1,4)\n",
    "x1 = []\n",
    "for i in range(T):\n",
    "    x1.append(np.random.normal(0,1,n*k).reshape(n,k))\n",
    "y1 = []\n",
    "for i in range(T+1):\n",
    "    y1.append(np.random.normal(0,1,4))\n",
    "# manually setting up a row-normalized spatial weight vector with 0 diagonals for even time points\n",
    "w0 = np.array([[0,1,0,0],[1,0,0,0],[0,0,0,1],[0,1,0,0]]).reshape(4,4)\n",
    "w1 = np.array([[0,0,1,0],[1,0,0,0],[0,1,0,0],[1,0,0,0]]).reshape(4,4)\n",
    "W_ls = []\n",
    "for i in range(T+1):\n",
    "    if is_even(i):\n",
    "        W_ls.append(w0)\n",
    "    else:\n",
    "        W_ls.append(w1)"
   ]
  },
  {
   "cell_type": "code",
   "execution_count": 3,
   "id": "0664433e-9077-4956-b20e-df6da47e082f",
   "metadata": {},
   "outputs": [
    {
     "name": "stderr",
     "output_type": "stream",
     "text": [
      "/Users/helangchun/opt/anaconda3/lib/python3.9/site-packages/scipy/optimize/_hessian_update_strategy.py:182: UserWarning: delta_grad == 0.0. Check if the approximated function is linear. If the function is linear better results can be obtained by defining the Hessian as zero instead of using quasi-Newton approximations.\n",
      "  warn('delta_grad == 0.0. Check if the approximated '\n"
     ]
    },
    {
     "name": "stdout",
     "output_type": "stream",
     "text": [
      "[sigma,lam,gamma,rho,beta] =  [0.7515664150944951, 0.10541340105305184, 0.20392764564460208, -0.2764516298873153, array([-0.58613801, -0.11630474])]\n"
     ]
    },
    {
     "data": {
      "text/plain": [
       "[0.7515664150944951,\n",
       " 0.10541340105305184,\n",
       " 0.20392764564460208,\n",
       " -0.2764516298873153,\n",
       " array([-0.58613801, -0.11630474])]"
      ]
     },
     "execution_count": 3,
     "metadata": {},
     "output_type": "execute_result"
    }
   ],
   "source": [
    "# run optimization with constraints\n",
    "QMLE_scipy_estimate(x1, y1, W_ls,initial_guess = params,est_coeff = False)"
   ]
  },
  {
   "cell_type": "code",
   "execution_count": 4,
   "id": "311ffe58-e4d5-4d46-8582-e2b359c6495d",
   "metadata": {},
   "outputs": [
    {
     "name": "stdout",
     "output_type": "stream",
     "text": [
      "[sigma,lam,gamma,rho,beta] =  [0.7515664150944951, 0.10541340105305184, 0.20392764564460208, -0.2764516298873153, array([-0.58613801, -0.11630474])]\n",
      "c0 :  [[ 0.37753275]\n",
      " [ 0.27638313]\n",
      " [-0.26997775]\n",
      " [ 0.15815643]]\n",
      "alpha :  [[-0.38803911]\n",
      " [ 0.07572264]\n",
      " [ 0.19046749]\n",
      " [ 0.12184898]]\n",
      "residuals:  [array([[0.12480592],\n",
      "       [1.30948403],\n",
      "       [0.5912074 ],\n",
      "       [0.51248253]]), array([[ 2.17962093],\n",
      "       [ 0.42444152],\n",
      "       [ 0.50892604],\n",
      "       [-0.46328127]]), array([[ 0.13420607],\n",
      "       [-0.81651658],\n",
      "       [ 0.17291134],\n",
      "       [-1.50460198]]), array([[-0.62486475],\n",
      "       [-0.37249823],\n",
      "       [-1.24914851],\n",
      "       [ 0.44114811]])]\n",
      "asymptotic variance:  [[ 0.11089431 -0.10759708 -0.13669002  0.08855336  0.15135743  0.06727637]\n",
      " [-0.10759708  0.25796518  0.23724156 -0.16796034 -0.26711265 -0.11747533]\n",
      " [-0.13669002  0.23724156  0.29115615 -0.15682923 -0.25911964 -0.11507433]\n",
      " [ 0.08855336 -0.16796034 -0.15682923  0.17242367  0.23605543  0.10342135]\n",
      " [ 0.15135743 -0.26711265 -0.25911964  0.23605543  0.72640751  0.31497559]\n",
      " [ 0.06727637 -0.11747533 -0.11507433  0.10342135  0.31497559  0.20671803]]\n"
     ]
    },
    {
     "data": {
      "text/plain": [
       "[[0.7515664150944951,\n",
       "  0.10541340105305184,\n",
       "  0.20392764564460208,\n",
       "  -0.2764516298873153,\n",
       "  array([-0.58613801, -0.11630474])],\n",
       " array([[ 0.37753275],\n",
       "        [ 0.27638313],\n",
       "        [-0.26997775],\n",
       "        [ 0.15815643]]),\n",
       " array([[-0.38803911],\n",
       "        [ 0.07572264],\n",
       "        [ 0.19046749],\n",
       "        [ 0.12184898]]),\n",
       " [array([[0.12480592],\n",
       "         [1.30948403],\n",
       "         [0.5912074 ],\n",
       "         [0.51248253]]),\n",
       "  array([[ 2.17962093],\n",
       "         [ 0.42444152],\n",
       "         [ 0.50892604],\n",
       "         [-0.46328127]]),\n",
       "  array([[ 0.13420607],\n",
       "         [-0.81651658],\n",
       "         [ 0.17291134],\n",
       "         [-1.50460198]]),\n",
       "  array([[-0.62486475],\n",
       "         [-0.37249823],\n",
       "         [-1.24914851],\n",
       "         [ 0.44114811]])],\n",
       " array([[ 0.11089431, -0.10759708, -0.13669002,  0.08855336,  0.15135743,\n",
       "          0.06727637],\n",
       "        [-0.10759708,  0.25796518,  0.23724156, -0.16796034, -0.26711265,\n",
       "         -0.11747533],\n",
       "        [-0.13669002,  0.23724156,  0.29115615, -0.15682923, -0.25911964,\n",
       "         -0.11507433],\n",
       "        [ 0.08855336, -0.16796034, -0.15682923,  0.17242367,  0.23605543,\n",
       "          0.10342135],\n",
       "        [ 0.15135743, -0.26711265, -0.25911964,  0.23605543,  0.72640751,\n",
       "          0.31497559],\n",
       "        [ 0.06727637, -0.11747533, -0.11507433,  0.10342135,  0.31497559,\n",
       "          0.20671803]])]"
      ]
     },
     "execution_count": 4,
     "metadata": {},
     "output_type": "execute_result"
    }
   ],
   "source": [
    "QMLE_scipy_estimate(x1, y1, W_ls,initial_guess = params,est_coeff = True)"
   ]
  },
  {
   "cell_type": "code",
   "execution_count": 5,
   "id": "e40fe90a-04cb-46e6-a617-81d531badc45",
   "metadata": {},
   "outputs": [
    {
     "name": "stderr",
     "output_type": "stream",
     "text": [
      "/Users/helangchun/Dropbox/QMLE Estimation/QMLE_scipy.py:31: RuntimeWarning: invalid value encountered in log\n",
      "  obj = -1/2*((n-1)*T)*np.log(2*np.pi)-1/2*((n-1)*T)*np.log(sigma**2)-T*np.log(1-lam)+np.sum(get_S(sigma,lam,gamma, rho, beta))-1/(2*sigma**2)*np.sum(get_V(sigma,lam,gamma, rho, beta))\n"
     ]
    },
    {
     "name": "stdout",
     "output_type": "stream",
     "text": [
      "[sigma,lam,gamma,rho,beta] =  [0.7515651369177437, 0.10540966392599499, 0.20392811616735834, -0.2764503574070688, array([-0.58613675, -0.11630345])]\n"
     ]
    },
    {
     "data": {
      "text/plain": [
       "[0.7515651369177437,\n",
       " 0.10540966392599499,\n",
       " 0.20392811616735834,\n",
       " -0.2764503574070688,\n",
       " array([-0.58613675, -0.11630345])]"
      ]
     },
     "execution_count": 5,
     "metadata": {},
     "output_type": "execute_result"
    }
   ],
   "source": [
    "QMLE_scipy_estimate(x1, y1, W_ls,initial_guess = params, est_coeff = False, constrain= False)"
   ]
  },
  {
   "cell_type": "code",
   "execution_count": 7,
   "id": "ae7cdc4c-da69-4bb0-ae3f-d0bc88a4391b",
   "metadata": {},
   "outputs": [
    {
     "name": "stdout",
     "output_type": "stream",
     "text": [
      "[sigma,lam,gamma,rho,beta] =  [0.7515651369177437, 0.10540966392599499, 0.20392811616735834, -0.2764503574070688, array([-0.58613675, -0.11630345])]\n",
      "c0 :  [[ 0.37753034]\n",
      " [ 0.27638255]\n",
      " [-0.26997762]\n",
      " [ 0.15815738]]\n",
      "alpha :  [[-0.38804046]\n",
      " [ 0.0757194 ]\n",
      " [ 0.19046917]\n",
      " [ 0.12185189]]\n",
      "residuals:  [array([[0.12481265],\n",
      "       [1.30948891],\n",
      "       [0.59121598],\n",
      "       [0.51248112]]), array([[ 2.1796265 ],\n",
      "       [ 0.42445113],\n",
      "       [ 0.50892628],\n",
      "       [-0.46327671]]), array([[ 0.13420455],\n",
      "       [-0.81652039],\n",
      "       [ 0.1729073 ],\n",
      "       [-1.50460405]]), array([[-0.6248641 ],\n",
      "       [-0.37249945],\n",
      "       [-1.2491515 ],\n",
      "       [ 0.44114273]])]\n",
      "asymptotic variance:  [[ 0.1108947  -0.10759796 -0.13669074  0.08855404  0.15136021  0.06727753]\n",
      " [-0.10759796  0.25796632  0.23724265 -0.16796134 -0.26711714 -0.1174772 ]\n",
      " [-0.13669074  0.23724265  0.29115694 -0.15683016 -0.25912375 -0.11507605]\n",
      " [ 0.08855404 -0.16796134 -0.15683016  0.17242429  0.23605885  0.10342276]\n",
      " [ 0.15136021 -0.26711714 -0.25912375  0.23605885  0.72641969  0.31498063]\n",
      " [ 0.06727753 -0.1174772  -0.11507605  0.10342276  0.31498063  0.20672033]]\n"
     ]
    },
    {
     "data": {
      "text/plain": [
       "[[0.7515651369177437,\n",
       "  0.10540966392599499,\n",
       "  0.20392811616735834,\n",
       "  -0.2764503574070688,\n",
       "  array([-0.58613675, -0.11630345])],\n",
       " array([[ 0.37753034],\n",
       "        [ 0.27638255],\n",
       "        [-0.26997762],\n",
       "        [ 0.15815738]]),\n",
       " array([[-0.38804046],\n",
       "        [ 0.0757194 ],\n",
       "        [ 0.19046917],\n",
       "        [ 0.12185189]]),\n",
       " [array([[0.12481265],\n",
       "         [1.30948891],\n",
       "         [0.59121598],\n",
       "         [0.51248112]]),\n",
       "  array([[ 2.1796265 ],\n",
       "         [ 0.42445113],\n",
       "         [ 0.50892628],\n",
       "         [-0.46327671]]),\n",
       "  array([[ 0.13420455],\n",
       "         [-0.81652039],\n",
       "         [ 0.1729073 ],\n",
       "         [-1.50460405]]),\n",
       "  array([[-0.6248641 ],\n",
       "         [-0.37249945],\n",
       "         [-1.2491515 ],\n",
       "         [ 0.44114273]])],\n",
       " array([[ 0.1108947 , -0.10759796, -0.13669074,  0.08855404,  0.15136021,\n",
       "          0.06727753],\n",
       "        [-0.10759796,  0.25796632,  0.23724265, -0.16796134, -0.26711714,\n",
       "         -0.1174772 ],\n",
       "        [-0.13669074,  0.23724265,  0.29115694, -0.15683016, -0.25912375,\n",
       "         -0.11507605],\n",
       "        [ 0.08855404, -0.16796134, -0.15683016,  0.17242429,  0.23605885,\n",
       "          0.10342276],\n",
       "        [ 0.15136021, -0.26711714, -0.25912375,  0.23605885,  0.72641969,\n",
       "          0.31498063],\n",
       "        [ 0.06727753, -0.1174772 , -0.11507605,  0.10342276,  0.31498063,\n",
       "          0.20672033]])]"
      ]
     },
     "execution_count": 7,
     "metadata": {},
     "output_type": "execute_result"
    }
   ],
   "source": [
    "QMLE_scipy_estimate(x1, y1, W_ls,initial_guess = params, est_coeff = True, constrain= False)"
   ]
  },
  {
   "cell_type": "markdown",
   "id": "e60c9c45-fcc3-4408-8089-4fa026380eae",
   "metadata": {},
   "source": [
    "### 2. Test k=1"
   ]
  },
  {
   "cell_type": "code",
   "execution_count": 8,
   "id": "87a4998f-3bf1-4082-b18f-4e4404adfe4c",
   "metadata": {},
   "outputs": [],
   "source": [
    "# set up initial guess\n",
    "initial_guess = [1.5,0.2,0.5,0.3,1.2] # in the order sigma, lam, gamma, rho, beta (all real numbers)\n",
    "\n",
    "n = 49\n",
    "k = 1\n",
    "T = 10\n",
    "\n",
    "# generate samples\n",
    "t_theta = [0.1,0.2,np.array([1]).reshape(k,1),0.5,1] # true parameters\n",
    "t_gamma, t_rho, t_beta, t_lam, t_sig = t_theta\n",
    "alpha = np.random.normal(0,1,T).reshape(T,1)\n",
    "c0 = np.random.normal(0,1,n).reshape(n,1)\n",
    "l_n = np.ones(n).reshape(n,1)\n",
    "x = []\n",
    "for i in range(T):\n",
    "    x.append(np.random.normal(0,1,n).reshape(n,k))\n",
    "# manually setting up a row-normalized spatial weight vector with 0 diagonals for even time points\n",
    "w0 = generate_weight_matrix(n)\n",
    "w1 = generate_weight_matrix(n)\n",
    "\n",
    "W_ls = []\n",
    "for i in range(T+1):\n",
    "    if is_even(i):\n",
    "        W_ls.append(w0)\n",
    "    else:\n",
    "        W_ls.append(w1)\n",
    "\n",
    "        V_nt = []\n",
    "for i in range(T):\n",
    "    V_nt.append(np.random.normal(0,t_sig,n).reshape(n,1))\n",
    "\n",
    "Y0 = np.random.normal(0,1,n).reshape(n,1)\n",
    "\n",
    "y = []\n",
    "y.append(Y0)\n",
    "for i in range(T):\n",
    "    c_vec = t_gamma*y[i]+t_rho*np.matmul(W_ls[i],np.array(y[i]).reshape(n,1))+np.matmul(x[i],np.array(t_beta).reshape(k,1))+c0+alpha[i][0]*l_n+V_nt[i]\n",
    "    Y_nt = np.matmul(np.linalg.inv(np.identity(n)-t_lam*W_ls[i+1]),c_vec).reshape(n,1)\n",
    "    y.append(Y_nt)"
   ]
  },
  {
   "cell_type": "code",
   "execution_count": 14,
   "id": "3d7e7263-4a35-4967-87c5-561b80234183",
   "metadata": {},
   "outputs": [
    {
     "name": "stdout",
     "output_type": "stream",
     "text": [
      "[sigma,lam,gamma,rho,beta] =  [0.9016263076788926, 0.47993816752897356, 0.08471182960487085, 0.21332821605780794, array([1.00022781])]\n"
     ]
    },
    {
     "data": {
      "text/plain": [
       "[0.9016263076788926,\n",
       " 0.47993816752897356,\n",
       " 0.08471182960487085,\n",
       " 0.21332821605780794,\n",
       " array([1.00022781])]"
      ]
     },
     "execution_count": 14,
     "metadata": {},
     "output_type": "execute_result"
    }
   ],
   "source": [
    "QMLE_scipy_estimate(x, y, W_ls,initial_guess = initial_guess, constrain= False, est_coeff = False)"
   ]
  },
  {
   "cell_type": "code",
   "execution_count": 15,
   "id": "d783a776-c1d3-4a79-b55d-ca4245f5ccd6",
   "metadata": {},
   "outputs": [
    {
     "ename": "ValueError",
     "evalue": "cannot reshape array of size 10 into shape (49,1)",
     "output_type": "error",
     "traceback": [
      "\u001b[0;31m---------------------------------------------------------------------------\u001b[0m",
      "\u001b[0;31mValueError\u001b[0m                                Traceback (most recent call last)",
      "\u001b[0;32m/var/folders/44/8_54q8w53q34chh_wjy62nyw0000gn/T/ipykernel_53714/2710094503.py\u001b[0m in \u001b[0;36m<module>\u001b[0;34m\u001b[0m\n\u001b[0;32m----> 1\u001b[0;31m \u001b[0mQMLE_scipy_estimate\u001b[0m\u001b[0;34m(\u001b[0m\u001b[0mx\u001b[0m\u001b[0;34m,\u001b[0m \u001b[0my\u001b[0m\u001b[0;34m,\u001b[0m \u001b[0mW_ls\u001b[0m\u001b[0;34m,\u001b[0m\u001b[0minitial_guess\u001b[0m \u001b[0;34m=\u001b[0m \u001b[0minitial_guess\u001b[0m\u001b[0;34m,\u001b[0m \u001b[0mconstrain\u001b[0m\u001b[0;34m=\u001b[0m \u001b[0;32mFalse\u001b[0m\u001b[0;34m,\u001b[0m \u001b[0mest_coeff\u001b[0m \u001b[0;34m=\u001b[0m \u001b[0;32mTrue\u001b[0m\u001b[0;34m)\u001b[0m\u001b[0;34m\u001b[0m\u001b[0;34m\u001b[0m\u001b[0m\n\u001b[0m",
      "\u001b[0;32m~/Dropbox/QMLE Estimation/QMLE_scipy.py\u001b[0m in \u001b[0;36mQMLE_scipy_estimate\u001b[0;34m(x_dataset, y_attribute, Weight_ls, initial_guess, est_coeff, constrain)\u001b[0m\n\u001b[1;32m    248\u001b[0m             \u001b[0mresidual\u001b[0m \u001b[0;34m=\u001b[0m \u001b[0mget_residual\u001b[0m\u001b[0;34m(\u001b[0m\u001b[0mn\u001b[0m\u001b[0;34m,\u001b[0m\u001b[0mk\u001b[0m\u001b[0;34m,\u001b[0m\u001b[0mT\u001b[0m\u001b[0;34m,\u001b[0m\u001b[0mx\u001b[0m\u001b[0;34m,\u001b[0m\u001b[0my\u001b[0m\u001b[0;34m,\u001b[0m\u001b[0mW_ls\u001b[0m\u001b[0;34m,\u001b[0m\u001b[0mmy_params\u001b[0m\u001b[0;34m)\u001b[0m\u001b[0;34m\u001b[0m\u001b[0;34m\u001b[0m\u001b[0m\n\u001b[1;32m    249\u001b[0m             \u001b[0mc0\u001b[0m \u001b[0;34m=\u001b[0m \u001b[0mget_c\u001b[0m\u001b[0;34m(\u001b[0m\u001b[0mx\u001b[0m\u001b[0;34m,\u001b[0m\u001b[0my\u001b[0m\u001b[0;34m,\u001b[0m \u001b[0mW_ls\u001b[0m\u001b[0;34m,\u001b[0m\u001b[0mlam\u001b[0m\u001b[0;34m,\u001b[0m\u001b[0msigma\u001b[0m\u001b[0;34m,\u001b[0m\u001b[0mgamma\u001b[0m\u001b[0;34m,\u001b[0m\u001b[0mrho\u001b[0m\u001b[0;34m,\u001b[0m\u001b[0mbeta\u001b[0m\u001b[0;34m,\u001b[0m\u001b[0mk\u001b[0m\u001b[0;34m,\u001b[0m\u001b[0mn\u001b[0m\u001b[0;34m,\u001b[0m\u001b[0mT\u001b[0m\u001b[0;34m)\u001b[0m\u001b[0;34m\u001b[0m\u001b[0;34m\u001b[0m\u001b[0m\n\u001b[0;32m--> 250\u001b[0;31m             \u001b[0malpha\u001b[0m \u001b[0;34m=\u001b[0m \u001b[0mget_alpha\u001b[0m\u001b[0;34m(\u001b[0m\u001b[0mx\u001b[0m\u001b[0;34m,\u001b[0m\u001b[0my\u001b[0m\u001b[0;34m,\u001b[0m \u001b[0mW_ls\u001b[0m\u001b[0;34m,\u001b[0m\u001b[0mlam\u001b[0m\u001b[0;34m,\u001b[0m\u001b[0msigma\u001b[0m\u001b[0;34m,\u001b[0m\u001b[0mgamma\u001b[0m\u001b[0;34m,\u001b[0m\u001b[0mrho\u001b[0m\u001b[0;34m,\u001b[0m\u001b[0mbeta\u001b[0m\u001b[0;34m,\u001b[0m\u001b[0mk\u001b[0m\u001b[0;34m,\u001b[0m\u001b[0mn\u001b[0m\u001b[0;34m,\u001b[0m\u001b[0mT\u001b[0m\u001b[0;34m)\u001b[0m\u001b[0;34m\u001b[0m\u001b[0;34m\u001b[0m\u001b[0m\n\u001b[0m\u001b[1;32m    251\u001b[0m             \u001b[0masymp_var\u001b[0m \u001b[0;34m=\u001b[0m \u001b[0mget_asymp_var\u001b[0m\u001b[0;34m(\u001b[0m\u001b[0mmy_params\u001b[0m\u001b[0;34m,\u001b[0m \u001b[0mx\u001b[0m\u001b[0;34m,\u001b[0m\u001b[0my\u001b[0m\u001b[0;34m,\u001b[0m \u001b[0mn\u001b[0m\u001b[0;34m,\u001b[0m \u001b[0mT\u001b[0m\u001b[0;34m,\u001b[0m \u001b[0mk\u001b[0m\u001b[0;34m,\u001b[0m \u001b[0mW_ls\u001b[0m\u001b[0;34m)\u001b[0m\u001b[0;34m\u001b[0m\u001b[0;34m\u001b[0m\u001b[0m\n\u001b[1;32m    252\u001b[0m             \u001b[0mprint\u001b[0m\u001b[0;34m(\u001b[0m\u001b[0;34m\"[sigma,lam,gamma,rho,beta] = \"\u001b[0m\u001b[0;34m,\u001b[0m\u001b[0;34m[\u001b[0m\u001b[0msigma\u001b[0m\u001b[0;34m,\u001b[0m \u001b[0mlam\u001b[0m\u001b[0;34m,\u001b[0m \u001b[0mgamma\u001b[0m\u001b[0;34m,\u001b[0m \u001b[0mrho\u001b[0m\u001b[0;34m,\u001b[0m \u001b[0mbeta\u001b[0m\u001b[0;34m]\u001b[0m\u001b[0;34m)\u001b[0m\u001b[0;34m\u001b[0m\u001b[0;34m\u001b[0m\u001b[0m\n",
      "\u001b[0;32m~/Dropbox/QMLE Estimation/var_and_coeff.py\u001b[0m in \u001b[0;36mget_alpha\u001b[0;34m(x, y, W_ls, lam, sigma, gamma, rho, beta, k, n, T)\u001b[0m\n\u001b[1;32m    404\u001b[0m         \u001b[0malpha_t\u001b[0m \u001b[0;34m=\u001b[0m \u001b[0mget_alpha_t\u001b[0m\u001b[0;34m(\u001b[0m\u001b[0mx\u001b[0m\u001b[0;34m,\u001b[0m\u001b[0my\u001b[0m\u001b[0;34m,\u001b[0m \u001b[0mW_ls\u001b[0m\u001b[0;34m,\u001b[0m\u001b[0mlam\u001b[0m\u001b[0;34m,\u001b[0m\u001b[0msigma\u001b[0m\u001b[0;34m,\u001b[0m\u001b[0mgamma\u001b[0m\u001b[0;34m,\u001b[0m\u001b[0mrho\u001b[0m\u001b[0;34m,\u001b[0m\u001b[0mbeta\u001b[0m\u001b[0;34m,\u001b[0m\u001b[0mk\u001b[0m\u001b[0;34m,\u001b[0m\u001b[0mn\u001b[0m\u001b[0;34m,\u001b[0m\u001b[0mT\u001b[0m\u001b[0;34m,\u001b[0m \u001b[0mi\u001b[0m\u001b[0;34m)\u001b[0m\u001b[0;34m\u001b[0m\u001b[0;34m\u001b[0m\u001b[0m\n\u001b[1;32m    405\u001b[0m         \u001b[0malpha\u001b[0m\u001b[0;34m.\u001b[0m\u001b[0mappend\u001b[0m\u001b[0;34m(\u001b[0m\u001b[0malpha_t\u001b[0m\u001b[0;34m)\u001b[0m\u001b[0;34m\u001b[0m\u001b[0;34m\u001b[0m\u001b[0m\n\u001b[0;32m--> 406\u001b[0;31m     \u001b[0;32mreturn\u001b[0m \u001b[0mnp\u001b[0m\u001b[0;34m.\u001b[0m\u001b[0marray\u001b[0m\u001b[0;34m(\u001b[0m\u001b[0malpha\u001b[0m\u001b[0;34m)\u001b[0m\u001b[0;34m.\u001b[0m\u001b[0mreshape\u001b[0m\u001b[0;34m(\u001b[0m\u001b[0mn\u001b[0m\u001b[0;34m,\u001b[0m\u001b[0;36m1\u001b[0m\u001b[0;34m)\u001b[0m\u001b[0;34m\u001b[0m\u001b[0;34m\u001b[0m\u001b[0m\n\u001b[0m\u001b[1;32m    407\u001b[0m \u001b[0;34m\u001b[0m\u001b[0m\n\u001b[1;32m    408\u001b[0m \u001b[0;31m# test passed\u001b[0m\u001b[0;34m\u001b[0m\u001b[0;34m\u001b[0m\u001b[0m\n",
      "\u001b[0;31mValueError\u001b[0m: cannot reshape array of size 10 into shape (49,1)"
     ]
    }
   ],
   "source": [
    "QMLE_scipy_estimate(x, y, W_ls,initial_guess = initial_guess, constrain= False, est_coeff = True)"
   ]
  },
  {
   "cell_type": "code",
   "execution_count": null,
   "id": "20f255cc-283e-4632-a845-c766fa0c2269",
   "metadata": {},
   "outputs": [],
   "source": []
  }
 ],
 "metadata": {
  "kernelspec": {
   "display_name": "Python 3 (ipykernel)",
   "language": "python",
   "name": "python3"
  },
  "language_info": {
   "codemirror_mode": {
    "name": "ipython",
    "version": 3
   },
   "file_extension": ".py",
   "mimetype": "text/x-python",
   "name": "python",
   "nbconvert_exporter": "python",
   "pygments_lexer": "ipython3",
   "version": "3.9.7"
  }
 },
 "nbformat": 4,
 "nbformat_minor": 5
}
