{
 "cells": [
  {
   "cell_type": "code",
   "execution_count": 1,
   "id": "1095f188-3792-4695-96fe-e649d1a6ab67",
   "metadata": {},
   "outputs": [],
   "source": [
    "from QMLE_scipy import *\n",
    "from explore import *"
   ]
  },
  {
   "cell_type": "markdown",
   "id": "65e7aa95-eff8-4d6c-8e72-58cc587c8a84",
   "metadata": {},
   "source": [
    "### 1. Test k=2"
   ]
  },
  {
   "cell_type": "code",
   "execution_count": 2,
   "id": "31c51542-b8e2-47c3-9700-cd541b3402d5",
   "metadata": {},
   "outputs": [],
   "source": [
    "# set up initial guess\n",
    "sigma = 1\n",
    "lam = 0.5\n",
    "gamma = 0.1\n",
    "rho = 0.2\n",
    "beta = np.array([1,2])\n",
    "params = [sigma,lam,gamma, rho, *beta]\n",
    "params\n",
    "\n",
    "# set up input data\n",
    "n = 4\n",
    "T = 4\n",
    "k = 2\n",
    "alpha = np.random.normal(0,1,4)\n",
    "c0 = np.random.normal(0,1,4)\n",
    "x1 = []\n",
    "for i in range(T):\n",
    "    x1.append(np.random.normal(0,1,n*k).reshape(n,k))\n",
    "y1 = []\n",
    "for i in range(T+1):\n",
    "    y1.append(np.random.normal(0,1,4))\n",
    "# manually setting up a row-normalized spatial weight vector with 0 diagonals for even time points\n",
    "w0 = np.array([[0,1,0,0],[1,0,0,0],[0,0,0,1],[0,1,0,0]]).reshape(4,4)\n",
    "w1 = np.array([[0,0,1,0],[1,0,0,0],[0,1,0,0],[1,0,0,0]]).reshape(4,4)\n",
    "W_ls = []\n",
    "for i in range(T+1):\n",
    "    if is_even(i):\n",
    "        W_ls.append(w0)\n",
    "    else:\n",
    "        W_ls.append(w1)"
   ]
  },
  {
   "cell_type": "code",
   "execution_count": 3,
   "id": "0664433e-9077-4956-b20e-df6da47e082f",
   "metadata": {},
   "outputs": [
    {
     "name": "stderr",
     "output_type": "stream",
     "text": [
      "/Users/helangchun/opt/anaconda3/lib/python3.9/site-packages/scipy/optimize/_hessian_update_strategy.py:182: UserWarning: delta_grad == 0.0. Check if the approximated function is linear. If the function is linear better results can be obtained by defining the Hessian as zero instead of using quasi-Newton approximations.\n",
      "  warn('delta_grad == 0.0. Check if the approximated '\n"
     ]
    }
   ],
   "source": [
    "# run optimization with constraints\n",
    "result = QMLE_scipy_estimate(x1, y1, W_ls,initial_guess = params,est_coeff = False)"
   ]
  },
  {
   "cell_type": "code",
   "execution_count": 4,
   "id": "aca88031-7a51-4938-9173-0a357ef38cc7",
   "metadata": {},
   "outputs": [
    {
     "data": {
      "text/plain": [
       "[0.7960795534069122,\n",
       " 0.3516828940512714,\n",
       " -0.1876339114390952,\n",
       " 0.3967686699928462,\n",
       " array([-0.92567808,  0.14851819])]"
      ]
     },
     "execution_count": 4,
     "metadata": {},
     "output_type": "execute_result"
    }
   ],
   "source": [
    "result.params"
   ]
  },
  {
   "cell_type": "code",
   "execution_count": 5,
   "id": "5ce48aef-c69c-4264-b500-ad773dca8ee2",
   "metadata": {},
   "outputs": [
    {
     "data": {
      "text/plain": [
       "-0.1876339114390952"
      ]
     },
     "execution_count": 5,
     "metadata": {},
     "output_type": "execute_result"
    }
   ],
   "source": [
    "result.gamma()"
   ]
  },
  {
   "cell_type": "code",
   "execution_count": 6,
   "id": "7dd8ea68-945e-4678-bbbe-858543ee0bd1",
   "metadata": {},
   "outputs": [
    {
     "data": {
      "text/plain": [
       "-0.17456338672509997"
      ]
     },
     "execution_count": 6,
     "metadata": {},
     "output_type": "execute_result"
    }
   ],
   "source": [
    "result.residual_mean()"
   ]
  },
  {
   "cell_type": "code",
   "execution_count": 7,
   "id": "b33e0b9e-8ff2-4e9c-8dc4-a581f208dce4",
   "metadata": {},
   "outputs": [
    {
     "data": {
      "text/plain": [
       "0.7230924663053737"
      ]
     },
     "execution_count": 7,
     "metadata": {},
     "output_type": "execute_result"
    }
   ],
   "source": [
    "result.residual_std()"
   ]
  },
  {
   "cell_type": "code",
   "execution_count": 8,
   "id": "3f4cb89b-3ae8-4d26-a0c7-ee22f169940c",
   "metadata": {},
   "outputs": [
    {
     "data": {
      "text/plain": [
       "array([[ 0.14642534,  0.11046095, -0.04967592, -0.06673693, -0.00620082,\n",
       "        -0.00388322],\n",
       "       [ 0.11046095,  0.22903132, -0.10676837, -0.04390049,  0.0085739 ,\n",
       "         0.00131084],\n",
       "       [-0.04967592, -0.10676837,  0.14581486,  0.03198589, -0.03174064,\n",
       "        -0.00954728],\n",
       "       [-0.06673693, -0.04390049,  0.03198589,  0.09327817, -0.01633044,\n",
       "        -0.0044735 ],\n",
       "       [-0.00620082,  0.0085739 , -0.03174064, -0.01633044,  0.10031501,\n",
       "         0.03197351],\n",
       "       [-0.00388322,  0.00131084, -0.00954728, -0.0044735 ,  0.03197351,\n",
       "         0.06822769]])"
      ]
     },
     "execution_count": 8,
     "metadata": {},
     "output_type": "execute_result"
    }
   ],
   "source": [
    "result.asymp_var()"
   ]
  },
  {
   "cell_type": "code",
   "execution_count": 9,
   "id": "e05d8b06-e33d-4574-92b8-a1152b9c3b66",
   "metadata": {},
   "outputs": [
    {
     "name": "stdout",
     "output_type": "stream",
     "text": [
      "Residuals:\n",
      "     Min         1Q     Median       3Q       Max\n",
      "--------  ---------  ---------  -------  --------\n",
      "-1.83015  -0.418611  0.0511063  0.29274  0.802542\n",
      "\n",
      "Estimated Parameters:\n",
      "  Sigma    Lambda      Gamma       Rho  Beta\n",
      "-------  --------  ---------  --------  -------------------------\n",
      "0.79608  0.351683  -0.187634  0.396769  [-0.92567808  0.14851819]\n",
      "\n",
      "Estimated alpha (display first 10 rows): \n",
      "  alpha_0    alpha_1     alpha_2    alpha_3\n",
      "---------  ---------  ----------  ---------\n",
      " 0.258994  -0.412609  -0.0845264   0.238142\n",
      "\n",
      "Estimated c0 (display first 10 rows): \n",
      "     c0_0      c0_1       c0_2      c0_3\n",
      "---------  --------  ---------  --------\n",
      "-0.199493  0.734334  -0.265818  0.152097\n",
      "\n",
      "Estimated asympotitic variance: \n",
      "               Gamma          Rho       Beta_0      Beta_1       Lambda      Sigma^2\n",
      "-------  -----------  -----------  -----------  ----------  -----------  -----------\n",
      "Gamma     0.146425     0.110461    -0.0496759   -0.0667369  -0.00620082  -0.00388322\n",
      "Rho       0.110461     0.229031    -0.106768    -0.0439005   0.0085739    0.00131084\n",
      "Beta_0   -0.0496759   -0.106768     0.145815     0.0319859  -0.0317406   -0.00954728\n",
      "Beta_1   -0.0667369   -0.0439005    0.0319859    0.0932782  -0.0163304   -0.0044735\n",
      "Lambda   -0.00620082   0.0085739   -0.0317406   -0.0163304   0.100315     0.0319735\n",
      "Sigma^2  -0.00388322   0.00131084  -0.00954728  -0.0044735   0.0319735    0.0682277\n",
      "\n"
     ]
    }
   ],
   "source": [
    "result.print_table()"
   ]
  },
  {
   "cell_type": "code",
   "execution_count": 11,
   "id": "e40fe90a-04cb-46e6-a617-81d531badc45",
   "metadata": {},
   "outputs": [],
   "source": [
    "result = QMLE_scipy_estimate(x1, y1, W_ls,initial_guess = params, constrain= False)"
   ]
  },
  {
   "cell_type": "code",
   "execution_count": 12,
   "id": "5988562c-9801-4b73-9f9e-9b356af1001c",
   "metadata": {},
   "outputs": [
    {
     "name": "stdout",
     "output_type": "stream",
     "text": [
      "Residuals:\n",
      "     Min         1Q    Median        3Q      Max\n",
      "--------  ---------  --------  --------  -------\n",
      "-1.53149  -0.638114   0.11643  0.686326  1.35756\n",
      "\n",
      "Estimated Parameters:\n",
      "  Sigma    Lambda      Gamma        Rho  Beta\n",
      "-------  --------  ---------  ---------  -------------------------\n",
      "1.09333  0.983577  -0.696034  0.0881744  [-1.07835509  0.34635336]\n",
      "\n",
      "Estimated alpha (display first 10 rows): \n",
      "  alpha_0    alpha_1    alpha_2    alpha_3\n",
      "---------  ---------  ---------  ---------\n",
      " 0.708948   -1.03964  0.0618047   0.268884\n",
      "\n",
      "Estimated c0 (display first 10 rows): \n",
      "     c0_0      c0_1       c0_2       c0_3\n",
      "---------  --------  ---------  ---------\n",
      "-0.489306  0.608697  -0.889519  -0.206171\n",
      "\n",
      "Estimated asympotitic variance: \n",
      "               Gamma          Rho      Beta_0      Beta_1      Lambda      Sigma^2\n",
      "-------  -----------  -----------  ----------  ----------  ----------  -----------\n",
      "Gamma     0.287617     0.218237    -0.0922129  -0.129178   -0.0172564  -0.00320748\n",
      "Rho       0.218237     0.437052    -0.189218   -0.080001   -0.0190195  -0.00825462\n",
      "Beta_0   -0.0922129   -0.189218     0.0917998  -0.0108541   0.319608    0.299522\n",
      "Beta_1   -0.129178    -0.080001    -0.0108541   0.148855    0.121462    0.110539\n",
      "Lambda   -0.0172564   -0.0190195    0.319608    0.121462   -0.617572   -0.586041\n",
      "Sigma^2  -0.00320748  -0.00825462   0.299522    0.110539   -0.586041   -0.469431\n",
      "\n"
     ]
    }
   ],
   "source": [
    "result.print_table()"
   ]
  },
  {
   "cell_type": "markdown",
   "id": "e60c9c45-fcc3-4408-8089-4fa026380eae",
   "metadata": {},
   "source": [
    "### 2. Test k=1"
   ]
  },
  {
   "cell_type": "code",
   "execution_count": 13,
   "id": "87a4998f-3bf1-4082-b18f-4e4404adfe4c",
   "metadata": {},
   "outputs": [],
   "source": [
    "# set up initial guess\n",
    "initial_guess = [1.5,0.2,0.5,0.3,1.2] # in the order sigma, lam, gamma, rho, beta (all real numbers)\n",
    "\n",
    "n = 20\n",
    "k = 1\n",
    "T = 10\n",
    "\n",
    "# generate samples\n",
    "t_theta = [0.1,0.2,np.array([1]).reshape(k,1),0.5,1] # true parameters\n",
    "t_gamma, t_rho, t_beta, t_lam, t_sig = t_theta\n",
    "alpha = np.random.normal(0,1,T).reshape(T,1)\n",
    "c0 = np.random.normal(0,1,n).reshape(n,1)\n",
    "l_n = np.ones(n).reshape(n,1)\n",
    "x = []\n",
    "for i in range(T):\n",
    "    x.append(np.random.normal(0,1,n).reshape(n,k))\n",
    "# manually setting up a row-normalized spatial weight vector with 0 diagonals for even time points\n",
    "w0 = generate_weight_matrix(n)\n",
    "w1 = generate_weight_matrix(n)\n",
    "\n",
    "W_ls = []\n",
    "for i in range(T+1):\n",
    "    if is_even(i):\n",
    "        W_ls.append(w0)\n",
    "    else:\n",
    "        W_ls.append(w1)\n",
    "\n",
    "        V_nt = []\n",
    "for i in range(T):\n",
    "    V_nt.append(np.random.normal(0,t_sig,n).reshape(n,1))\n",
    "\n",
    "Y0 = np.random.normal(0,1,n).reshape(n,1)\n",
    "\n",
    "y = []\n",
    "y.append(Y0)\n",
    "for i in range(T):\n",
    "    c_vec = t_gamma*y[i]+t_rho*np.matmul(W_ls[i],np.array(y[i]).reshape(n,1))+np.matmul(x[i],np.array(t_beta).reshape(k,1))+c0+alpha[i][0]*l_n+V_nt[i]\n",
    "    Y_nt = np.matmul(np.linalg.inv(np.identity(n)-t_lam*W_ls[i+1]),c_vec).reshape(n,1)\n",
    "    y.append(Y_nt)"
   ]
  },
  {
   "cell_type": "code",
   "execution_count": 14,
   "id": "3d7e7263-4a35-4967-87c5-561b80234183",
   "metadata": {},
   "outputs": [],
   "source": [
    "result = QMLE_scipy_estimate(x, y, W_ls,initial_guess = initial_guess, constrain= False)"
   ]
  },
  {
   "cell_type": "code",
   "execution_count": 15,
   "id": "62d532d3-e784-455e-bad7-3b3b9e011d30",
   "metadata": {},
   "outputs": [
    {
     "name": "stdout",
     "output_type": "stream",
     "text": [
      "Residuals:\n",
      "     Min        1Q     Median        3Q      Max\n",
      "--------  --------  ---------  --------  -------\n",
      "-4.20873  -1.40484  -0.611157  0.270158  2.64376\n",
      "\n",
      "Estimated Parameters:\n",
      "  Sigma    Lambda      Gamma       Rho     Beta\n",
      "-------  --------  ---------  --------  -------\n",
      "1.01538  0.503294  0.0745974  0.215233  1.15498\n",
      "\n",
      "Estimated alpha (display first 10 rows): \n",
      "  alpha_0    alpha_1    alpha_2    alpha_3     alpha_4    alpha_5     alpha_6    alpha_7    alpha_8    alpha_9\n",
      "---------  ---------  ---------  ---------  ----------  ---------  ----------  ---------  ---------  ---------\n",
      " -0.13756   0.437013  -0.294963   0.393413  -0.0330562  -0.698087  -0.0655998  0.0522773    1.46529   -1.11872\n",
      "\n",
      "Estimated c0 (display first 10 rows): \n",
      "     c0_0     c0_1       c0_2       c0_3       c0_4      c0_5      c0_6      c0_7       c0_8       c0_9\n",
      "---------  -------  ---------  ---------  ---------  --------  --------  --------  ---------  ---------\n",
      "-0.354209  1.39985  0.0387434  -0.387587  -0.177494  0.101461  0.160698  -1.08802  0.0516722  -0.139213\n",
      "\n",
      "Estimated asympotitic variance: \n",
      "                Gamma           Rho        Beta_0        Lambda       Sigma^2\n",
      "-------  ------------  ------------  ------------  ------------  ------------\n",
      "Gamma     0.00224199   -0.000917666   0.000573877   0.00042376    6.17888e-05\n",
      "Rho      -0.000917666   0.00226529   -0.000612552  -0.000348467  -5.00621e-05\n",
      "Beta_0    0.000573877  -0.000612552   0.00635966    0.000590344   8.47312e-05\n",
      "Lambda    0.00042376   -0.000348467   0.000590344   0.00628303    0.000916536\n",
      "Sigma^2   6.17888e-05  -5.00621e-05   8.47312e-05   0.000916536   0.0524752\n",
      "\n"
     ]
    }
   ],
   "source": [
    "result.print_table()"
   ]
  },
  {
   "cell_type": "code",
   "execution_count": 16,
   "id": "d783a776-c1d3-4a79-b55d-ca4245f5ccd6",
   "metadata": {},
   "outputs": [],
   "source": [
    "result = QMLE_scipy_estimate(x, y, W_ls,initial_guess = initial_guess, constrain= False)"
   ]
  },
  {
   "cell_type": "code",
   "execution_count": 17,
   "id": "20f255cc-283e-4632-a845-c766fa0c2269",
   "metadata": {},
   "outputs": [
    {
     "name": "stdout",
     "output_type": "stream",
     "text": [
      "Residuals:\n",
      "     Min        1Q     Median        3Q      Max\n",
      "--------  --------  ---------  --------  -------\n",
      "-4.20873  -1.40484  -0.611157  0.270158  2.64376\n",
      "\n",
      "Estimated Parameters:\n",
      "  Sigma    Lambda      Gamma       Rho     Beta\n",
      "-------  --------  ---------  --------  -------\n",
      "1.01538  0.503294  0.0745974  0.215233  1.15498\n",
      "\n",
      "Estimated alpha (display first 10 rows): \n",
      "  alpha_0    alpha_1    alpha_2    alpha_3     alpha_4    alpha_5     alpha_6    alpha_7    alpha_8    alpha_9\n",
      "---------  ---------  ---------  ---------  ----------  ---------  ----------  ---------  ---------  ---------\n",
      " -0.13756   0.437013  -0.294963   0.393413  -0.0330562  -0.698087  -0.0655998  0.0522773    1.46529   -1.11872\n",
      "\n",
      "Estimated c0 (display first 10 rows): \n",
      "     c0_0     c0_1       c0_2       c0_3       c0_4      c0_5      c0_6      c0_7       c0_8       c0_9\n",
      "---------  -------  ---------  ---------  ---------  --------  --------  --------  ---------  ---------\n",
      "-0.354209  1.39985  0.0387434  -0.387587  -0.177494  0.101461  0.160698  -1.08802  0.0516722  -0.139213\n",
      "\n",
      "Estimated asympotitic variance: \n",
      "                Gamma           Rho        Beta_0        Lambda       Sigma^2\n",
      "-------  ------------  ------------  ------------  ------------  ------------\n",
      "Gamma     0.00224199   -0.000917666   0.000573877   0.00042376    6.17888e-05\n",
      "Rho      -0.000917666   0.00226529   -0.000612552  -0.000348467  -5.00621e-05\n",
      "Beta_0    0.000573877  -0.000612552   0.00635966    0.000590344   8.47312e-05\n",
      "Lambda    0.00042376   -0.000348467   0.000590344   0.00628303    0.000916536\n",
      "Sigma^2   6.17888e-05  -5.00621e-05   8.47312e-05   0.000916536   0.0524752\n",
      "\n"
     ]
    }
   ],
   "source": [
    "result.print_table()"
   ]
  },
  {
   "cell_type": "code",
   "execution_count": null,
   "id": "b8e9506e-ac41-4f03-a727-c27d88e1b91b",
   "metadata": {},
   "outputs": [],
   "source": []
  },
  {
   "cell_type": "code",
   "execution_count": null,
   "id": "fa858079-a3b8-407e-ba80-249600467b2c",
   "metadata": {},
   "outputs": [],
   "source": []
  }
 ],
 "metadata": {
  "kernelspec": {
   "display_name": "Python 3 (ipykernel)",
   "language": "python",
   "name": "python3"
  },
  "language_info": {
   "codemirror_mode": {
    "name": "ipython",
    "version": 3
   },
   "file_extension": ".py",
   "mimetype": "text/x-python",
   "name": "python",
   "nbconvert_exporter": "python",
   "pygments_lexer": "ipython3",
   "version": "3.9.7"
  }
 },
 "nbformat": 4,
 "nbformat_minor": 5
}
