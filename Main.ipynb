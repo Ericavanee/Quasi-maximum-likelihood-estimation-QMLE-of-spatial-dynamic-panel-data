{
 "cells": [
  {
   "cell_type": "code",
   "execution_count": 1,
   "id": "1095f188-3792-4695-96fe-e649d1a6ab67",
   "metadata": {},
   "outputs": [],
   "source": [
    "from QMLE_scipy import *\n",
    "from explore import *"
   ]
  },
  {
   "cell_type": "markdown",
   "id": "65e7aa95-eff8-4d6c-8e72-58cc587c8a84",
   "metadata": {},
   "source": [
    "### 1. Test k=2"
   ]
  },
  {
   "cell_type": "code",
   "execution_count": 2,
   "id": "31c51542-b8e2-47c3-9700-cd541b3402d5",
   "metadata": {},
   "outputs": [],
   "source": [
    "# set up initial guess\n",
    "sigma = 1\n",
    "lam = 0.5\n",
    "gamma = 0.1\n",
    "rho = 0.2\n",
    "beta = np.array([1,2])\n",
    "params = [sigma,lam,gamma, rho, *beta]\n",
    "params\n",
    "\n",
    "# set up input data\n",
    "n = 4\n",
    "T = 4\n",
    "k = 2\n",
    "alpha = np.random.normal(0,1,4)\n",
    "c0 = np.random.normal(0,1,4)\n",
    "x1 = []\n",
    "for i in range(T):\n",
    "    x1.append(np.random.normal(0,1,n*k).reshape(n,k))\n",
    "y1 = []\n",
    "for i in range(T+1):\n",
    "    y1.append(np.random.normal(0,1,4))\n",
    "# manually setting up a row-normalized spatial weight vector with 0 diagonals for even time points\n",
    "w0 = np.array([[0,1,0,0],[1,0,0,0],[0,0,0,1],[0,1,0,0]]).reshape(4,4)\n",
    "w1 = np.array([[0,0,1,0],[1,0,0,0],[0,1,0,0],[1,0,0,0]]).reshape(4,4)\n",
    "W_ls = []\n",
    "for i in range(T+1):\n",
    "    if is_even(i):\n",
    "        W_ls.append(w0)\n",
    "    else:\n",
    "        W_ls.append(w1)"
   ]
  },
  {
   "cell_type": "code",
   "execution_count": 3,
   "id": "0664433e-9077-4956-b20e-df6da47e082f",
   "metadata": {},
   "outputs": [
    {
     "name": "stderr",
     "output_type": "stream",
     "text": [
      "/Users/helangchun/opt/anaconda3/lib/python3.9/site-packages/scipy/optimize/_hessian_update_strategy.py:182: UserWarning: delta_grad == 0.0. Check if the approximated function is linear. If the function is linear better results can be obtained by defining the Hessian as zero instead of using quasi-Newton approximations.\n",
      "  warn('delta_grad == 0.0. Check if the approximated '\n"
     ]
    }
   ],
   "source": [
    "# run optimization with constraints\n",
    "result = QMLE_scipy_estimate(x1, y1, W_ls,initial_guess = params,est_coeff = False)"
   ]
  },
  {
   "cell_type": "code",
   "execution_count": 4,
   "id": "aca88031-7a51-4938-9173-0a357ef38cc7",
   "metadata": {},
   "outputs": [
    {
     "data": {
      "text/plain": [
       "[0.5985128708323901,\n",
       " 0.39547183896204746,\n",
       " 0.7199917965804363,\n",
       " 0.8419632110515725,\n",
       " array([ 0.11787892, -0.94836582])]"
      ]
     },
     "execution_count": 4,
     "metadata": {},
     "output_type": "execute_result"
    }
   ],
   "source": [
    "result.params"
   ]
  },
  {
   "cell_type": "code",
   "execution_count": 5,
   "id": "5ce48aef-c69c-4264-b500-ad773dca8ee2",
   "metadata": {},
   "outputs": [
    {
     "data": {
      "text/plain": [
       "0.7199917965804363"
      ]
     },
     "execution_count": 5,
     "metadata": {},
     "output_type": "execute_result"
    }
   ],
   "source": [
    "result.gamma()"
   ]
  },
  {
   "cell_type": "code",
   "execution_count": 6,
   "id": "7dd8ea68-945e-4678-bbbe-858543ee0bd1",
   "metadata": {},
   "outputs": [
    {
     "data": {
      "text/plain": [
       "-0.07903003992271959"
      ]
     },
     "execution_count": 6,
     "metadata": {},
     "output_type": "execute_result"
    }
   ],
   "source": [
    "result.residual_mean()"
   ]
  },
  {
   "cell_type": "code",
   "execution_count": 7,
   "id": "b33e0b9e-8ff2-4e9c-8dc4-a581f208dce4",
   "metadata": {},
   "outputs": [
    {
     "data": {
      "text/plain": [
       "0.6222983690459347"
      ]
     },
     "execution_count": 7,
     "metadata": {},
     "output_type": "execute_result"
    }
   ],
   "source": [
    "result.residual_std()"
   ]
  },
  {
   "cell_type": "code",
   "execution_count": 8,
   "id": "3f4cb89b-3ae8-4d26-a0c7-ee22f169940c",
   "metadata": {},
   "outputs": [
    {
     "ename": "TypeError",
     "evalue": "'numpy.ndarray' object is not callable",
     "output_type": "error",
     "traceback": [
      "\u001b[0;31m---------------------------------------------------------------------------\u001b[0m",
      "\u001b[0;31mTypeError\u001b[0m                                 Traceback (most recent call last)",
      "\u001b[0;32m/var/folders/44/8_54q8w53q34chh_wjy62nyw0000gn/T/ipykernel_79009/2091981515.py\u001b[0m in \u001b[0;36m<module>\u001b[0;34m\u001b[0m\n\u001b[0;32m----> 1\u001b[0;31m \u001b[0mresult\u001b[0m\u001b[0;34m.\u001b[0m\u001b[0masymptotic_var\u001b[0m\u001b[0;34m(\u001b[0m\u001b[0;34m)\u001b[0m\u001b[0;34m\u001b[0m\u001b[0;34m\u001b[0m\u001b[0m\n\u001b[0m",
      "\u001b[0;31mTypeError\u001b[0m: 'numpy.ndarray' object is not callable"
     ]
    }
   ],
   "source": [
    "result.asymptotic_var()"
   ]
  },
  {
   "cell_type": "code",
   "execution_count": 8,
   "id": "e05d8b06-e33d-4574-92b8-a1152b9c3b66",
   "metadata": {},
   "outputs": [
    {
     "name": "stdout",
     "output_type": "stream",
     "text": [
      "Residuals:\n",
      "    Min         1Q    Median        3Q      Max\n",
      "-------  ---------  --------  --------  -------\n",
      "-1.7039  -0.435898  0.143706  0.838157  1.33128\n",
      "\n",
      "Estimated Parameters:\n",
      "   Sigma    Lambda     Gamma        Rho  Beta\n",
      "--------  --------  --------  ---------  -------------------------\n",
      "0.667192  0.312994  -0.11039  0.0288835  [ 0.23643699 -0.40589926]\n",
      "\n",
      "Estimated alpha (display first 10 rows): \n",
      "  alpha_0    alpha_1    alpha_2    alpha_3\n",
      "---------  ---------  ---------  ---------\n",
      "0.0721547   0.499961  -0.236105  -0.336011\n",
      "\n",
      "Estimated c0 (display first 10 rows): \n",
      "     c0_0      c0_1      c0_2      c0_3\n",
      "---------  --------  --------  --------\n",
      "-0.562749  0.771059  0.151581  0.434114\n",
      "\n",
      "Estimated asympotitic variance: \n"
     ]
    },
    {
     "ename": "TypeError",
     "evalue": "'int' object is not subscriptable",
     "output_type": "error",
     "traceback": [
      "\u001b[0;31m---------------------------------------------------------------------------\u001b[0m",
      "\u001b[0;31mTypeError\u001b[0m                                 Traceback (most recent call last)",
      "\u001b[0;32m/var/folders/44/8_54q8w53q34chh_wjy62nyw0000gn/T/ipykernel_78958/1482757206.py\u001b[0m in \u001b[0;36m<module>\u001b[0;34m\u001b[0m\n\u001b[0;32m----> 1\u001b[0;31m \u001b[0mresult\u001b[0m\u001b[0;34m.\u001b[0m\u001b[0mprint_table\u001b[0m\u001b[0;34m(\u001b[0m\u001b[0;34m)\u001b[0m\u001b[0;34m\u001b[0m\u001b[0;34m\u001b[0m\u001b[0m\n\u001b[0m",
      "\u001b[0;32m~/Dropbox/QMLE Estimation/QMLE_scipy.py\u001b[0m in \u001b[0;36mprint_table\u001b[0;34m(self)\u001b[0m\n\u001b[1;32m    268\u001b[0m         \u001b[0;32mfor\u001b[0m \u001b[0mi\u001b[0m \u001b[0;32min\u001b[0m \u001b[0mrange\u001b[0m\u001b[0;34m(\u001b[0m\u001b[0mbeta_len\u001b[0m\u001b[0;34m+\u001b[0m\u001b[0;36m4\u001b[0m\u001b[0;34m)\u001b[0m\u001b[0;34m:\u001b[0m\u001b[0;34m\u001b[0m\u001b[0;34m\u001b[0m\u001b[0m\n\u001b[1;32m    269\u001b[0m             \u001b[0mtemp\u001b[0m \u001b[0;34m=\u001b[0m \u001b[0;34m[\u001b[0m\u001b[0masymp_var_names\u001b[0m\u001b[0;34m[\u001b[0m\u001b[0mi\u001b[0m\u001b[0;34m]\u001b[0m\u001b[0;34m]\u001b[0m\u001b[0;34m\u001b[0m\u001b[0;34m\u001b[0m\u001b[0m\n\u001b[0;32m--> 270\u001b[0;31m             \u001b[0mtemp\u001b[0m\u001b[0;34m.\u001b[0m\u001b[0mextend\u001b[0m\u001b[0;34m(\u001b[0m\u001b[0mself\u001b[0m\u001b[0;34m.\u001b[0m\u001b[0masymptotic_var\u001b[0m\u001b[0;34m[\u001b[0m\u001b[0mi\u001b[0m\u001b[0;34m]\u001b[0m\u001b[0;34m)\u001b[0m\u001b[0;34m\u001b[0m\u001b[0;34m\u001b[0m\u001b[0m\n\u001b[0m\u001b[1;32m    271\u001b[0m             \u001b[0masymp_var_data\u001b[0m\u001b[0;34m.\u001b[0m\u001b[0mappend\u001b[0m\u001b[0;34m(\u001b[0m\u001b[0mtemp\u001b[0m\u001b[0;34m)\u001b[0m\u001b[0;34m\u001b[0m\u001b[0;34m\u001b[0m\u001b[0m\n\u001b[1;32m    272\u001b[0m         \u001b[0mprint\u001b[0m\u001b[0;34m(\u001b[0m\u001b[0mtabulate\u001b[0m\u001b[0;34m(\u001b[0m\u001b[0masymp_var_data\u001b[0m\u001b[0;34m,\u001b[0m \u001b[0mheaders\u001b[0m\u001b[0;34m=\u001b[0m\u001b[0masymp_var_names\u001b[0m\u001b[0;34m,\u001b[0m\u001b[0mtablefmt\u001b[0m\u001b[0;34m=\u001b[0m\u001b[0;34m\"simple\"\u001b[0m\u001b[0;34m)\u001b[0m\u001b[0;34m)\u001b[0m\u001b[0;34m\u001b[0m\u001b[0;34m\u001b[0m\u001b[0m\n",
      "\u001b[0;31mTypeError\u001b[0m: 'int' object is not subscriptable"
     ]
    }
   ],
   "source": [
    "result.print_table()"
   ]
  },
  {
   "cell_type": "code",
   "execution_count": 9,
   "id": "e40fe90a-04cb-46e6-a617-81d531badc45",
   "metadata": {},
   "outputs": [],
   "source": [
    "result = QMLE_scipy_estimate(x1, y1, W_ls,initial_guess = params, constrain= False)"
   ]
  },
  {
   "cell_type": "code",
   "execution_count": 10,
   "id": "5988562c-9801-4b73-9f9e-9b356af1001c",
   "metadata": {},
   "outputs": [
    {
     "name": "stdout",
     "output_type": "stream",
     "text": [
      "Residuals:\n",
      "     Min         1Q      Median        3Q      Max\n",
      "--------  ---------  ----------  --------  -------\n",
      "-1.42818  -0.618803  -0.0494101  0.434941  1.98379\n",
      "\n",
      "Estimated Parameters:\n",
      "   Sigma     Lambda     Gamma      Rho  Beta\n",
      "--------  ---------  --------  -------  -------------------------\n",
      "0.515758  -0.610867  0.506756  0.25335  [-0.53539343  0.06759927]\n",
      "\n",
      "Estimated alpha (display first 10 rows): \n",
      "  alpha_0    alpha_1    alpha_2    alpha_3\n",
      "---------  ---------  ---------  ---------\n",
      " 0.028828  -0.359024  -0.362082   0.692278\n",
      "\n",
      "Estimated c0 (display first 10 rows): \n",
      "     c0_0       c0_1      c0_2       c0_3\n",
      "---------  ---------  --------  ---------\n",
      "-0.642871  -0.179963  0.610228  0.0628039\n",
      "\n",
      "Estimated asympotitic variance: \n",
      "              Gamma         Rho      Beta_0      Beta_1      Lambda     Sigma^2\n",
      "-------  ----------  ----------  ----------  ----------  ----------  ----------\n",
      "Gamma     0.690924    0.922535    0.0550924   0.710401   -0.886098   -0.277231\n",
      "Rho       0.922535    1.28883     0.0923938   1.00022    -1.23699    -0.386866\n",
      "Beta_0    0.0550924   0.0923938   0.0377554   0.0824701  -0.0902469  -0.0288757\n",
      "Beta_1    0.710401    1.00022     0.0824701   0.824616   -0.993499   -0.310301\n",
      "Lambda   -0.886098   -1.23699    -0.0902469  -0.993499    1.27482     0.398051\n",
      "Sigma^2  -0.277231   -0.386866   -0.0288757  -0.310301    0.398051    0.326065\n",
      "\n"
     ]
    }
   ],
   "source": [
    "result.print_table()"
   ]
  },
  {
   "cell_type": "markdown",
   "id": "e60c9c45-fcc3-4408-8089-4fa026380eae",
   "metadata": {},
   "source": [
    "### 2. Test k=1"
   ]
  },
  {
   "cell_type": "code",
   "execution_count": 11,
   "id": "87a4998f-3bf1-4082-b18f-4e4404adfe4c",
   "metadata": {},
   "outputs": [],
   "source": [
    "# set up initial guess\n",
    "initial_guess = [1.5,0.2,0.5,0.3,1.2] # in the order sigma, lam, gamma, rho, beta (all real numbers)\n",
    "\n",
    "n = 20\n",
    "k = 1\n",
    "T = 10\n",
    "\n",
    "# generate samples\n",
    "t_theta = [0.1,0.2,np.array([1]).reshape(k,1),0.5,1] # true parameters\n",
    "t_gamma, t_rho, t_beta, t_lam, t_sig = t_theta\n",
    "alpha = np.random.normal(0,1,T).reshape(T,1)\n",
    "c0 = np.random.normal(0,1,n).reshape(n,1)\n",
    "l_n = np.ones(n).reshape(n,1)\n",
    "x = []\n",
    "for i in range(T):\n",
    "    x.append(np.random.normal(0,1,n).reshape(n,k))\n",
    "# manually setting up a row-normalized spatial weight vector with 0 diagonals for even time points\n",
    "w0 = generate_weight_matrix(n)\n",
    "w1 = generate_weight_matrix(n)\n",
    "\n",
    "W_ls = []\n",
    "for i in range(T+1):\n",
    "    if is_even(i):\n",
    "        W_ls.append(w0)\n",
    "    else:\n",
    "        W_ls.append(w1)\n",
    "\n",
    "        V_nt = []\n",
    "for i in range(T):\n",
    "    V_nt.append(np.random.normal(0,t_sig,n).reshape(n,1))\n",
    "\n",
    "Y0 = np.random.normal(0,1,n).reshape(n,1)\n",
    "\n",
    "y = []\n",
    "y.append(Y0)\n",
    "for i in range(T):\n",
    "    c_vec = t_gamma*y[i]+t_rho*np.matmul(W_ls[i],np.array(y[i]).reshape(n,1))+np.matmul(x[i],np.array(t_beta).reshape(k,1))+c0+alpha[i][0]*l_n+V_nt[i]\n",
    "    Y_nt = np.matmul(np.linalg.inv(np.identity(n)-t_lam*W_ls[i+1]),c_vec).reshape(n,1)\n",
    "    y.append(Y_nt)"
   ]
  },
  {
   "cell_type": "code",
   "execution_count": 12,
   "id": "3d7e7263-4a35-4967-87c5-561b80234183",
   "metadata": {},
   "outputs": [],
   "source": [
    "result = QMLE_scipy_estimate(x, y, W_ls,initial_guess = initial_guess, constrain= False)"
   ]
  },
  {
   "cell_type": "code",
   "execution_count": 13,
   "id": "62d532d3-e784-455e-bad7-3b3b9e011d30",
   "metadata": {},
   "outputs": [
    {
     "name": "stdout",
     "output_type": "stream",
     "text": [
      "Residuals:\n",
      "     Min         1Q     Median       3Q      Max\n",
      "--------  ---------  ---------  -------  -------\n",
      "-2.96032  -0.887209  -0.177504  0.66945  2.53825\n",
      "\n",
      "Estimated Parameters:\n",
      "   Sigma    Lambda      Gamma       Rho    Beta\n",
      "--------  --------  ---------  --------  ------\n",
      "0.886987  0.586125  0.0841225  0.247246  1.0118\n",
      "\n",
      "Estimated alpha (display first 10 rows): \n",
      "  alpha_0    alpha_1    alpha_2    alpha_3    alpha_4    alpha_5    alpha_6    alpha_7    alpha_8    alpha_9\n",
      "---------  ---------  ---------  ---------  ---------  ---------  ---------  ---------  ---------  ---------\n",
      " 0.635878   -0.62355  -0.953056  -0.848211  -0.790451   0.398596   0.844455   0.401626   0.749717   0.184994\n",
      "\n",
      "Estimated c0 (display first 10 rows): \n",
      "     c0_0    c0_1       c0_2       c0_3      c0_4      c0_5     c0_6      c0_7      c0_8      c0_9\n",
      "---------  ------  ---------  ---------  --------  --------  -------  --------  --------  --------\n",
      "-0.665242  0.6764  -0.382798  -0.293082  0.756522  0.374974  1.06722  0.493501  0.234836  0.535993\n",
      "\n",
      "Estimated asympotitic variance: \n",
      "                Gamma           Rho        Beta_0        Lambda       Sigma^2\n",
      "-------  ------------  ------------  ------------  ------------  ------------\n",
      "Gamma     0.00207261   -0.000661344  -0.000180732   0.000112658   1.19266e-05\n",
      "Rho      -0.000661344   0.00185515    5.43625e-05  -0.000187864  -2.05265e-05\n",
      "Beta_0   -0.000180732   5.43625e-05   0.00440809    0.00014942    1.55575e-05\n",
      "Lambda    0.000112658  -0.000187864   0.00014942    0.00242393    0.000255942\n",
      "Sigma^2   1.19266e-05  -2.05265e-05   1.55575e-05   0.000255942   0.0104108\n",
      "\n"
     ]
    }
   ],
   "source": [
    "result.print_table()"
   ]
  },
  {
   "cell_type": "code",
   "execution_count": 14,
   "id": "d783a776-c1d3-4a79-b55d-ca4245f5ccd6",
   "metadata": {},
   "outputs": [],
   "source": [
    "result = QMLE_scipy_estimate(x, y, W_ls,initial_guess = initial_guess, constrain= False)"
   ]
  },
  {
   "cell_type": "code",
   "execution_count": 15,
   "id": "20f255cc-283e-4632-a845-c766fa0c2269",
   "metadata": {},
   "outputs": [
    {
     "name": "stdout",
     "output_type": "stream",
     "text": [
      "Residuals:\n",
      "     Min         1Q     Median       3Q      Max\n",
      "--------  ---------  ---------  -------  -------\n",
      "-2.96032  -0.887209  -0.177504  0.66945  2.53825\n",
      "\n",
      "Estimated Parameters:\n",
      "   Sigma    Lambda      Gamma       Rho    Beta\n",
      "--------  --------  ---------  --------  ------\n",
      "0.886987  0.586125  0.0841225  0.247246  1.0118\n",
      "\n",
      "Estimated alpha (display first 10 rows): \n",
      "  alpha_0    alpha_1    alpha_2    alpha_3    alpha_4    alpha_5    alpha_6    alpha_7    alpha_8    alpha_9\n",
      "---------  ---------  ---------  ---------  ---------  ---------  ---------  ---------  ---------  ---------\n",
      " 0.635878   -0.62355  -0.953056  -0.848211  -0.790451   0.398596   0.844455   0.401626   0.749717   0.184994\n",
      "\n",
      "Estimated c0 (display first 10 rows): \n",
      "     c0_0    c0_1       c0_2       c0_3      c0_4      c0_5     c0_6      c0_7      c0_8      c0_9\n",
      "---------  ------  ---------  ---------  --------  --------  -------  --------  --------  --------\n",
      "-0.665242  0.6764  -0.382798  -0.293082  0.756522  0.374974  1.06722  0.493501  0.234836  0.535993\n",
      "\n",
      "Estimated asympotitic variance: \n",
      "                Gamma           Rho        Beta_0        Lambda       Sigma^2\n",
      "-------  ------------  ------------  ------------  ------------  ------------\n",
      "Gamma     0.00207261   -0.000661344  -0.000180732   0.000112658   1.19266e-05\n",
      "Rho      -0.000661344   0.00185515    5.43625e-05  -0.000187864  -2.05265e-05\n",
      "Beta_0   -0.000180732   5.43625e-05   0.00440809    0.00014942    1.55575e-05\n",
      "Lambda    0.000112658  -0.000187864   0.00014942    0.00242393    0.000255942\n",
      "Sigma^2   1.19266e-05  -2.05265e-05   1.55575e-05   0.000255942   0.0104108\n",
      "\n"
     ]
    }
   ],
   "source": [
    "result.print_table()"
   ]
  },
  {
   "cell_type": "code",
   "execution_count": null,
   "id": "b8e9506e-ac41-4f03-a727-c27d88e1b91b",
   "metadata": {},
   "outputs": [],
   "source": []
  },
  {
   "cell_type": "code",
   "execution_count": null,
   "id": "fa858079-a3b8-407e-ba80-249600467b2c",
   "metadata": {},
   "outputs": [],
   "source": []
  }
 ],
 "metadata": {
  "kernelspec": {
   "display_name": "Python 3 (ipykernel)",
   "language": "python",
   "name": "python3"
  },
  "language_info": {
   "codemirror_mode": {
    "name": "ipython",
    "version": 3
   },
   "file_extension": ".py",
   "mimetype": "text/x-python",
   "name": "python",
   "nbconvert_exporter": "python",
   "pygments_lexer": "ipython3",
   "version": "3.9.7"
  }
 },
 "nbformat": 4,
 "nbformat_minor": 5
}
