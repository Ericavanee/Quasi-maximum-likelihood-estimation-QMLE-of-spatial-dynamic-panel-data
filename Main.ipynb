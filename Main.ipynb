{
 "cells": [
  {
   "cell_type": "code",
   "execution_count": 33,
   "id": "07c549fb-48a8-4381-b029-f7d009befe34",
   "metadata": {},
   "outputs": [],
   "source": [
    "import numpy as np\n",
    "import scipy.optimize as opt\n",
    "import cvxpy as cvx\n",
    "import math as math\n",
    "import matplotlib.pyplot as plt\n",
    "from numpy.linalg import norm"
   ]
  },
  {
   "cell_type": "markdown",
   "id": "dfdd7f94-dd54-4ffd-a160-669e35d7e32d",
   "metadata": {},
   "source": [
    "### 1.0 Setting up the objective function for equation (7)"
   ]
  },
  {
   "cell_type": "markdown",
   "id": "692882c7-e96d-4029-8642-af10093ced56",
   "metadata": {},
   "source": [
    "Explanation: this implementation treats W matrices as completely exogenous and given. W_ls is a 1D array of length T+1 of n-by-n matrix. "
   ]
  },
  {
   "cell_type": "code",
   "execution_count": 34,
   "id": "cb1cb872-7b64-4287-adea-887fa49f0b80",
   "metadata": {},
   "outputs": [],
   "source": [
    "def QMLE_obj(sigma,lam,gamma, rho, beta):\n",
    "    return -1/2*((n-1)*T)*np.log(2*np.pi)-1/2*((n-1)*T)*np.log(sigma**2)-T*np.log(1-lam)+np.sum(get_S(sigma,lam,gamma, rho, beta))-1/(2*sigma**2)*np.sum(get_V(sigma,lam,gamma, rho, beta))"
   ]
  },
  {
   "cell_type": "code",
   "execution_count": 35,
   "id": "7be33d9a-4318-41c2-88be-9e6236927dfd",
   "metadata": {},
   "outputs": [],
   "source": [
    "def get_S(sigma,lam,gamma, rho, beta):\n",
    "    S_ls = []\n",
    "    for i in range(T):\n",
    "        W = W_ls[i+1]\n",
    "        S_nt = np.identity(n) - lam*W\n",
    "        # further impose that the determinant is positive to allow logarithm to work\n",
    "        det_S = np.linalg.det(S_nt)\n",
    "        S_ls.append(np.log(abs(det_S)))\n",
    "    return S_ls"
   ]
  },
  {
   "cell_type": "code",
   "execution_count": 36,
   "id": "188f5adb-2908-469c-93a6-b0b8e3fd790c",
   "metadata": {},
   "outputs": [],
   "source": [
    "def get_V(sigma,lam,gamma, rho, beta):\n",
    "    V_ls = []\n",
    "    for i in range(T):\n",
    "        W = W_ls[i+1]\n",
    "        S_nt = np.identity(n) - lam*W\n",
    "        SY_ls = []\n",
    "        for j in range(T):\n",
    "            W2 = W_ls[j+1]\n",
    "            S_nt2 = np.identity(n) - lam*W2\n",
    "            SY_ls.append(np.matmul(S_nt2,np.array(y[j+1]).reshape(n,1)))\n",
    "        SY_sum = sum(SY_ls)\n",
    "        # first component\n",
    "        SY_tilde = (np.matmul(S_nt,np.array(y[j+1]).reshape(n,1))-(1/T)*SY_sum).reshape(n,1)\n",
    "        # second component\n",
    "        Y_ls = []\n",
    "        for k in range(T):\n",
    "            Y_ls.append(y[k])\n",
    "        Y_tilde_lag = np.array(y[i]-(1/T)*sum(Y_ls)).reshape(n,1)\n",
    "        WY_ls = []\n",
    "        for l in range(T):\n",
    "            W3 = W_ls[l]\n",
    "            WY_ls.append(np.matmul(W3,np.array(y[l]).reshape(n,1)))\n",
    "        WY_sum = sum(WY_ls)\n",
    "        W_lag = W_ls[i]\n",
    "        WY_tilde_lag = np.matmul(W_lag, np.array(y[i]).reshape(n,1))-(1/T)*(WY_sum)\n",
    "        X_ls = []\n",
    "        for m in range(T):\n",
    "            X_ls.append(x[m])\n",
    "        X_sum = sum(X_ls)\n",
    "        X_tilde = np.array(x[i]-(1/T)*X_sum).reshape(n,1)\n",
    "        Z_tilde = [Y_tilde_lag,WY_tilde_lag,X_tilde]\n",
    "        # third component\n",
    "        l_n = np.ones(n).reshape(n,1)\n",
    "        alpha_ln = alpha[i]*l_n\n",
    "        # forth component\n",
    "        J_n = np.identity(n)-(1/n)*np.matmul(l_n,l_n.transpose())\n",
    "        # fifth component\n",
    "        V_tilde = np.array(SY_tilde-(gamma*Z_tilde[0]+rho*Z_tilde[1]+beta*Z_tilde[2])).reshape(n,1)\n",
    "        # putting everything together\n",
    "        VJ = np.matmul(V_tilde.transpose(),J_n)\n",
    "        VJV = np.matmul(VJ,V_tilde)\n",
    "        V_ls.append(VJV)     \n",
    "    return V_ls"
   ]
  },
  {
   "cell_type": "markdown",
   "id": "9a2e2b4b-c9e5-4d21-9b73-2debfb107457",
   "metadata": {},
   "source": [
    "### 1.1 Test if objective function works"
   ]
  },
  {
   "cell_type": "code",
   "execution_count": 37,
   "id": "e5b8518d-fe8a-4f94-8538-6c2752acec4c",
   "metadata": {},
   "outputs": [],
   "source": [
    "import random as random"
   ]
  },
  {
   "cell_type": "code",
   "execution_count": 38,
   "id": "59c1823e-52b9-4a4d-a805-7f250f857c5c",
   "metadata": {},
   "outputs": [],
   "source": [
    "def is_even(num):\n",
    "    if (num % 2) == 0:\n",
    "        return True\n",
    "    else:\n",
    "        return False"
   ]
  },
  {
   "cell_type": "code",
   "execution_count": 39,
   "id": "cacdde05-b33f-420d-8087-da53f810a523",
   "metadata": {},
   "outputs": [
    {
     "data": {
      "text/plain": [
       "array([[0, 1, 0, 0],\n",
       "       [1, 0, 0, 0],\n",
       "       [0, 0, 0, 1],\n",
       "       [0, 1, 0, 0]])"
      ]
     },
     "execution_count": 39,
     "metadata": {},
     "output_type": "execute_result"
    }
   ],
   "source": [
    "# let's first do the case when beta is a constant\n",
    "n = 4\n",
    "T = 4\n",
    "alpha = np.random.normal(0,1,4).transpose()\n",
    "c0 = np.random.normal(0,1,4).transpose()\n",
    "x = []\n",
    "for i in range(T):\n",
    "    x.append(np.random.normal(0,1,4).transpose())\n",
    "y = []\n",
    "for i in range(T+1):\n",
    "    y.append(np.random.normal(0,1,4).transpose())\n",
    "# manually setting up a row-normalized spatial weight vector with 0 diagonals for even time points\n",
    "w0 = np.array([[0,1,0,0],[1,0,0,0],[0,0,0,1],[0,1,0,0]]).reshape(4,4)\n",
    "w0"
   ]
  },
  {
   "cell_type": "code",
   "execution_count": 40,
   "id": "550c650c-99da-4861-80b4-be0131a484bf",
   "metadata": {},
   "outputs": [
    {
     "data": {
      "text/plain": [
       "array([[0, 0, 1, 0],\n",
       "       [1, 0, 0, 0],\n",
       "       [0, 1, 0, 0],\n",
       "       [1, 0, 0, 0]])"
      ]
     },
     "execution_count": 40,
     "metadata": {},
     "output_type": "execute_result"
    }
   ],
   "source": [
    "# manually setting up a row-normalized spatial weight vector with 0 diagonals for odd time points\n",
    "w1 = np.array([[0,0,1,0],[1,0,0,0],[0,1,0,0],[1,0,0,0]]).reshape(4,4)\n",
    "w1"
   ]
  },
  {
   "cell_type": "code",
   "execution_count": 41,
   "id": "c520a100-7864-4fdf-aeb4-9d5130a17cfc",
   "metadata": {},
   "outputs": [
    {
     "data": {
      "text/plain": [
       "[array([[0, 1, 0, 0],\n",
       "        [1, 0, 0, 0],\n",
       "        [0, 0, 0, 1],\n",
       "        [0, 1, 0, 0]]),\n",
       " array([[0, 0, 1, 0],\n",
       "        [1, 0, 0, 0],\n",
       "        [0, 1, 0, 0],\n",
       "        [1, 0, 0, 0]]),\n",
       " array([[0, 1, 0, 0],\n",
       "        [1, 0, 0, 0],\n",
       "        [0, 0, 0, 1],\n",
       "        [0, 1, 0, 0]]),\n",
       " array([[0, 0, 1, 0],\n",
       "        [1, 0, 0, 0],\n",
       "        [0, 1, 0, 0],\n",
       "        [1, 0, 0, 0]]),\n",
       " array([[0, 1, 0, 0],\n",
       "        [1, 0, 0, 0],\n",
       "        [0, 0, 0, 1],\n",
       "        [0, 1, 0, 0]])]"
      ]
     },
     "execution_count": 41,
     "metadata": {},
     "output_type": "execute_result"
    }
   ],
   "source": [
    "# manually setting up the length T+1 weight matrix vector list\n",
    "W_ls = []\n",
    "for i in range(T+1):\n",
    "    if is_even(i):\n",
    "        W_ls.append(w0)\n",
    "    else:\n",
    "        W_ls.append(w1)\n",
    "W_ls"
   ]
  },
  {
   "cell_type": "code",
   "execution_count": 42,
   "id": "903b9fde-35a0-49fd-8927-caba2b5a6a2e",
   "metadata": {},
   "outputs": [],
   "source": [
    "# setting up parameter plug-in values\n",
    "sigma = 1\n",
    "lam = 0.5\n",
    "gamma = 0.1\n",
    "rho = 0.2\n",
    "beta = 1\n",
    "\n",
    "V_nt = []\n",
    "for i in range(T):\n",
    "    V_nt.append(np.random.normal(0,sigma,n).transpose())"
   ]
  },
  {
   "cell_type": "code",
   "execution_count": 43,
   "id": "a5e20ef7-8165-4c77-aa2e-76233de60dfa",
   "metadata": {},
   "outputs": [
    {
     "data": {
      "text/plain": [
       "-17.36473677084214"
      ]
     },
     "execution_count": 43,
     "metadata": {},
     "output_type": "execute_result"
    }
   ],
   "source": [
    "QMLE_obj(sigma,lam,gamma,rho,beta)"
   ]
  },
  {
   "cell_type": "code",
   "execution_count": 44,
   "id": "e4d16e08-e75e-4372-9b09-cfd0b560f76d",
   "metadata": {},
   "outputs": [],
   "source": [
    "# works."
   ]
  },
  {
   "cell_type": "markdown",
   "id": "5379e1c9-3a1a-4392-8fd5-cf9f66f11927",
   "metadata": {},
   "source": [
    "### 2.1 Implement Optimization"
   ]
  },
  {
   "cell_type": "markdown",
   "id": "be35f4aa-12df-4f83-b353-ca4400ceee59",
   "metadata": {},
   "source": [
    "#### 2.1.1 Scipy.optimize"
   ]
  },
  {
   "cell_type": "code",
   "execution_count": 45,
   "id": "c78448ed-ff4e-47c1-b64f-7931f15c96c8",
   "metadata": {},
   "outputs": [],
   "source": [
    "from scipy.optimize import minimize"
   ]
  },
  {
   "cell_type": "code",
   "execution_count": 46,
   "id": "35f14692-ca20-4ffa-86f5-5a402f6a61c3",
   "metadata": {},
   "outputs": [],
   "source": [
    "def QMLE_obj_scipy(params):\n",
    "    sigma, lam, gamma, rho, beta = params\n",
    "    obj= -1/2*((n-1)*T)*np.log(2*np.pi)-1/2*((n-1)*T)*np.log(sigma**2)-T*np.log(1-lam)+np.sum(get_S(sigma,lam,gamma, rho, beta))-1/(2*sigma**2)*np.sum(get_V(sigma,lam,gamma, rho, beta))\n",
    "    #maximize is to minimize the negative\n",
    "    return (-1)*obj"
   ]
  },
  {
   "cell_type": "code",
   "execution_count": 47,
   "id": "3ba68ba0-6ca4-4152-a58d-88a9d13efa5c",
   "metadata": {},
   "outputs": [],
   "source": [
    "def scipy_constraint(T):\n",
    "    con0 = lambda params: params[0]\n",
    "    lc0 = NonlinearConstraint(con0, 0, np.inf)\n",
    "    con1 = lambda params: -params[1]+1\n",
    "    lc1 = NonlinearConstraint(con0, 0, np.inf)\n",
    "    my_con = [lc0,lc1]\n",
    "    for i in range(T):\n",
    "        temp = lambda params: np.linalg.det(np.identity(n)-params[1]*W_ls[i+1])\n",
    "        nlc = NonlinearConstraint(temp, 0, np.inf)\n",
    "        my_con.append(nlc)\n",
    "    return my_con"
   ]
  },
  {
   "cell_type": "code",
   "execution_count": 48,
   "id": "c94af8ba-fd81-427a-a841-0143969a32fb",
   "metadata": {},
   "outputs": [],
   "source": [
    "def QMLE_scipy_estimate(n_0,T_0, alpha_0, c0, x_dataset, y_attribute, Weight_ls, initial_guess, constrain = True):\n",
    "    '''\n",
    "    alpha_0 is a T*1 vector of time effect\n",
    "    x_dataset is a list of length T of n*1 vectors (we assume only 1 feature so beta is constant) \n",
    "    y_attribute is a n*(T+1) matrix with y[0] known\n",
    "    c_0 is a N*1 column vector of individual effects  \n",
    "    initial_guess is 1D np.array of parameters described in order of the objective function above\n",
    "    '''\n",
    "    global n\n",
    "    n = n_0\n",
    "    global T\n",
    "    T = T_0\n",
    "    global x\n",
    "    x = x_dataset\n",
    "    global y\n",
    "    y = y_attribute\n",
    "    global c\n",
    "    c = c0\n",
    "    global alpha\n",
    "    alpha = alpha_0\n",
    "    global W_ls\n",
    "    W_ls = Weight_ls\n",
    "    # implement the constrained version\n",
    "    # set inequality constraints on sigma to be greater than 0\n",
    "    if constrain == True:\n",
    "        const = scipy_constraint(T)\n",
    "        res = minimize(QMLE_obj_scipy, initial_guess, method='trust-constr', constraints = const)\n",
    "        # return maximizing parameters \n",
    "        return res.x\n",
    "    else:\n",
    "        res = minimize(QMLE_obj_scipy, initial_guess, method='nelder-mead', options={'xatol': 0.000001, 'disp': False})\n",
    "        return res.x"
   ]
  },
  {
   "cell_type": "markdown",
   "id": "380c0140-c8d7-4ca8-9b21-38a412886fad",
   "metadata": {},
   "source": [
    "#### 2.1.1.1 Test"
   ]
  },
  {
   "cell_type": "code",
   "execution_count": 49,
   "id": "2f34dd66-8c11-4fa2-8dc8-2fdc4b2cd1a9",
   "metadata": {},
   "outputs": [],
   "source": [
    "from scipy.optimize import NonlinearConstraint\n",
    "from scipy.optimize import LinearConstraint"
   ]
  },
  {
   "cell_type": "code",
   "execution_count": 50,
   "id": "16d9448e-ca37-4889-9b56-7a1f53208070",
   "metadata": {},
   "outputs": [
    {
     "data": {
      "text/plain": [
       "[1, 0.5, 0.1, 0.2, 1]"
      ]
     },
     "execution_count": 50,
     "metadata": {},
     "output_type": "execute_result"
    }
   ],
   "source": [
    "sigma = 1\n",
    "lam = 0.5\n",
    "gamma = 0.1\n",
    "rho = 0.2\n",
    "beta = 1\n",
    "initial_guess = [sigma, lam, gamma, rho, beta]\n",
    "initial_guess"
   ]
  },
  {
   "cell_type": "code",
   "execution_count": 52,
   "id": "f763d0dd-8146-461d-be44-9d8d035b7a74",
   "metadata": {},
   "outputs": [
    {
     "name": "stdout",
     "output_type": "stream",
     "text": [
      "Optimization terminated successfully.\n",
      "         Current function value: 8.355322\n",
      "         Iterations: 278\n",
      "         Function evaluations: 449\n"
     ]
    }
   ],
   "source": [
    "# unconstrained\n",
    "res = minimize(QMLE_obj_scipy, initial_guess, method='nelder-mead', options={'xatol': 0.001, 'disp': True})"
   ]
  },
  {
   "cell_type": "code",
   "execution_count": 53,
   "id": "8507c7c9-d841-4ba0-b371-ada790049ca5",
   "metadata": {},
   "outputs": [
    {
     "data": {
      "text/plain": [
       "array([ 0.4249679 , -0.40651091,  0.02580851, -0.02193079,  0.04423072])"
      ]
     },
     "execution_count": 53,
     "metadata": {},
     "output_type": "execute_result"
    }
   ],
   "source": [
    "res.x"
   ]
  },
  {
   "cell_type": "code",
   "execution_count": 51,
   "id": "1014e71a-7329-4994-b80e-8f1373c8dbc1",
   "metadata": {},
   "outputs": [
    {
     "name": "stderr",
     "output_type": "stream",
     "text": [
      "/var/folders/44/8_54q8w53q34chh_wjy62nyw0000gn/T/ipykernel_86366/2865426405.py:3: RuntimeWarning: invalid value encountered in log\n",
      "  obj= -1/2*((n-1)*T)*np.log(2*np.pi)-1/2*((n-1)*T)*np.log(sigma**2)-T*np.log(1-lam)+np.sum(get_S(sigma,lam,gamma, rho, beta))-1/(2*sigma**2)*np.sum(get_V(sigma,lam,gamma, rho, beta))\n"
     ]
    }
   ],
   "source": [
    "# unconstrained\n",
    "res = minimize(QMLE_obj_scipy, initial_guess, method='Powell')"
   ]
  },
  {
   "cell_type": "code",
   "execution_count": 21,
   "id": "8dca3b67-5d30-48ef-a590-7ba9f8997e70",
   "metadata": {},
   "outputs": [],
   "source": [
    "con0 = lambda params: params[0]\n",
    "lc0 = NonlinearConstraint(con0, 0, np.inf)\n",
    "con1 = lambda params: -params[1]+1\n",
    "lc1 = NonlinearConstraint(con0, 0, np.inf)"
   ]
  },
  {
   "cell_type": "code",
   "execution_count": 22,
   "id": "9256a8cf-8894-4e08-9f5f-e4d69f598604",
   "metadata": {},
   "outputs": [],
   "source": [
    "con2 = lambda params: np.linalg.det(np.identity(n)-params[1]*W_ls[1])\n",
    "nlc1 = NonlinearConstraint(con2, 0, np.inf)\n",
    "con3 = lambda params: np.linalg.det(np.identity(n)-params[1]*W_ls[2])\n",
    "nlc2 = NonlinearConstraint(con3, 0, np.inf)\n",
    "con4 = lambda params: np.linalg.det(np.identity(n)-params[1]*W_ls[3])\n",
    "nlc3 = NonlinearConstraint(con4, 0, np.inf)\n",
    "con5 = lambda params: np.linalg.det(np.identity(n)-params[1]*W_ls[4])\n",
    "nlc4 = NonlinearConstraint(con5, 0, np.inf)"
   ]
  },
  {
   "cell_type": "code",
   "execution_count": 23,
   "id": "eb7f005e-8123-497a-87d6-510c4cf51480",
   "metadata": {},
   "outputs": [
    {
     "data": {
      "text/plain": [
       "[<scipy.optimize._constraints.NonlinearConstraint at 0x7fef4b0a0cd0>,\n",
       " <scipy.optimize._constraints.NonlinearConstraint at 0x7fef4b0a0d90>,\n",
       " <scipy.optimize._constraints.NonlinearConstraint at 0x7fef49863d90>,\n",
       " <scipy.optimize._constraints.NonlinearConstraint at 0x7fef49863fa0>,\n",
       " <scipy.optimize._constraints.NonlinearConstraint at 0x7fef688eb370>,\n",
       " <scipy.optimize._constraints.NonlinearConstraint at 0x7fef688ebdc0>]"
      ]
     },
     "execution_count": 23,
     "metadata": {},
     "output_type": "execute_result"
    }
   ],
   "source": [
    "constraints = [lc0,lc1,nlc1,nlc2,nlc3,nlc4]\n",
    "constraints"
   ]
  },
  {
   "cell_type": "code",
   "execution_count": 24,
   "id": "ea130d3d-82dd-4461-a76d-e61bb8b20a89",
   "metadata": {},
   "outputs": [
    {
     "name": "stderr",
     "output_type": "stream",
     "text": [
      "/Users/helangchun/opt/anaconda3/lib/python3.9/site-packages/scipy/optimize/_hessian_update_strategy.py:182: UserWarning: delta_grad == 0.0. Check if the approximated function is linear. If the function is linear better results can be obtained by defining the Hessian as zero instead of using quasi-Newton approximations.\n",
      "  warn('delta_grad == 0.0. Check if the approximated '\n"
     ]
    }
   ],
   "source": [
    "res = minimize(QMLE_obj_scipy, initial_guess, method='trust-constr', constraints = [lc0,lc1,nlc1,nlc2,nlc3,nlc4])"
   ]
  },
  {
   "cell_type": "code",
   "execution_count": 25,
   "id": "86dcbfb7-862b-4a5c-ad61-549173fad404",
   "metadata": {},
   "outputs": [
    {
     "data": {
      "text/plain": [
       " barrier_parameter: 1.0240000000000006e-08\n",
       " barrier_tolerance: 1.0240000000000006e-08\n",
       "          cg_niter: 168\n",
       "      cg_stop_cond: 0\n",
       "            constr: [array([0.80024561]), array([0.80024561]), array([0.08190539]), array([0.05537748]), array([0.08190539]), array([0.05537748])]\n",
       "       constr_nfev: [390, 390, 390, 390, 390, 390]\n",
       "       constr_nhev: [0, 0, 0, 0, 0, 0]\n",
       "       constr_njev: [0, 0, 0, 0, 0, 0]\n",
       "    constr_penalty: 1.0\n",
       "  constr_violation: 0.0\n",
       "    execution_time: 0.3512239456176758\n",
       "               fun: 10.854415618042317\n",
       "              grad: array([ 0.00000000e+00, -6.55651093e-06, -0.00000000e+00, -0.00000000e+00,\n",
       "        0.00000000e+00])\n",
       "               jac: [array([[ 1.,  0., -0., -0.,  0.]]), array([[ 1.,  0., -0., -0.,  0.]]), array([[ 0.        , -2.83386759, -0.        , -0.        ,  0.        ]]), array([[ 0.        , -1.94383388, -0.        , -0.        ,  0.        ]]), array([[ 0.        , -2.83386759, -0.        , -0.        ,  0.        ]]), array([[ 0.        , -1.94383388, -0.        , -0.        ,  0.        ]])]\n",
       "   lagrangian_grad: array([-6.20704185e-09, -1.05547624e-09,  0.00000000e+00,  0.00000000e+00,\n",
       "        0.00000000e+00])\n",
       "           message: '`gtol` termination condition is satisfied.'\n",
       "            method: 'tr_interior_point'\n",
       "              nfev: 390\n",
       "              nhev: 0\n",
       "               nit: 65\n",
       "             niter: 65\n",
       "              njev: 65\n",
       "        optimality: 6.2070418533887454e-09\n",
       "            status: 1\n",
       "           success: True\n",
       "         tr_radius: 35326136.19170538\n",
       "                 v: [array([-3.10352093e-09]), array([-3.10352093e-09]), array([-5.70887017e-07]), array([-8.53935889e-07]), array([-5.70887017e-07]), array([-8.53935889e-07])]\n",
       "                 x: array([ 0.80024561,  0.97191693, -0.00757313, -0.0424243 ,  0.00265133])"
      ]
     },
     "execution_count": 25,
     "metadata": {},
     "output_type": "execute_result"
    }
   ],
   "source": [
    "res"
   ]
  },
  {
   "cell_type": "code",
   "execution_count": 26,
   "id": "ab688cfe-1198-448f-aaee-8ed51064a2b2",
   "metadata": {},
   "outputs": [
    {
     "data": {
      "text/plain": [
       "array([ 0.80024561,  0.97191693, -0.00757313, -0.0424243 ,  0.00265133])"
      ]
     },
     "execution_count": 26,
     "metadata": {},
     "output_type": "execute_result"
    }
   ],
   "source": [
    "res.x"
   ]
  },
  {
   "cell_type": "code",
   "execution_count": 27,
   "id": "566a357e-4860-48b6-90a5-0d260066a9b9",
   "metadata": {},
   "outputs": [],
   "source": [
    "# works. "
   ]
  },
  {
   "cell_type": "code",
   "execution_count": 28,
   "id": "c6a925d1-3ab9-41d0-bce6-3c24a7da9787",
   "metadata": {},
   "outputs": [
    {
     "data": {
      "text/plain": [
       "array([ 0.80024553,  0.97191649, -0.00757311, -0.04242426,  0.00265133])"
      ]
     },
     "execution_count": 28,
     "metadata": {},
     "output_type": "execute_result"
    }
   ],
   "source": [
    "# check if the function works\n",
    "initial_guess = [sigma, lam, gamma, rho, beta]\n",
    "QMLE_scipy_estimate(n,T, alpha, c0, x, y, W_ls, initial_guess)"
   ]
  },
  {
   "cell_type": "code",
   "execution_count": 29,
   "id": "3373c885-068f-4129-8e5b-3018e56e2138",
   "metadata": {},
   "outputs": [],
   "source": [
    "# works."
   ]
  },
  {
   "cell_type": "markdown",
   "id": "9ee96ef9-548c-4588-afea-ef19341f637c",
   "metadata": {},
   "source": [
    "### 3.1 Implement the final test"
   ]
  },
  {
   "cell_type": "code",
   "execution_count": 36,
   "id": "4cc1f673-6b6e-4c4a-8451-ad01fe375021",
   "metadata": {},
   "outputs": [],
   "source": [
    "# first, generate samples"
   ]
  },
  {
   "cell_type": "code",
   "execution_count": 37,
   "id": "9b390821-77ac-46d4-82e6-6b11fd28ce68",
   "metadata": {},
   "outputs": [],
   "source": [
    "def generate_weight_matrix(n):\n",
    "    row = []\n",
    "    for i in range(n):\n",
    "        temp_row = np.zeros(n)\n",
    "        # ensure that diagonal is nonzero and that the row is normalized\n",
    "        no_stop = True\n",
    "        while no_stop:\n",
    "            place_one = random.randint(0,n-1)\n",
    "            if place_one != i:\n",
    "                no_stop = False\n",
    "        temp_row[place_one] = 1\n",
    "        row.append(temp_row.tolist())\n",
    "    w = np.array(row).reshape(n,n)\n",
    "    return w"
   ]
  },
  {
   "cell_type": "code",
   "execution_count": 38,
   "id": "72525a9a-feb3-43fd-8cb3-957e7cf1bbfe",
   "metadata": {},
   "outputs": [
    {
     "data": {
      "text/plain": [
       "array([[0., 0., 0., ..., 0., 0., 0.],\n",
       "       [0., 0., 0., ..., 0., 0., 0.],\n",
       "       [0., 0., 0., ..., 0., 0., 0.],\n",
       "       ...,\n",
       "       [0., 0., 0., ..., 0., 0., 1.],\n",
       "       [0., 0., 0., ..., 0., 0., 0.],\n",
       "       [0., 0., 0., ..., 0., 0., 0.]])"
      ]
     },
     "execution_count": 38,
     "metadata": {},
     "output_type": "execute_result"
    }
   ],
   "source": [
    "# generate samples\n",
    "t_theta = [0.1,0.2,1,0.5,1]\n",
    "t_gamma, t_rho, t_beta, t_lam, t_sig = t_theta\n",
    "n = 49\n",
    "T = 10\n",
    "alpha = np.random.normal(0,1,T).transpose()\n",
    "c0 = np.random.normal(0,1,n).transpose()\n",
    "x = []\n",
    "for i in range(T):\n",
    "    x.append(np.random.normal(0,1,n).transpose())\n",
    "# manually setting up a row-normalized spatial weight vector with 0 diagonals for even time points\n",
    "w0 = generate_weight_matrix(n)\n",
    "w0"
   ]
  },
  {
   "cell_type": "code",
   "execution_count": 39,
   "id": "794d91aa-704d-42aa-b159-15f6504204d9",
   "metadata": {},
   "outputs": [
    {
     "data": {
      "text/plain": [
       "array([[0., 0., 0., ..., 0., 0., 0.],\n",
       "       [0., 0., 0., ..., 0., 0., 0.],\n",
       "       [0., 0., 0., ..., 0., 0., 0.],\n",
       "       ...,\n",
       "       [0., 0., 0., ..., 0., 0., 0.],\n",
       "       [0., 0., 0., ..., 0., 0., 0.],\n",
       "       [0., 0., 0., ..., 0., 0., 0.]])"
      ]
     },
     "execution_count": 39,
     "metadata": {},
     "output_type": "execute_result"
    }
   ],
   "source": [
    "w1 = generate_weight_matrix(n)\n",
    "w1"
   ]
  },
  {
   "cell_type": "code",
   "execution_count": 40,
   "id": "f2a7aaa0-4bab-4406-8674-5f745c6fd6ff",
   "metadata": {},
   "outputs": [],
   "source": [
    "W_ls = []\n",
    "for i in range(T+1):\n",
    "    if is_even(i):\n",
    "        W_ls.append(w0)\n",
    "    else:\n",
    "        W_ls.append(w1)"
   ]
  },
  {
   "cell_type": "code",
   "execution_count": 41,
   "id": "b2e5eb19-dad9-4002-b65c-b01b6311b588",
   "metadata": {},
   "outputs": [],
   "source": [
    "V_nt = []\n",
    "for i in range(T):\n",
    "    V_nt.append(np.random.normal(0,t_sig,n).transpose())"
   ]
  },
  {
   "cell_type": "code",
   "execution_count": 42,
   "id": "7d2fe513-0338-4a41-95d3-119039340e35",
   "metadata": {},
   "outputs": [
    {
     "data": {
      "text/plain": [
       "array([-0.21116716,  1.61031442, -1.64608597, -0.35904946, -1.26374641,\n",
       "        1.55624187, -0.41252036, -0.49702865,  0.20940203, -0.46467785,\n",
       "        0.47561019, -0.72171455, -0.03665072,  0.05310561,  2.01261466,\n",
       "        0.78820414, -0.33759127, -0.62228505, -0.21490303,  1.60393414,\n",
       "       -0.29662607,  1.28268814, -1.67929753, -1.11989835, -0.99737594,\n",
       "       -0.31232823, -1.11051094,  0.12256137,  1.90113063, -1.32972554,\n",
       "        0.23160958, -0.46194964,  1.87574274, -0.9269115 ,  0.02253627,\n",
       "        0.5453005 ,  1.6002788 , -1.12214175, -1.66581805, -0.66887738,\n",
       "       -0.33189773,  0.33403033, -2.00630849,  0.02561084, -0.35334656,\n",
       "       -0.53646744, -1.05355226, -0.40771399, -0.05335904])"
      ]
     },
     "execution_count": 42,
     "metadata": {},
     "output_type": "execute_result"
    }
   ],
   "source": [
    "Y0 = np.random.normal(0,1,n).transpose()\n",
    "Y0"
   ]
  },
  {
   "cell_type": "code",
   "execution_count": 43,
   "id": "09076860-766d-47c2-acda-9fa461c9cf68",
   "metadata": {},
   "outputs": [],
   "source": [
    "Y_ls = []\n",
    "Y_ls.append(Y0)\n",
    "for i in range(T):\n",
    "    l_n = np.ones(n).transpose()\n",
    "    c_vec = t_gamma*Y_ls[i]+t_rho*np.matmul(W_ls[i],Y_ls[i])+t_beta*x[i]+c0+alpha[i]*l_n+V_nt[i]\n",
    "    Y_nt = np.matmul(np.linalg.inv(np.identity(n)-t_lam*W_ls[i+1]),c_vec)\n",
    "    Y_ls.append(Y_nt)"
   ]
  },
  {
   "cell_type": "code",
   "execution_count": 44,
   "id": "bbca8b25-266e-4600-aea2-1fa94468e7c4",
   "metadata": {},
   "outputs": [],
   "source": [
    "# initial guess (set off but not by much)\n",
    "initial_guess = [1.5,0.2,0.5,0.3,1.2]"
   ]
  },
  {
   "cell_type": "code",
   "execution_count": 45,
   "id": "3caa1cdf-ae21-4e13-ae6a-02f25bbb9f64",
   "metadata": {},
   "outputs": [
    {
     "data": {
      "text/plain": [
       "array([ 1.60287427e+00,  3.07764349e-01, -3.64257110e-03,  5.66121436e-02,\n",
       "        1.88889252e-04])"
      ]
     },
     "execution_count": 45,
     "metadata": {},
     "output_type": "execute_result"
    }
   ],
   "source": [
    "QMLE_scipy_estimate(n,T, alpha, c0, x, Y_ls, W_ls, initial_guess)"
   ]
  },
  {
   "cell_type": "code",
   "execution_count": 46,
   "id": "1f826fde-49af-43fa-9039-faa70e5b8895",
   "metadata": {},
   "outputs": [
    {
     "name": "stdout",
     "output_type": "stream",
     "text": [
      "Optimization terminated successfully.\n",
      "         Current function value: 904.072687\n",
      "         Iterations: 275\n",
      "         Function evaluations: 459\n"
     ]
    },
    {
     "data": {
      "text/plain": [
       "array([ 1.60287419e+00,  3.07764381e-01, -3.64273661e-03,  5.66121262e-02,\n",
       "        1.88525486e-04])"
      ]
     },
     "execution_count": 46,
     "metadata": {},
     "output_type": "execute_result"
    }
   ],
   "source": [
    "QMLE_scipy_estimate(n,T, alpha, c0, x, Y_ls, W_ls, initial_guess, constrain = False)"
   ]
  },
  {
   "cell_type": "code",
   "execution_count": 47,
   "id": "2caafdde-ee6e-434d-9d50-eb89889e7ae2",
   "metadata": {},
   "outputs": [
    {
     "data": {
      "text/plain": [
       "[1, 0.5, 0.1, 0.2, 1]"
      ]
     },
     "execution_count": 47,
     "metadata": {},
     "output_type": "execute_result"
    }
   ],
   "source": [
    "t_theta = [t_sig,t_lam,t_gamma,t_rho,t_beta]\n",
    "t_theta"
   ]
  },
  {
   "cell_type": "markdown",
   "id": "d4569541-dd4d-4ffb-bf57-a00772539783",
   "metadata": {},
   "source": [
    "### 3.2 Performance Stats"
   ]
  },
  {
   "cell_type": "code",
   "execution_count": 48,
   "id": "67cbd61c-0ef2-4e50-ac73-9ec1739f4a5f",
   "metadata": {},
   "outputs": [],
   "source": [
    "from tabulate import tabulate\n",
    "from sklearn.metrics import mean_squared_error\n",
    "from math import sqrt"
   ]
  },
  {
   "cell_type": "code",
   "execution_count": 49,
   "id": "d3f05c0b-10dd-45de-8992-b3e6a4c4d4aa",
   "metadata": {},
   "outputs": [],
   "source": [
    "# obtain 50 QMLE_estimates from 50 monte-carlo experiments without fixing weight matrices for each experiment.\n",
    "\n",
    "def five_hun_samples_scipy(n,T,t_theta,g_theta, N=500, constrain=True):\n",
    "    # set up true and guess parameters\n",
    "    t_sig, t_lam, t_gamma, t_rho, t_beta = t_theta\n",
    "    g_sig, g_lam, g_gamma, g_rho, g_beta = g_theta\n",
    "    initial_guess = [g_sig, g_lam, g_gamma, g_rho, g_beta]\n",
    "    sample_ls = []\n",
    "    for k in range(N):\n",
    "        # set up samples\n",
    "        alpha = np.random.normal(0,1,T).transpose()\n",
    "        alpha = np.nan_to_num(alpha)\n",
    "        alpha[alpha == -np.inf] = 0\n",
    "        alpha[alpha == np.inf] = 0\n",
    "        c0 = np.random.normal(0,1,n).transpose()\n",
    "        c0 = np.nan_to_num(c0)\n",
    "        c0[c0 == -np.inf] = 0\n",
    "        c0[c0 == np.inf] = 0\n",
    "        x = []\n",
    "        for i in range(T):\n",
    "            tem = np.random.normal(0,1,n).transpose()\n",
    "            tem = np.nan_to_num(tem)\n",
    "            tem[tem == -np.inf] = 0\n",
    "            tem[tem == np.inf]=0\n",
    "            x.append(tem)\n",
    "        # manually setting up a row-normalized spatial weight vector with 0 diagonals for even time points\n",
    "        w0 = generate_weight_matrix(n)\n",
    "        w1 = generate_weight_matrix(n)\n",
    "        W_ls = []\n",
    "        for i in range(T+1):\n",
    "            if is_even(i):\n",
    "                W_ls.append(w0)\n",
    "            else:\n",
    "                W_ls.append(w1)\n",
    "        V_nt = []\n",
    "        for i in range(T):\n",
    "            tem = np.random.normal(0,t_sig,n).transpose()\n",
    "            tem = np.nan_to_num(tem)\n",
    "            tem[tem == -np.inf] = 0\n",
    "            tem[tem == np.inf]=0\n",
    "            V_nt.append(tem)\n",
    "        Y0 = np.random.normal(0,1,n).transpose()\n",
    "        Y_ls = []\n",
    "        Y_ls.append(Y0)\n",
    "        for i in range(T):\n",
    "            l_n = np.ones(n).transpose()\n",
    "            c_vec = t_gamma*Y_ls[i]+t_rho*np.matmul(W_ls[i],Y_ls[i])+t_beta*x[i]+c0+alpha[i]*l_n+V_nt[i]\n",
    "            Y_nt = np.matmul(np.linalg.inv(np.identity(n)-t_lam*W_ls[i+1]),c_vec)\n",
    "            Y_ls.append(Y_nt)\n",
    "        # run scipy optimize\n",
    "        sample = QMLE_scipy_estimate(n,T, alpha, c0, x, Y_ls, W_ls, initial_guess, constrain)\n",
    "        sample_ls.append(sample)\n",
    "    # return sample list\n",
    "    return sample_ls"
   ]
  },
  {
   "cell_type": "markdown",
   "id": "ecc757b3-38d4-497b-9d3d-84d7755ac302",
   "metadata": {},
   "source": [
    "First, run 50 experiments."
   ]
  },
  {
   "cell_type": "code",
   "execution_count": 121,
   "id": "85fc1380-de1d-4052-8584-afa2ebab1a78",
   "metadata": {},
   "outputs": [
    {
     "name": "stderr",
     "output_type": "stream",
     "text": [
      "/Users/helangchun/opt/anaconda3/lib/python3.9/site-packages/scipy/optimize/_hessian_update_strategy.py:182: UserWarning: delta_grad == 0.0. Check if the approximated function is linear. If the function is linear better results can be obtained by defining the Hessian as zero instead of using quasi-Newton approximations.\n",
      "  warn('delta_grad == 0.0. Check if the approximated '\n"
     ]
    }
   ],
   "source": [
    "sample_ls = five_hun_samples_scipy(n=49,T=10,t_theta=[1, 0.5, 0.1, 0.2, 1],g_theta= [1.5,0.2,0.5,0.3,1.2], N=50, constrain=True)"
   ]
  },
  {
   "cell_type": "code",
   "execution_count": 95,
   "id": "e0257467-f728-4ba9-9da8-a4ab0171524e",
   "metadata": {},
   "outputs": [],
   "source": [
    "def obtain_table_stats(sample_ls,t_theta):\n",
    "    t_sig,t_lam,t_gamma,t_rho,t_beta = t_theta\n",
    "    gam_ls = []\n",
    "    rho_ls = []\n",
    "    beta_ls = []\n",
    "    lam_ls = []\n",
    "    sig_ls = []\n",
    "    n = len(sample_ls)\n",
    "    for i in range(n):\n",
    "        sig_ls.append(sample_ls[i][0])\n",
    "        lam_ls.append(sample_ls[i][1])\n",
    "        gam_ls.append(sample_ls[i][2])\n",
    "        rho_ls.append(sample_ls[i][3])\n",
    "        beta_ls.append(sample_ls[i][4])\n",
    "    # bias\n",
    "    gam_bias = np.array(gam_ls).mean()-t_gamma\n",
    "    rho_bias = np.array(rho_ls).mean()-t_rho\n",
    "    beta_bias = np.array(beta_ls).mean()-t_beta\n",
    "    lam_bias = np.array(lam_ls).mean()-t_lam\n",
    "    sig_bias = np.array(sig_ls).mean()-t_sig\n",
    "    bias = [gam_bias, rho_bias, beta_bias,lam_bias, sig_bias]\n",
    "    \n",
    "    # rmse\n",
    "    gam_rmse = sqrt(mean_squared_error(np.array([t_gamma]*n), np.array(gam_ls)))\n",
    "    rho_rmse = sqrt(mean_squared_error(np.array([t_rho]*n), np.array(rho_ls)))\n",
    "    beta_rmse = sqrt(mean_squared_error(np.array([t_beta]*n), np.array(beta_ls)))\n",
    "    lam_rmse = sqrt(mean_squared_error(np.array([t_lam]*n), np.array(lam_ls)))\n",
    "    sig_rmse = sqrt(mean_squared_error(np.array([t_sig]*n), np.array(sig_ls)))\n",
    "    rmse = [gam_rmse, rho_rmse, beta_rmse,lam_rmse, sig_rmse]\n",
    "    \n",
    "    # sd\n",
    "    gam_sd = np.array(gam_ls).std()\n",
    "    rho_sd = np.array(rho_ls).std()\n",
    "    lam_sd = np.array(lam_ls).std()\n",
    "    sig_sd = np.array(sig_ls).std()\n",
    "    beta_sd = np.array(beta_ls).std()\n",
    "    sd = [gam_sd, rho_sd, beta_sd,lam_sd, sig_sd]\n",
    "    \n",
    "    # print table\n",
    "    bias_ls = [\"Bias\", gam_bias, rho_bias, beta_bias, lam_bias, sig_bias]\n",
    "    sd_ls = [\"SD\", gam_sd, rho_sd, beta_sd, lam_sd, sig_sd]\n",
    "    rmse_ls = [\"RMSE\", gam_rmse, rho_rmse, beta_rmse, lam_rmse, sig_rmse]\n",
    "    data = [bias_ls, sd_ls, rmse_ls]\n",
    "    #define header names\n",
    "    col_names = [\"Measures (n={}; T={}; theta={})\".format(n, T, t_theta), \"gamma\", \"rho\", \"beta\", \"lambda\", \"sigma\"]\n",
    "    # display table\n",
    "    print(tabulate(data, headers=col_names))"
   ]
  },
  {
   "cell_type": "markdown",
   "id": "6d54d5ad-47c2-441b-9491-03fc7ecb3e4b",
   "metadata": {},
   "source": [
    "#### 3.1.1 table 1 description\n",
    "1. (n,T,N) = (49,10,50)\n",
    "<br>\n",
    "2. t_theta = [t_sig,t_lam,t_gamma,t_rho,t_beta] = [1, 0.5, 0.1, 0.2, 1]\n",
    "<br>\n",
    "3. initial_guess = [1.5,0.2,0.5,0.3,1.2]\n",
    "<br>\n",
    "4. Other given vectors are generated by iid standard normal distribution.\n",
    "<br>\n",
    "5. Weight matrices alternate on odd and even time points. For each monte carlo trial, they are generated iid. \n",
    "<br>\n",
    "6. Optimization method is trust-region from scipy.minimize with constraints."
   ]
  },
  {
   "cell_type": "code",
   "execution_count": 96,
   "id": "5cd5e0b9-c0b5-480a-bc4c-e9e4e13faefe",
   "metadata": {},
   "outputs": [
    {
     "name": "stdout",
     "output_type": "stream",
     "text": [
      "Measures (n=50; T=10; theta=[1, 0.5, 0.1, 0.2, 1])        gamma         rho        beta      lambda     sigma\n",
      "----------------------------------------------------  ---------  ----------  ----------  ----------  --------\n",
      "Bias                                                  -0.10905   -0.154952   -0.99703    -0.303485   0.543793\n",
      "SD                                                     0.011966   0.0231284   0.0199779   0.0965275  0.188202\n",
      "RMSE                                                   0.109705   0.156668    0.99723     0.318466   0.57544\n"
     ]
    }
   ],
   "source": [
    "obtain_table_stats(sample_ls,t_theta)"
   ]
  },
  {
   "cell_type": "markdown",
   "id": "a074254f-c29b-4b37-9fab-d85c99ee7825",
   "metadata": {},
   "source": [
    "#### 3.1.2 table 2 decription\n",
    "\n",
    "1. (n,T) = (49,10,50)\n",
    "<br>\n",
    "2. t_theta = [t_sig,t_lam,t_gamma,t_rho,t_beta] = [1, 0.5, 0.1, 0.2, 1]\n",
    "<br>\n",
    "3. initial_guess = [1.5,0.2,0.5,0.3,1.2]\n",
    "<br>\n",
    "4. Other given vectors are generated by iid standard normal distribution.\n",
    "<br>\n",
    "5. Weight matrices alternate on odd and even time points. For each monte carlo trial, they are generated iid. \n",
    "<br>\n",
    "6. Optimization method is nelder-mead without constraints."
   ]
  },
  {
   "cell_type": "code",
   "execution_count": 138,
   "id": "73ced232-e035-44ac-b631-74df0cbf4cfe",
   "metadata": {},
   "outputs": [],
   "source": [
    "%%capture\n",
    "sample_ls = five_hun_samples_scipy(n=49,T=10,t_theta=[1, 0.5, 0.1, 0.2, 1],g_theta= [1.5,0.2,0.5,0.3,1.2], N=50, constrain=False)"
   ]
  },
  {
   "cell_type": "code",
   "execution_count": 139,
   "id": "fe2e9b86-b6b0-4729-9ead-3c6d4845a54e",
   "metadata": {},
   "outputs": [
    {
     "name": "stdout",
     "output_type": "stream",
     "text": [
      "Measures          gamma         rho        beta      lambda     sigma\n",
      "----------  -----------  ----------  ----------  ----------  --------\n",
      "Bias        -0.107543    -0.155652   -1.00298    -0.305689   0.528854\n",
      "SD           0.00891143   0.0292382   0.0125355   0.0880344  0.210978\n",
      "RMSE         0.107912     0.158374    1.00306     0.318113   0.569384\n"
     ]
    }
   ],
   "source": [
    "obtain_table_stats(sample_ls,t_theta)"
   ]
  },
  {
   "cell_type": "markdown",
   "id": "1b63bdd0-f82c-40cc-8fac-0f849b42c15b",
   "metadata": {},
   "source": [
    "#### 3.1.3 table 3 description\n",
    "1. (n,T,N) = (49,10,200)\n",
    "<br>\n",
    "2. t_theta = [t_sig,t_lam,t_gamma,t_rho,t_beta] = [1, 0.5, 0.1, 0.2, 1]\n",
    "<br>\n",
    "3. initial_guess = [1.5,0.2,0.5,0.3,1.2]\n",
    "<br>\n",
    "4. Other given vectors are generated by iid standard normal distribution.\n",
    "<br>\n",
    "5. Weight matrices alternate on odd and even time points. For each monte carlo trial, they are generated iid. \n",
    "<br>\n",
    "6. Optimization method is nelder-mead without constraints."
   ]
  },
  {
   "cell_type": "code",
   "execution_count": 142,
   "id": "2a3f742d-e99e-41ab-a444-ff4783f7627b",
   "metadata": {},
   "outputs": [],
   "source": [
    "%%capture\n",
    "sample_ls = five_hun_samples_scipy(n=49,T=10,t_theta=[1, 0.5, 0.1, 0.2, 1],g_theta= [1.5,0.2,0.5,0.3,1.2], N=200, constrain = False)"
   ]
  },
  {
   "cell_type": "code",
   "execution_count": 143,
   "id": "a84f1313-d2e4-47e6-a070-f4bd317c5de2",
   "metadata": {},
   "outputs": [
    {
     "name": "stdout",
     "output_type": "stream",
     "text": [
      "Measures         gamma         rho        beta      lambda     sigma\n",
      "----------  ----------  ----------  ----------  ----------  --------\n",
      "Bias        -0.10802    -0.150984   -1.00084    -0.312912   0.573106\n",
      "SD           0.0107432   0.0296407   0.0138838   0.0942078  0.197327\n",
      "RMSE         0.108553    0.153866    1.00094     0.326786   0.606126\n"
     ]
    }
   ],
   "source": [
    "obtain_table_stats(sample_ls,t_theta)"
   ]
  },
  {
   "cell_type": "markdown",
   "id": "61057530-78eb-467e-bedf-6da63063bd75",
   "metadata": {},
   "source": [
    "### 3.3 Run samples and take the sample mean for fixed weight matrix"
   ]
  },
  {
   "cell_type": "code",
   "execution_count": 56,
   "id": "171bcf13-908e-4050-aae5-61eb4823fa23",
   "metadata": {},
   "outputs": [],
   "source": [
    "# generate weight list\n",
    "\n",
    "def generate_wls(n,T, alternate = True):\n",
    "    w0 = generate_weight_matrix(n)\n",
    "    w1 = generate_weight_matrix(n)\n",
    "    W_ls = []\n",
    "    if alternate:\n",
    "        for i in range(T+1):\n",
    "            if is_even(i):\n",
    "                W_ls.append(w0)\n",
    "            else:\n",
    "                W_ls.append(w1) \n",
    "    else:\n",
    "        for i in range(T+1):\n",
    "            W_ls.append(w0)\n",
    "    return W_ls        "
   ]
  },
  {
   "cell_type": "code",
   "execution_count": 97,
   "id": "baacd924-bcf5-4e7e-8726-9b3a2ca8e409",
   "metadata": {},
   "outputs": [],
   "source": [
    "# obtain five hundrend QMLE_estimates from 500 monte-carlo experiments\n",
    "\n",
    "def generate_samples_scipy_fix_weight(n,T,t_theta,g_theta,W_ls, N=50, constrain=True):\n",
    "    # set up true and guess parameters\n",
    "    t_sig, t_lam, t_gamma, t_rho, t_beta = t_theta\n",
    "    g_sig, g_lam, g_gamma, g_rho, g_beta = g_theta\n",
    "    # set up initial guess\n",
    "    initial_guess = [g_sig, g_lam, g_gamma, g_rho, g_beta]\n",
    "    # sample list\n",
    "    sample_ls = []\n",
    "    for k in range(N):\n",
    "        # set up samples\n",
    "        alpha = np.random.normal(0,1,T).transpose()\n",
    "        alpha = np.nan_to_num(alpha)\n",
    "        alpha[alpha == -np.inf] = 0\n",
    "        alpha[alpha == np.inf] = 0\n",
    "        c0 = np.random.normal(0,1,n).transpose()\n",
    "        c0 = np.nan_to_num(c0)\n",
    "        c0[c0 == -np.inf] = 0\n",
    "        c0[c0 == np.inf] = 0\n",
    "        x = []\n",
    "        for i in range(T):\n",
    "            tem = np.random.normal(0,1,n).transpose()\n",
    "            tem = np.nan_to_num(tem)\n",
    "            tem[tem == -np.inf] = 0\n",
    "            tem[tem == np.inf]=0\n",
    "            x.append(tem)\n",
    "        V_nt = []\n",
    "        for i in range(T):\n",
    "            tem = np.random.normal(0,t_sig,n).transpose()\n",
    "            tem = np.nan_to_num(tem)\n",
    "            tem[tem == -np.inf] = 0\n",
    "            tem[tem == np.inf]=0\n",
    "            V_nt.append(tem)\n",
    "        Y0 = np.random.normal(0,1,n).transpose()\n",
    "        Y_ls = []\n",
    "        Y_ls.append(Y0)\n",
    "        for i in range(T):\n",
    "            l_n = np.ones(n).transpose()\n",
    "            c_vec = t_gamma*Y_ls[i]+t_rho*np.matmul(W_ls[i],Y_ls[i])+t_beta*x[i]+c0+alpha[i]*l_n+V_nt[i]\n",
    "            Y_nt = np.matmul(np.linalg.inv(np.identity(n)-t_lam*W_ls[i+1]),c_vec)\n",
    "            Y_ls.append(Y_nt)\n",
    "        # run scipy optimize\n",
    "        sample = QMLE_scipy_estimate(n,T, alpha, c0, x, Y_ls, W_ls, initial_guess, constrain)\n",
    "        sample_ls.append(sample)\n",
    "    # return sample list\n",
    "    return sample_ls"
   ]
  },
  {
   "cell_type": "code",
   "execution_count": 69,
   "id": "9706baae-832b-4de1-8fca-f772add53307",
   "metadata": {},
   "outputs": [
    {
     "data": {
      "text/plain": [
       "[array([[0., 0., 0., ..., 0., 0., 0.],\n",
       "        [0., 0., 0., ..., 0., 0., 0.],\n",
       "        [0., 0., 0., ..., 0., 0., 0.],\n",
       "        ...,\n",
       "        [0., 0., 0., ..., 0., 0., 0.],\n",
       "        [0., 0., 0., ..., 0., 0., 0.],\n",
       "        [0., 0., 0., ..., 0., 0., 0.]]),\n",
       " array([[0., 0., 0., ..., 0., 0., 0.],\n",
       "        [0., 0., 0., ..., 0., 0., 0.],\n",
       "        [0., 0., 0., ..., 0., 0., 0.],\n",
       "        ...,\n",
       "        [0., 0., 0., ..., 0., 0., 0.],\n",
       "        [0., 0., 0., ..., 0., 0., 0.],\n",
       "        [0., 0., 0., ..., 0., 0., 0.]])]"
      ]
     },
     "execution_count": 69,
     "metadata": {},
     "output_type": "execute_result"
    }
   ],
   "source": [
    "W_ls = generate_wls(49,10, alternate = True)\n",
    "[W_ls[0],W_ls[1]]"
   ]
  },
  {
   "cell_type": "code",
   "execution_count": 66,
   "id": "658e3d98-c520-4480-8517-f2c5cb515605",
   "metadata": {},
   "outputs": [],
   "source": [
    "t_theta=[1, 0.5, 0.1, 0.2, 1]\n",
    "t_sig, t_lam, t_gamma, t_rho, t_beta = t_theta"
   ]
  },
  {
   "cell_type": "code",
   "execution_count": 68,
   "id": "dbd2bc71-db7a-4931-97c3-c30deabab36f",
   "metadata": {},
   "outputs": [],
   "source": [
    "sample_ls = generate_samples_scipy_fix_weight(n=49,T=10,t_theta=[1, 0.5, 0.1, 0.2, 1],g_theta= [1.5,0.2,0.5,0.3,1.2], N=50, W_ls = W_ls, constrain=True)"
   ]
  },
  {
   "cell_type": "code",
   "execution_count": 70,
   "id": "a57ddcf7-9201-493f-a6a1-9f1c3d65cb94",
   "metadata": {},
   "outputs": [
    {
     "name": "stdout",
     "output_type": "stream",
     "text": [
      "Measures        gamma         rho        beta      lambda     sigma\n",
      "----------  ---------  ----------  ----------  ----------  --------\n",
      "Bias        -0.10905   -0.154952   -0.99703    -0.303485   0.543793\n",
      "SD           0.011966   0.0231284   0.0199779   0.0965275  0.188202\n",
      "RMSE         0.109705   0.156668    0.99723     0.318466   0.57544\n"
     ]
    }
   ],
   "source": [
    "obtain_table_stats(sample_ls,t_theta)"
   ]
  },
  {
   "cell_type": "code",
   "execution_count": 85,
   "id": "df032ef8-2428-40f6-bcc3-5e36f97265a3",
   "metadata": {},
   "outputs": [],
   "source": [
    "# generate multiple table (each table is an output of a monte carlo experiement of N samples)\n",
    "def generate_multi_table(n_ls,T_ls,t_theta_ls,g_theta_ls,W_ls, N=50, auto_weight = True, alternate = True, constrain=True):\n",
    "    num = len(n_ls)\n",
    "    total_W_ls = []\n",
    "    for i in range(num):\n",
    "        if auto_weight:\n",
    "            W_ls = generate_wls(n_ls[i],T_ls[i], alternate = alternate)\n",
    "            total_W_ls.append(W_ls)\n",
    "        sample_ls = generate_samples_scipy_fix_weight(n=n_ls[i],T=T_ls[i],t_theta=t_theta_ls[i],g_theta=g_theta_ls[i], N=N, W_ls = W_ls, constrain=constrain)\n",
    "        # print tables\n",
    "        obtain_table_stats(sample_ls,t_theta_ls[i])  \n",
    "    if auto_weight:\n",
    "        return total_W_ls"
   ]
  },
  {
   "cell_type": "markdown",
   "id": "7f4316e2-44f7-4a51-b95a-d6062ab6d513",
   "metadata": {},
   "source": [
    "#### 3.2.1 Test generate_multi_table"
   ]
  },
  {
   "cell_type": "code",
   "execution_count": 98,
   "id": "54fef448-9655-4a65-9a75-72d1672ef51c",
   "metadata": {},
   "outputs": [],
   "source": [
    "n_ls = [50,50,50,50,50]\n",
    "T_ls = [10,10,10,10,10]\n",
    "t_theta_ls = [[1, 0.5, 0.1, 0.2, 1],[1, 0.5, 0.1, 0.2, 1],[1,0.2,0.4,0.2,1],[1, 0.5, 0.1, 0.2, 1],[1,0.2,0.4,0.2,1]]\n",
    "g_theta_ls = [[1.5,0.2,0.5,0.3,1.2], [0.8,0.7,0.05,0.1,0.8], [1.1,0.25,0.45,0.35,1.1], [1.5, 1.5, 0.8, 1, 0.6],  [0.7,0.2,0.05,0.1,1.2]]"
   ]
  },
  {
   "cell_type": "code",
   "execution_count": 99,
   "id": "a59064f2-354b-469e-9986-753bd9cecdc5",
   "metadata": {},
   "outputs": [
    {
     "name": "stdout",
     "output_type": "stream",
     "text": [
      "Measures (n=50; T=10; theta=[1, 0.5, 0.1, 0.2, 1])          gamma         rho        beta      lambda     sigma\n",
      "----------------------------------------------------  -----------  ----------  ----------  ----------  --------\n",
      "Bias                                                  -0.106008    -0.158756   -0.998531   -0.311192   0.519996\n",
      "SD                                                     0.00855426   0.0226829   0.0122753   0.0957339  0.195872\n",
      "RMSE                                                   0.106352     0.160368    0.998607    0.325585   0.555664\n",
      "Measures (n=50; T=10; theta=[1, 0.5, 0.1, 0.2, 1])        gamma         rho        beta      lambda     sigma\n",
      "----------------------------------------------------  ---------  ----------  ----------  ----------  --------\n",
      "Bias                                                  -0.106603  -0.151044   -1.00293    -0.305985   0.623928\n",
      "SD                                                     0.01078    0.0255777   0.0131525   0.0828427  0.187184\n",
      "RMSE                                                   0.107147   0.153194    1.00302     0.317001   0.651402\n",
      "Measures (n=50; T=10; theta=[1, 0.2, 0.4, 0.2, 1])          gamma         rho        beta      lambda     sigma\n",
      "----------------------------------------------------  -----------  ----------  ----------  ----------  --------\n",
      "Bias                                                  -0.40608     -0.16147    -1.0019     -0.0992428  0.554799\n",
      "SD                                                     0.00643148   0.0292714   0.0100906   0.0693025  0.173818\n",
      "RMSE                                                   0.406131     0.164102    1.00195     0.121045   0.58139\n"
     ]
    },
    {
     "name": "stderr",
     "output_type": "stream",
     "text": [
      "/var/folders/44/8_54q8w53q34chh_wjy62nyw0000gn/T/ipykernel_82092/2865426405.py:3: RuntimeWarning: invalid value encountered in log\n",
      "  obj= -1/2*((n-1)*T)*np.log(2*np.pi)-1/2*((n-1)*T)*np.log(sigma**2)-T*np.log(1-lam)+np.sum(get_S(sigma,lam,gamma, rho, beta))-1/(2*sigma**2)*np.sum(get_V(sigma,lam,gamma, rho, beta))\n"
     ]
    },
    {
     "name": "stdout",
     "output_type": "stream",
     "text": [
      "Measures (n=50; T=10; theta=[1, 0.5, 0.1, 0.2, 1])          gamma    rho          beta    lambda    sigma\n",
      "----------------------------------------------------  -----------  -----  ------------  --------  -------\n",
      "Bias                                                  0.7            0.8  -0.4                 1      0.5\n",
      "SD                                                    2.22045e-16    0     1.11022e-16         0      0\n",
      "RMSE                                                  0.7            0.8   0.4                 1      0.5\n",
      "Measures (n=50; T=10; theta=[1, 0.2, 0.4, 0.2, 1])          gamma         rho         beta      lambda     sigma\n",
      "----------------------------------------------------  -----------  ----------  -----------  ----------  --------\n",
      "Bias                                                  -0.407165    -0.154261   -0.999608    -0.0886742  0.533912\n",
      "SD                                                     0.00672316   0.0316467   0.00827128   0.0744479  0.162124\n",
      "RMSE                                                   0.40722      0.157474    0.999642     0.115783   0.557984\n"
     ]
    }
   ],
   "source": [
    "a=generate_multi_table(n_ls,T_ls,t_theta_ls,g_theta_ls,W_ls, N=50, auto_weight = True, alternate = True, constrain=False)"
   ]
  }
 ],
 "metadata": {
  "kernelspec": {
   "display_name": "Python 3 (ipykernel)",
   "language": "python",
   "name": "python3"
  },
  "language_info": {
   "codemirror_mode": {
    "name": "ipython",
    "version": 3
   },
   "file_extension": ".py",
   "mimetype": "text/x-python",
   "name": "python",
   "nbconvert_exporter": "python",
   "pygments_lexer": "ipython3",
   "version": "3.9.7"
  }
 },
 "nbformat": 4,
 "nbformat_minor": 5
}
