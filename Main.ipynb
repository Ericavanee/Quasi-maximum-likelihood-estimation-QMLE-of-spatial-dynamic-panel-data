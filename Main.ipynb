{
 "cells": [
  {
   "cell_type": "code",
   "execution_count": 1,
   "id": "1095f188-3792-4695-96fe-e649d1a6ab67",
   "metadata": {},
   "outputs": [],
   "source": [
    "from QMLE_scipy import *\n",
    "from explore import *"
   ]
  },
  {
   "cell_type": "markdown",
   "id": "65e7aa95-eff8-4d6c-8e72-58cc587c8a84",
   "metadata": {},
   "source": [
    "### 1. Test k=2"
   ]
  },
  {
   "cell_type": "code",
   "execution_count": 2,
   "id": "31c51542-b8e2-47c3-9700-cd541b3402d5",
   "metadata": {},
   "outputs": [],
   "source": [
    "# set up initial guess\n",
    "sigma = 1\n",
    "lam = 0.5\n",
    "gamma = 0.1\n",
    "rho = 0.2\n",
    "beta = np.array([1,2])\n",
    "params = [sigma,lam,gamma, rho, *beta]\n",
    "params\n",
    "\n",
    "# set up input data\n",
    "n = 4\n",
    "T = 4\n",
    "k = 2\n",
    "alpha = np.random.normal(0,1,4)\n",
    "c0 = np.random.normal(0,1,4)\n",
    "x1 = []\n",
    "for i in range(T):\n",
    "    x1.append(np.random.normal(0,1,8).reshape(n,k))\n",
    "y1 = []\n",
    "for i in range(T+1):\n",
    "    y1.append(np.random.normal(0,1,4))\n",
    "# manually setting up a row-normalized spatial weight vector with 0 diagonals for even time points\n",
    "w0 = np.array([[0,1,0,0],[1,0,0,0],[0,0,0,1],[0,1,0,0]]).reshape(4,4)\n",
    "w1 = np.array([[0,0,1,0],[1,0,0,0],[0,1,0,0],[1,0,0,0]]).reshape(4,4)\n",
    "W_ls = []\n",
    "for i in range(T+1):\n",
    "    if is_even(i):\n",
    "        W_ls.append(w0)\n",
    "    else:\n",
    "        W_ls.append(w1)"
   ]
  },
  {
   "cell_type": "code",
   "execution_count": 3,
   "id": "0664433e-9077-4956-b20e-df6da47e082f",
   "metadata": {},
   "outputs": [
    {
     "name": "stderr",
     "output_type": "stream",
     "text": [
      "/Users/helangchun/opt/anaconda3/lib/python3.9/site-packages/scipy/optimize/_hessian_update_strategy.py:182: UserWarning: delta_grad == 0.0. Check if the approximated function is linear. If the function is linear better results can be obtained by defining the Hessian as zero instead of using quasi-Newton approximations.\n",
      "  warn('delta_grad == 0.0. Check if the approximated '\n"
     ]
    },
    {
     "data": {
      "text/plain": [
       "[0.2793975067278372,\n",
       " -0.15305529362385853,\n",
       " 0.48265964326800814,\n",
       " 2.34921430113097,\n",
       " array([0.98424237, 0.96434712])]"
      ]
     },
     "execution_count": 3,
     "metadata": {},
     "output_type": "execute_result"
    }
   ],
   "source": [
    "# run optimization with constraints\n",
    "QMLE_scipy_estimate(alpha, c0, x1, y1, W_ls,initial_guess = params)"
   ]
  },
  {
   "cell_type": "code",
   "execution_count": 4,
   "id": "e40fe90a-04cb-46e6-a617-81d531badc45",
   "metadata": {},
   "outputs": [
    {
     "data": {
      "text/plain": [
       "[0.2793979753954539,\n",
       " -0.1530541536374055,\n",
       " 0.48266385546265134,\n",
       " 2.3492212112937207,\n",
       " array([0.98424602, 0.9643478 ])]"
      ]
     },
     "execution_count": 4,
     "metadata": {},
     "output_type": "execute_result"
    }
   ],
   "source": [
    "QMLE_scipy_estimate(alpha, c0, x1, y1, W_ls,initial_guess = params, constrain= False)"
   ]
  },
  {
   "cell_type": "markdown",
   "id": "e60c9c45-fcc3-4408-8089-4fa026380eae",
   "metadata": {},
   "source": [
    "### 2. Test k=1"
   ]
  },
  {
   "cell_type": "code",
   "execution_count": 5,
   "id": "87a4998f-3bf1-4082-b18f-4e4404adfe4c",
   "metadata": {},
   "outputs": [],
   "source": [
    "# set up initial guess\n",
    "initial_guess = [1.5,0.2,0.5,0.3,1.2] # in the order sigma, lam, gamma, rho, beta (all real numbers)\n",
    "\n",
    "n = 49\n",
    "k = 1\n",
    "T = 10\n",
    "\n",
    "# generate samples\n",
    "t_theta = [0.1,0.2,np.array([1]).reshape(k,1),0.5,1] # true parameters\n",
    "t_gamma, t_rho, t_beta, t_lam, t_sig = t_theta\n",
    "alpha = np.random.normal(0,1,T).reshape(T,1)\n",
    "c0 = np.random.normal(0,1,n).reshape(n,1)\n",
    "l_n = np.ones(n).reshape(n,1)\n",
    "x = []\n",
    "for i in range(T):\n",
    "    x.append(np.random.normal(0,1,n).reshape(n,k))\n",
    "# manually setting up a row-normalized spatial weight vector with 0 diagonals for even time points\n",
    "w0 = generate_weight_matrix(n)\n",
    "w1 = generate_weight_matrix(n)\n",
    "\n",
    "W_ls = []\n",
    "for i in range(T+1):\n",
    "    if is_even(i):\n",
    "        W_ls.append(w0)\n",
    "    else:\n",
    "        W_ls.append(w1)\n",
    "\n",
    "        V_nt = []\n",
    "for i in range(T):\n",
    "    V_nt.append(np.random.normal(0,t_sig,n).reshape(n,1))\n",
    "\n",
    "Y0 = np.random.normal(0,1,n).reshape(n,1)\n",
    "\n",
    "y = []\n",
    "y.append(Y0)\n",
    "for i in range(T):\n",
    "    c_vec = t_gamma*y[i]+t_rho*np.matmul(W_ls[i],np.array(y[i]).reshape(n,1))+np.matmul(x[i],np.array(t_beta).reshape(k,1))+c0+alpha[i][0]*l_n+V_nt[i]\n",
    "    Y_nt = np.matmul(np.linalg.inv(np.identity(n)-t_lam*W_ls[i+1]),c_vec).reshape(n,1)\n",
    "    y.append(Y_nt)"
   ]
  },
  {
   "cell_type": "code",
   "execution_count": 6,
   "id": "3d7e7263-4a35-4967-87c5-561b80234183",
   "metadata": {},
   "outputs": [
    {
     "data": {
      "text/plain": [
       "[0.9215231765447613,\n",
       " 0.4922398758847577,\n",
       " -0.00914798749363685,\n",
       " 0.24341736537097053,\n",
       " array([0.93797834])]"
      ]
     },
     "execution_count": 6,
     "metadata": {},
     "output_type": "execute_result"
    }
   ],
   "source": [
    "QMLE_scipy_estimate(alpha, c0, x, y, W_ls,initial_guess = initial_guess, constrain= False)"
   ]
  }
 ],
 "metadata": {
  "kernelspec": {
   "display_name": "Python 3 (ipykernel)",
   "language": "python",
   "name": "python3"
  },
  "language_info": {
   "codemirror_mode": {
    "name": "ipython",
    "version": 3
   },
   "file_extension": ".py",
   "mimetype": "text/x-python",
   "name": "python",
   "nbconvert_exporter": "python",
   "pygments_lexer": "ipython3",
   "version": "3.9.7"
  }
 },
 "nbformat": 4,
 "nbformat_minor": 5
}
