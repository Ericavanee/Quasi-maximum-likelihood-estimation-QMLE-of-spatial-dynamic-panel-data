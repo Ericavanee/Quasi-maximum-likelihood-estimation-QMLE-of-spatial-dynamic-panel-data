{
 "cells": [
  {
   "cell_type": "code",
   "execution_count": 1,
   "id": "1095f188-3792-4695-96fe-e649d1a6ab67",
   "metadata": {},
   "outputs": [],
   "source": [
    "from QMLE_scipy import *\n",
    "from explore import *"
   ]
  },
  {
   "cell_type": "markdown",
   "id": "65e7aa95-eff8-4d6c-8e72-58cc587c8a84",
   "metadata": {},
   "source": [
    "### 1. Test k=2"
   ]
  },
  {
   "cell_type": "code",
   "execution_count": 2,
   "id": "31c51542-b8e2-47c3-9700-cd541b3402d5",
   "metadata": {},
   "outputs": [],
   "source": [
    "# set up initial guess\n",
    "sigma = 1\n",
    "lam = 0.5\n",
    "gamma = 0.1\n",
    "rho = 0.2\n",
    "beta = np.array([1,2])\n",
    "params = [sigma,lam,gamma, rho, *beta]\n",
    "params\n",
    "\n",
    "# set up input data\n",
    "n = 4\n",
    "T = 4\n",
    "k = 2\n",
    "alpha = np.random.normal(0,1,4)\n",
    "c0 = np.random.normal(0,1,4)\n",
    "x1 = []\n",
    "for i in range(T):\n",
    "    x1.append(np.random.normal(0,1,n*k).reshape(n,k))\n",
    "y1 = []\n",
    "for i in range(T+1):\n",
    "    y1.append(np.random.normal(0,1,4))\n",
    "# manually setting up a row-normalized spatial weight vector with 0 diagonals for even time points\n",
    "w0 = np.array([[0,1,0,0],[1,0,0,0],[0,0,0,1],[0,1,0,0]]).reshape(4,4)\n",
    "w1 = np.array([[0,0,1,0],[1,0,0,0],[0,1,0,0],[1,0,0,0]]).reshape(4,4)\n",
    "W_ls = []\n",
    "for i in range(T+1):\n",
    "    if is_even(i):\n",
    "        W_ls.append(w0)\n",
    "    else:\n",
    "        W_ls.append(w1)"
   ]
  },
  {
   "cell_type": "code",
   "execution_count": 4,
   "id": "0664433e-9077-4956-b20e-df6da47e082f",
   "metadata": {},
   "outputs": [],
   "source": [
    "# run optimization with constraints\n",
    "result = QMLE_scipy_estimate(x1, y1, W_ls,initial_guess = params,est_coeff = False)"
   ]
  },
  {
   "cell_type": "code",
   "execution_count": 6,
   "id": "aca88031-7a51-4938-9173-0a357ef38cc7",
   "metadata": {},
   "outputs": [
    {
     "data": {
      "text/plain": [
       "[0.6572670293395565,\n",
       " 0.005654012937840697,\n",
       " -0.8010357962132825,\n",
       " -0.3985381230498649,\n",
       " array([-0.04058268, -0.04617951])]"
      ]
     },
     "execution_count": 6,
     "metadata": {},
     "output_type": "execute_result"
    }
   ],
   "source": [
    "result.params"
   ]
  },
  {
   "cell_type": "code",
   "execution_count": 7,
   "id": "5ce48aef-c69c-4264-b500-ad773dca8ee2",
   "metadata": {},
   "outputs": [
    {
     "data": {
      "text/plain": [
       "-0.8010357962132825"
      ]
     },
     "execution_count": 7,
     "metadata": {},
     "output_type": "execute_result"
    }
   ],
   "source": [
    "result.gamma()"
   ]
  },
  {
   "cell_type": "code",
   "execution_count": 8,
   "id": "7dd8ea68-945e-4678-bbbe-858543ee0bd1",
   "metadata": {},
   "outputs": [
    {
     "data": {
      "text/plain": [
       "0.190227706563247"
      ]
     },
     "execution_count": 8,
     "metadata": {},
     "output_type": "execute_result"
    }
   ],
   "source": [
    "result.residual_mean()"
   ]
  },
  {
   "cell_type": "code",
   "execution_count": 9,
   "id": "b33e0b9e-8ff2-4e9c-8dc4-a581f208dce4",
   "metadata": {},
   "outputs": [
    {
     "data": {
      "text/plain": [
       "0.7738978614759432"
      ]
     },
     "execution_count": 9,
     "metadata": {},
     "output_type": "execute_result"
    }
   ],
   "source": [
    "result.residual_std()"
   ]
  },
  {
   "cell_type": "code",
   "execution_count": 10,
   "id": "e05d8b06-e33d-4574-92b8-a1152b9c3b66",
   "metadata": {},
   "outputs": [
    {
     "name": "stdout",
     "output_type": "stream",
     "text": [
      "Residuals:\n",
      "     Min         1Q    Median        3Q      Max\n",
      "--------  ---------  --------  --------  -------\n",
      "-1.14437  -0.218775  0.157799  0.694451  1.69913\n",
      "\n",
      "Estimated Parameters:\n",
      "   Sigma      Lambda      Gamma        Rho  Beta\n",
      "--------  ----------  ---------  ---------  -------------------------\n",
      "0.657267  0.00565401  -0.801036  -0.398538  [-0.04058268 -0.04617951]\n",
      "\n",
      "Estimated alpha: \n",
      "  alpha_0    alpha_1    alpha_2    alpha_3\n",
      "---------  ---------  ---------  ---------\n",
      "0.0103141  0.0395066  -0.477688   0.427868\n",
      "\n",
      "Estimated c0 (display first 10 rows): \n",
      "    c0_0      c0_1        c0_2      c0_3\n",
      "--------  --------  ----------  --------\n",
      "0.829268  0.687323  -0.0345317  0.741833\n",
      "\n",
      "Estimated asympotitic variance: \n",
      "               Gamma         Rho      Beta_0       Beta_1      Lambda      Sigma^2\n",
      "-------  -----------  ----------  ----------  -----------  ----------  -----------\n",
      "Gamma     0.0960397    0.0158824   0.0330353   0.00522544  -0.0188126  -0.00717179\n",
      "Rho       0.0158824    1.04192     0.226168   -0.18152      1.20481     0.433723\n",
      "Beta_0    0.0330353    0.226168    0.105607   -0.0470131    0.25551     0.0926805\n",
      "Beta_1    0.00522544  -0.18152    -0.0470131   0.0738773   -0.212929   -0.0760973\n",
      "Lambda   -0.0188126    1.20481     0.25551    -0.212929     1.50253     0.543033\n",
      "Sigma^2  -0.00717179   0.433723    0.0926805  -0.0760973    0.543033    0.275128\n",
      "\n"
     ]
    }
   ],
   "source": [
    "result.print_table()"
   ]
  },
  {
   "cell_type": "code",
   "execution_count": 11,
   "id": "e40fe90a-04cb-46e6-a617-81d531badc45",
   "metadata": {},
   "outputs": [],
   "source": [
    "result = QMLE_scipy_estimate(x1, y1, W_ls,initial_guess = params, constrain= False)"
   ]
  },
  {
   "cell_type": "code",
   "execution_count": 12,
   "id": "5988562c-9801-4b73-9f9e-9b356af1001c",
   "metadata": {},
   "outputs": [
    {
     "name": "stdout",
     "output_type": "stream",
     "text": [
      "Residuals:\n",
      "     Min         1Q    Median        3Q      Max\n",
      "--------  ---------  --------  --------  -------\n",
      "-1.14437  -0.218777  0.157799  0.694462  1.69913\n",
      "\n",
      "Estimated Parameters:\n",
      "   Sigma      Lambda      Gamma        Rho  Beta\n",
      "--------  ----------  ---------  ---------  -------------------------\n",
      "0.657267  0.00565014  -0.801035  -0.398541  [-0.04058327 -0.04618029]\n",
      "\n",
      "Estimated alpha: \n",
      "  alpha_0    alpha_1    alpha_2    alpha_3\n",
      "---------  ---------  ---------  ---------\n",
      "0.0103123  0.0395061  -0.477691   0.427873\n",
      "\n",
      "Estimated c0 (display first 10 rows): \n",
      "    c0_0      c0_1        c0_2      c0_3\n",
      "--------  --------  ----------  --------\n",
      "0.829265  0.687327  -0.0345315  0.741833\n",
      "\n",
      "Estimated asympotitic variance: \n",
      "               Gamma         Rho      Beta_0       Beta_1      Lambda     Sigma^2\n",
      "-------  -----------  ----------  ----------  -----------  ----------  ----------\n",
      "Gamma     0.0960396    0.0158819   0.0330352   0.00522553  -0.0188131  -0.007172\n",
      "Rho       0.0158819    1.04191     0.226169   -0.181518     1.2048      0.433719\n",
      "Beta_0    0.0330352    0.226169    0.105607   -0.0470134    0.255511    0.092681\n",
      "Beta_1    0.00522553  -0.181518   -0.0470134   0.0738772   -0.212928   -0.0760969\n",
      "Lambda   -0.0188131    1.2048      0.255511   -0.212928     1.50251     0.543028\n",
      "Sigma^2  -0.007172     0.433719    0.092681   -0.0760969    0.543028    0.275127\n",
      "\n"
     ]
    }
   ],
   "source": [
    "result.print_table()"
   ]
  },
  {
   "cell_type": "markdown",
   "id": "e60c9c45-fcc3-4408-8089-4fa026380eae",
   "metadata": {},
   "source": [
    "### 2. Test k=1"
   ]
  },
  {
   "cell_type": "code",
   "execution_count": 13,
   "id": "87a4998f-3bf1-4082-b18f-4e4404adfe4c",
   "metadata": {},
   "outputs": [],
   "source": [
    "# set up initial guess\n",
    "initial_guess = [1.5,0.2,0.5,0.3,1.2] # in the order sigma, lam, gamma, rho, beta (all real numbers)\n",
    "\n",
    "n = 20\n",
    "k = 1\n",
    "T = 10\n",
    "\n",
    "# generate samples\n",
    "t_theta = [0.1,0.2,np.array([1]).reshape(k,1),0.5,1] # true parameters\n",
    "t_gamma, t_rho, t_beta, t_lam, t_sig = t_theta\n",
    "alpha = np.random.normal(0,1,T).reshape(T,1)\n",
    "c0 = np.random.normal(0,1,n).reshape(n,1)\n",
    "l_n = np.ones(n).reshape(n,1)\n",
    "x = []\n",
    "for i in range(T):\n",
    "    x.append(np.random.normal(0,1,n).reshape(n,k))\n",
    "# manually setting up a row-normalized spatial weight vector with 0 diagonals for even time points\n",
    "w0 = generate_weight_matrix(n)\n",
    "w1 = generate_weight_matrix(n)\n",
    "\n",
    "W_ls = []\n",
    "for i in range(T+1):\n",
    "    if is_even(i):\n",
    "        W_ls.append(w0)\n",
    "    else:\n",
    "        W_ls.append(w1)\n",
    "\n",
    "        V_nt = []\n",
    "for i in range(T):\n",
    "    V_nt.append(np.random.normal(0,t_sig,n).reshape(n,1))\n",
    "\n",
    "Y0 = np.random.normal(0,1,n).reshape(n,1)\n",
    "\n",
    "y = []\n",
    "y.append(Y0)\n",
    "for i in range(T):\n",
    "    c_vec = t_gamma*y[i]+t_rho*np.matmul(W_ls[i],np.array(y[i]).reshape(n,1))+np.matmul(x[i],np.array(t_beta).reshape(k,1))+c0+alpha[i][0]*l_n+V_nt[i]\n",
    "    Y_nt = np.matmul(np.linalg.inv(np.identity(n)-t_lam*W_ls[i+1]),c_vec).reshape(n,1)\n",
    "    y.append(Y_nt)"
   ]
  },
  {
   "cell_type": "code",
   "execution_count": 14,
   "id": "3d7e7263-4a35-4967-87c5-561b80234183",
   "metadata": {},
   "outputs": [],
   "source": [
    "result = QMLE_scipy_estimate(x, y, W_ls,initial_guess = initial_guess, constrain= False)"
   ]
  },
  {
   "cell_type": "code",
   "execution_count": 15,
   "id": "62d532d3-e784-455e-bad7-3b3b9e011d30",
   "metadata": {},
   "outputs": [
    {
     "name": "stdout",
     "output_type": "stream",
     "text": [
      "Residuals:\n",
      "     Min         1Q      Median       3Q      Max\n",
      "--------  ---------  ----------  -------  -------\n",
      "-3.20638  -0.895513  -0.0683062  0.50206  2.84372\n",
      "\n",
      "Estimated Parameters:\n",
      "   Sigma    Lambda      Gamma       Rho      Beta\n",
      "--------  --------  ---------  --------  --------\n",
      "0.904726  0.496518  0.0268611  0.226456  0.839046\n",
      "\n",
      "Estimated alpha: \n",
      "  alpha_0    alpha_1      alpha_2    alpha_3     alpha_4    alpha_5    alpha_6    alpha_7     alpha_8    alpha_9\n",
      "---------  ---------  -----------  ---------  ----------  ---------  ---------  ---------  ----------  ---------\n",
      "-0.656302   0.328088  -0.00884961  -0.144737  -0.0575587   0.709578   -1.02981   0.336587  -0.0278937   0.550901\n",
      "\n",
      "Estimated c0 (display first 10 rows): \n",
      "   c0_0      c0_1     c0_2       c0_3       c0_4      c0_5      c0_6     c0_7       c0_8       c0_9\n",
      "-------  --------  -------  ---------  ---------  --------  --------  -------  ---------  ---------\n",
      "0.37483  0.504901  1.16341  -0.912153  -0.462692  -0.58143  0.428066  1.28714  -0.689614  -0.130533\n",
      "\n",
      "Estimated asympotitic variance: \n",
      "                Gamma           Rho        Beta_0        Lambda       Sigma^2\n",
      "-------  ------------  ------------  ------------  ------------  ------------\n",
      "Gamma     0.00244931   -0.00105077    9.207e-05    -2.07589e-05  -3.13724e-06\n",
      "Rho      -0.00105077    0.00204595   -7.7845e-05    0.000316595   4.36154e-05\n",
      "Beta_0    9.207e-05    -7.7845e-05    0.00581894    0.00114957    0.000156808\n",
      "Lambda   -2.07589e-05   0.000316595   0.00114957    0.00813467    0.0011036\n",
      "Sigma^2  -3.13724e-06   4.36154e-05   0.000156808   0.0011036     0.0221885\n",
      "\n"
     ]
    }
   ],
   "source": [
    "result.print_table()"
   ]
  },
  {
   "cell_type": "code",
   "execution_count": 16,
   "id": "d783a776-c1d3-4a79-b55d-ca4245f5ccd6",
   "metadata": {},
   "outputs": [],
   "source": [
    "result = QMLE_scipy_estimate(x, y, W_ls,initial_guess = initial_guess, constrain= False)"
   ]
  },
  {
   "cell_type": "code",
   "execution_count": 17,
   "id": "20f255cc-283e-4632-a845-c766fa0c2269",
   "metadata": {},
   "outputs": [
    {
     "name": "stdout",
     "output_type": "stream",
     "text": [
      "Residuals:\n",
      "     Min         1Q      Median       3Q      Max\n",
      "--------  ---------  ----------  -------  -------\n",
      "-3.20638  -0.895513  -0.0683062  0.50206  2.84372\n",
      "\n",
      "Estimated Parameters:\n",
      "   Sigma    Lambda      Gamma       Rho      Beta\n",
      "--------  --------  ---------  --------  --------\n",
      "0.904726  0.496518  0.0268611  0.226456  0.839046\n",
      "\n",
      "Estimated alpha: \n",
      "  alpha_0    alpha_1      alpha_2    alpha_3     alpha_4    alpha_5    alpha_6    alpha_7     alpha_8    alpha_9\n",
      "---------  ---------  -----------  ---------  ----------  ---------  ---------  ---------  ----------  ---------\n",
      "-0.656302   0.328088  -0.00884961  -0.144737  -0.0575587   0.709578   -1.02981   0.336587  -0.0278937   0.550901\n",
      "\n",
      "Estimated c0 (display first 10 rows): \n",
      "   c0_0      c0_1     c0_2       c0_3       c0_4      c0_5      c0_6     c0_7       c0_8       c0_9\n",
      "-------  --------  -------  ---------  ---------  --------  --------  -------  ---------  ---------\n",
      "0.37483  0.504901  1.16341  -0.912153  -0.462692  -0.58143  0.428066  1.28714  -0.689614  -0.130533\n",
      "\n",
      "Estimated asympotitic variance: \n",
      "                Gamma           Rho        Beta_0        Lambda       Sigma^2\n",
      "-------  ------------  ------------  ------------  ------------  ------------\n",
      "Gamma     0.00244931   -0.00105077    9.207e-05    -2.07589e-05  -3.13724e-06\n",
      "Rho      -0.00105077    0.00204595   -7.7845e-05    0.000316595   4.36154e-05\n",
      "Beta_0    9.207e-05    -7.7845e-05    0.00581894    0.00114957    0.000156808\n",
      "Lambda   -2.07589e-05   0.000316595   0.00114957    0.00813467    0.0011036\n",
      "Sigma^2  -3.13724e-06   4.36154e-05   0.000156808   0.0011036     0.0221885\n",
      "\n"
     ]
    }
   ],
   "source": [
    "result.print_table()"
   ]
  },
  {
   "cell_type": "code",
   "execution_count": null,
   "id": "b8e9506e-ac41-4f03-a727-c27d88e1b91b",
   "metadata": {},
   "outputs": [],
   "source": []
  }
 ],
 "metadata": {
  "kernelspec": {
   "display_name": "Python 3 (ipykernel)",
   "language": "python",
   "name": "python3"
  },
  "language_info": {
   "codemirror_mode": {
    "name": "ipython",
    "version": 3
   },
   "file_extension": ".py",
   "mimetype": "text/x-python",
   "name": "python",
   "nbconvert_exporter": "python",
   "pygments_lexer": "ipython3",
   "version": "3.9.7"
  }
 },
 "nbformat": 4,
 "nbformat_minor": 5
}
