{
 "cells": [
  {
   "cell_type": "code",
   "execution_count": 1,
   "id": "1095f188-3792-4695-96fe-e649d1a6ab67",
   "metadata": {},
   "outputs": [],
   "source": [
    "from QMLE_scipy import *\n",
    "from explore import *"
   ]
  },
  {
   "cell_type": "markdown",
   "id": "65e7aa95-eff8-4d6c-8e72-58cc587c8a84",
   "metadata": {},
   "source": [
    "### 1. Test k=2"
   ]
  },
  {
   "cell_type": "code",
   "execution_count": 2,
   "id": "31c51542-b8e2-47c3-9700-cd541b3402d5",
   "metadata": {},
   "outputs": [],
   "source": [
    "# set up initial guess\n",
    "sigma = 1\n",
    "lam = 0.5\n",
    "gamma = 0.1\n",
    "rho = 0.2\n",
    "beta = np.array([1,2])\n",
    "params = [sigma,lam,gamma, rho, *beta]\n",
    "params\n",
    "\n",
    "# set up input data\n",
    "n = 4\n",
    "T = 4\n",
    "k = 2\n",
    "alpha = np.random.normal(0,1,4)\n",
    "c0 = np.random.normal(0,1,4)\n",
    "x1 = []\n",
    "for i in range(T):\n",
    "    x1.append(np.random.normal(0,1,n*k).reshape(n,k))\n",
    "y1 = []\n",
    "for i in range(T+1):\n",
    "    y1.append(np.random.normal(0,1,4))\n",
    "# manually setting up a row-normalized spatial weight vector with 0 diagonals for even time points\n",
    "w0 = np.array([[0,1,0,0],[1,0,0,0],[0,0,0,1],[0,1,0,0]]).reshape(4,4)\n",
    "w1 = np.array([[0,0,1,0],[1,0,0,0],[0,1,0,0],[1,0,0,0]]).reshape(4,4)\n",
    "W_ls = []\n",
    "for i in range(T+1):\n",
    "    if is_even(i):\n",
    "        W_ls.append(w0)\n",
    "    else:\n",
    "        W_ls.append(w1)"
   ]
  },
  {
   "cell_type": "code",
   "execution_count": 4,
   "id": "0664433e-9077-4956-b20e-df6da47e082f",
   "metadata": {},
   "outputs": [],
   "source": [
    "# run optimization with constraints\n",
    "result = QMLE_scipy_estimate(x1, y1, W_ls,initial_guess = params,est_coeff = False)"
   ]
  },
  {
   "cell_type": "code",
   "execution_count": 5,
   "id": "aca88031-7a51-4938-9173-0a357ef38cc7",
   "metadata": {},
   "outputs": [
    {
     "data": {
      "text/plain": [
       "[0.6739760370692636,\n",
       " -0.4737341285408044,\n",
       " -0.42025286950435436,\n",
       " -0.5876667412448603,\n",
       " array([ 0.16144904, -0.09739646])]"
      ]
     },
     "execution_count": 5,
     "metadata": {},
     "output_type": "execute_result"
    }
   ],
   "source": [
    "result.parameters"
   ]
  },
  {
   "cell_type": "code",
   "execution_count": 6,
   "id": "5ce48aef-c69c-4264-b500-ad773dca8ee2",
   "metadata": {},
   "outputs": [
    {
     "data": {
      "text/plain": [
       "-0.42025286950435436"
      ]
     },
     "execution_count": 6,
     "metadata": {},
     "output_type": "execute_result"
    }
   ],
   "source": [
    "result.gamma()"
   ]
  },
  {
   "cell_type": "code",
   "execution_count": 7,
   "id": "44958488-047d-4405-b49d-9505824b539a",
   "metadata": {},
   "outputs": [
    {
     "data": {
      "text/plain": [
       "[array([ 0.16144904, -0.09739646])]"
      ]
     },
     "execution_count": 7,
     "metadata": {},
     "output_type": "execute_result"
    }
   ],
   "source": [
    "result.beta()"
   ]
  },
  {
   "cell_type": "code",
   "execution_count": 8,
   "id": "7dd8ea68-945e-4678-bbbe-858543ee0bd1",
   "metadata": {},
   "outputs": [
    {
     "data": {
      "text/plain": [
       "0.14551029633298995"
      ]
     },
     "execution_count": 8,
     "metadata": {},
     "output_type": "execute_result"
    }
   ],
   "source": [
    "result.residual_mean()"
   ]
  },
  {
   "cell_type": "code",
   "execution_count": 9,
   "id": "b33e0b9e-8ff2-4e9c-8dc4-a581f208dce4",
   "metadata": {},
   "outputs": [
    {
     "data": {
      "text/plain": [
       "1.6250143704907318"
      ]
     },
     "execution_count": 9,
     "metadata": {},
     "output_type": "execute_result"
    }
   ],
   "source": [
    "result.residual_std()"
   ]
  },
  {
   "cell_type": "code",
   "execution_count": 10,
   "id": "e05d8b06-e33d-4574-92b8-a1152b9c3b66",
   "metadata": {},
   "outputs": [
    {
     "name": "stdout",
     "output_type": "stream",
     "text": [
      "Residuals:\n",
      "     Min        1Q      Median       3Q      Max\n",
      "--------  --------  ----------  -------  -------\n",
      "-2.02688  -1.35917  -0.0525139  1.77555  3.05994\n",
      "\n",
      "Estimated Parameters:\n",
      "   Sigma     Lambda      Gamma        Rho  Beta\n",
      "--------  ---------  ---------  ---------  -----------------------------------\n",
      "0.673976  -0.473734  -0.420253  -0.587667  [array([ 0.16144904, -0.09739646])]\n",
      "\n",
      "Estimated alpha: \n",
      "  alpha_0    alpha_1    alpha_2    alpha_3\n",
      "---------  ---------  ---------  ---------\n",
      "-0.316751    1.31824   -1.25436   0.252866\n",
      "\n",
      "Estimated c0 (display first 10 rows): \n",
      "    c0_0      c0_1      c0_2      c0_3\n",
      "--------  --------  --------  --------\n",
      "0.159468  0.314142  0.457786  0.255285\n",
      "\n",
      "Estimated asympotitic variance: \n",
      "                          Gamma         Rho      Beta_0      Lambda     Sigma^2\n",
      "-------  ----------  ----------  ----------  ----------  ----------  ----------\n",
      "Gamma     0.0839639   0.0525068   0.0326105   0.0469255  -0.119602   -0.0523807\n",
      "Rho       0.0525068   0.111868    0.0144163   0.0226806  -0.0444412  -0.0211255\n",
      "Beta_0    0.0326105   0.0144163   0.0939714   0.0493732  -0.156817   -0.06276\n",
      "Lambda    0.0469255   0.0226806   0.0493732   0.176999   -0.276549   -0.116177\n",
      "Sigma^2  -0.119602   -0.0444412  -0.156817   -0.276549    0.827459    0.342386\n",
      "\n"
     ]
    }
   ],
   "source": [
    "result.print_table()"
   ]
  },
  {
   "cell_type": "code",
   "execution_count": 12,
   "id": "e40fe90a-04cb-46e6-a617-81d531badc45",
   "metadata": {},
   "outputs": [],
   "source": [
    "result = QMLE_scipy_estimate(x1, y1, W_ls,initial_guess = params, constrain= False)"
   ]
  },
  {
   "cell_type": "code",
   "execution_count": 13,
   "id": "5988562c-9801-4b73-9f9e-9b356af1001c",
   "metadata": {},
   "outputs": [
    {
     "name": "stdout",
     "output_type": "stream",
     "text": [
      "Residuals:\n",
      "    Min        1Q      Median       3Q      Max\n",
      "-------  --------  ----------  -------  -------\n",
      "-2.0269  -1.35917  -0.0525114  1.77555  3.05995\n",
      "\n",
      "Estimated Parameters:\n",
      "   Sigma     Lambda      Gamma        Rho  Beta\n",
      "--------  ---------  ---------  ---------  -----------------------------------\n",
      "0.673976  -0.473736  -0.420246  -0.587663  [array([ 0.16145066, -0.09739958])]\n",
      "\n",
      "Estimated alpha: \n",
      "  alpha_0    alpha_1    alpha_2    alpha_3\n",
      "---------  ---------  ---------  ---------\n",
      "-0.316759    1.31824   -1.25435   0.252869\n",
      "\n",
      "Estimated c0 (display first 10 rows): \n",
      "    c0_0      c0_1      c0_2      c0_3\n",
      "--------  --------  --------  --------\n",
      "0.159465  0.314135  0.457781  0.255281\n",
      "\n",
      "Estimated asympotitic variance: \n",
      "                          Gamma         Rho      Beta_0      Lambda     Sigma^2\n",
      "-------  ----------  ----------  ----------  ----------  ----------  ----------\n",
      "Gamma     0.0839637   0.0525074   0.0326102   0.046925   -0.119601   -0.0523804\n",
      "Rho       0.0525074   0.111869    0.014417    0.022682   -0.0444456  -0.0211274\n",
      "Beta_0    0.0326102   0.014417    0.0939709   0.0493726  -0.156816   -0.0627595\n",
      "Lambda    0.046925    0.022682    0.0493726   0.176998   -0.276547   -0.116176\n",
      "Sigma^2  -0.119601   -0.0444456  -0.156816   -0.276547    0.827459    0.342386\n",
      "\n"
     ]
    }
   ],
   "source": [
    "result.print_table()"
   ]
  },
  {
   "cell_type": "markdown",
   "id": "e60c9c45-fcc3-4408-8089-4fa026380eae",
   "metadata": {},
   "source": [
    "### 2. Test k=1"
   ]
  },
  {
   "cell_type": "code",
   "execution_count": 14,
   "id": "87a4998f-3bf1-4082-b18f-4e4404adfe4c",
   "metadata": {},
   "outputs": [],
   "source": [
    "# set up initial guess\n",
    "initial_guess = [1.5,0.2,0.5,0.3,1.2] # in the order sigma, lam, gamma, rho, beta (all real numbers)\n",
    "\n",
    "n = 20\n",
    "k = 1\n",
    "T = 10\n",
    "\n",
    "# generate samples\n",
    "t_theta = [0.1,0.2,np.array([1]).reshape(k,1),0.5,1] # true parameters\n",
    "t_gamma, t_rho, t_beta, t_lam, t_sig = t_theta\n",
    "alpha = np.random.normal(0,1,T).reshape(T,1)\n",
    "c0 = np.random.normal(0,1,n).reshape(n,1)\n",
    "l_n = np.ones(n).reshape(n,1)\n",
    "x = []\n",
    "for i in range(T):\n",
    "    x.append(np.random.normal(0,1,n).reshape(n,k))\n",
    "# manually setting up a row-normalized spatial weight vector with 0 diagonals for even time points\n",
    "w0 = generate_weight_matrix(n)\n",
    "w1 = generate_weight_matrix(n)\n",
    "\n",
    "W_ls = []\n",
    "for i in range(T+1):\n",
    "    if is_even(i):\n",
    "        W_ls.append(w0)\n",
    "    else:\n",
    "        W_ls.append(w1)\n",
    "\n",
    "        V_nt = []\n",
    "for i in range(T):\n",
    "    V_nt.append(np.random.normal(0,t_sig,n).reshape(n,1))\n",
    "\n",
    "Y0 = np.random.normal(0,1,n).reshape(n,1)\n",
    "\n",
    "y = []\n",
    "y.append(Y0)\n",
    "for i in range(T):\n",
    "    c_vec = t_gamma*y[i]+t_rho*np.matmul(W_ls[i],np.array(y[i]).reshape(n,1))+np.matmul(x[i],np.array(t_beta).reshape(k,1))+c0+alpha[i][0]*l_n+V_nt[i]\n",
    "    Y_nt = np.matmul(np.linalg.inv(np.identity(n)-t_lam*W_ls[i+1]),c_vec).reshape(n,1)\n",
    "    y.append(Y_nt)"
   ]
  },
  {
   "cell_type": "code",
   "execution_count": 15,
   "id": "3d7e7263-4a35-4967-87c5-561b80234183",
   "metadata": {},
   "outputs": [],
   "source": [
    "result = QMLE_scipy_estimate(x, y, W_ls,initial_guess = initial_guess, constrain= False)"
   ]
  },
  {
   "cell_type": "code",
   "execution_count": 16,
   "id": "62d532d3-e784-455e-bad7-3b3b9e011d30",
   "metadata": {},
   "outputs": [
    {
     "name": "stdout",
     "output_type": "stream",
     "text": [
      "Residuals:\n",
      "     Min       1Q     Median        3Q      Max\n",
      "--------  -------  ---------  --------  -------\n",
      "-4.09632  -1.3641  -0.360619  0.705146  3.11206\n",
      "\n",
      "Estimated Parameters:\n",
      "   Sigma    Lambda      Gamma       Rho  Beta\n",
      "--------  --------  ---------  --------  ---------------------\n",
      "0.924593  0.452931  0.0699691  0.193895  [array([0.84097786])]\n",
      "\n",
      "Estimated alpha: \n",
      "  alpha_0    alpha_1    alpha_2    alpha_3    alpha_4    alpha_5    alpha_6    alpha_7    alpha_8    alpha_9\n",
      "---------  ---------  ---------  ---------  ---------  ---------  ---------  ---------  ---------  ---------\n",
      " 0.165048  -0.586928   0.702952   0.664429   0.191917  -0.691155   -1.27248    0.59183  -0.162627   0.397013\n",
      "\n",
      "Estimated c0 (display first 10 rows): \n",
      "    c0_0       c0_1      c0_2      c0_3       c0_4      c0_5    c0_6     c0_7       c0_8     c0_9\n",
      "--------  ---------  --------  --------  ---------  --------  ------  -------  ---------  -------\n",
      "0.200112  -0.630222  0.138985  0.181304  -0.715681  0.434026  0.1779  0.16658  -0.679964  -1.2955\n",
      "\n",
      "Estimated asympotitic variance: \n",
      "                Gamma           Rho        Beta_0        Lambda       Sigma^2\n",
      "-------  ------------  ------------  ------------  ------------  ------------\n",
      "Gamma     0.00266355   -0.000789224   0.000280722  -0.000644324  -0.000152079\n",
      "Rho      -0.000789224   0.00251698   -9.45889e-05  -0.000450003  -0.000105622\n",
      "Beta_0    0.000280722  -9.45889e-05   0.00458816    0.000205894   4.71584e-05\n",
      "Lambda   -0.000644324  -0.000450003   0.000205894   0.00664281    0.00157588\n",
      "Sigma^2  -0.000152079  -0.000105622   4.71584e-05   0.00157588    0.0201059\n",
      "\n"
     ]
    }
   ],
   "source": [
    "result.print_table()"
   ]
  },
  {
   "cell_type": "code",
   "execution_count": 17,
   "id": "d783a776-c1d3-4a79-b55d-ca4245f5ccd6",
   "metadata": {},
   "outputs": [],
   "source": [
    "result = QMLE_scipy_estimate(x, y, W_ls,initial_guess = initial_guess, constrain= False)"
   ]
  },
  {
   "cell_type": "code",
   "execution_count": null,
   "id": "20f255cc-283e-4632-a845-c766fa0c2269",
   "metadata": {},
   "outputs": [],
   "source": [
    "result.print_table"
   ]
  }
 ],
 "metadata": {
  "kernelspec": {
   "display_name": "Python 3 (ipykernel)",
   "language": "python",
   "name": "python3"
  },
  "language_info": {
   "codemirror_mode": {
    "name": "ipython",
    "version": 3
   },
   "file_extension": ".py",
   "mimetype": "text/x-python",
   "name": "python",
   "nbconvert_exporter": "python",
   "pygments_lexer": "ipython3",
   "version": "3.9.7"
  }
 },
 "nbformat": 4,
 "nbformat_minor": 5
}
