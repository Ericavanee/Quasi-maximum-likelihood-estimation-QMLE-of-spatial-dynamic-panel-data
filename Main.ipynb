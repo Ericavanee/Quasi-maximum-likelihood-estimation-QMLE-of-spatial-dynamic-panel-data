{
 "cells": [
  {
   "cell_type": "code",
   "execution_count": 1,
   "id": "1095f188-3792-4695-96fe-e649d1a6ab67",
   "metadata": {},
   "outputs": [],
   "source": [
    "from QMLE_scipy import *\n",
    "from explore import *"
   ]
  },
  {
   "cell_type": "markdown",
   "id": "65e7aa95-eff8-4d6c-8e72-58cc587c8a84",
   "metadata": {},
   "source": [
    "### 1. Test k=2"
   ]
  },
  {
   "cell_type": "code",
   "execution_count": 2,
   "id": "31c51542-b8e2-47c3-9700-cd541b3402d5",
   "metadata": {},
   "outputs": [],
   "source": [
    "# set up initial guess\n",
    "sigma = 1\n",
    "lam = 0.5\n",
    "gamma = 0.1\n",
    "rho = 0.2\n",
    "beta = np.array([1,2])\n",
    "params = [sigma,lam,gamma, rho, *beta]\n",
    "params\n",
    "\n",
    "# set up input data\n",
    "n = 4\n",
    "T = 4\n",
    "k = 2\n",
    "alpha = np.random.normal(0,1,4)\n",
    "c0 = np.random.normal(0,1,4)\n",
    "x1 = []\n",
    "for i in range(T):\n",
    "    x1.append(np.random.normal(0,1,n*k).reshape(n,k))\n",
    "y1 = []\n",
    "for i in range(T+1):\n",
    "    y1.append(np.random.normal(0,1,4))\n",
    "# manually setting up a row-normalized spatial weight vector with 0 diagonals for even time points\n",
    "w0 = np.array([[0,1,0,0],[1,0,0,0],[0,0,0,1],[0,1,0,0]]).reshape(4,4)\n",
    "w1 = np.array([[0,0,1,0],[1,0,0,0],[0,1,0,0],[1,0,0,0]]).reshape(4,4)\n",
    "W_ls = []\n",
    "for i in range(T+1):\n",
    "    if is_even(i):\n",
    "        W_ls.append(w0)\n",
    "    else:\n",
    "        W_ls.append(w1)"
   ]
  },
  {
   "cell_type": "code",
   "execution_count": 4,
   "id": "0664433e-9077-4956-b20e-df6da47e082f",
   "metadata": {},
   "outputs": [],
   "source": [
    "# run optimization with constraints\n",
    "result = QMLE_scipy_estimate(x1, y1, W_ls,initial_guess = params,est_coeff = False)"
   ]
  },
  {
   "cell_type": "code",
   "execution_count": 5,
   "id": "aca88031-7a51-4938-9173-0a357ef38cc7",
   "metadata": {},
   "outputs": [
    {
     "data": {
      "text/plain": [
       "[0.8234836645460724,\n",
       " 0.26711162818357315,\n",
       " -0.5518536233851673,\n",
       " -0.06099135116078457,\n",
       " array([0.58284494, 0.72495343])]"
      ]
     },
     "execution_count": 5,
     "metadata": {},
     "output_type": "execute_result"
    }
   ],
   "source": [
    "result.params"
   ]
  },
  {
   "cell_type": "code",
   "execution_count": 6,
   "id": "5ce48aef-c69c-4264-b500-ad773dca8ee2",
   "metadata": {},
   "outputs": [
    {
     "data": {
      "text/plain": [
       "-0.5518536233851673"
      ]
     },
     "execution_count": 6,
     "metadata": {},
     "output_type": "execute_result"
    }
   ],
   "source": [
    "result.gamma()"
   ]
  },
  {
   "cell_type": "code",
   "execution_count": 7,
   "id": "7dd8ea68-945e-4678-bbbe-858543ee0bd1",
   "metadata": {},
   "outputs": [
    {
     "data": {
      "text/plain": [
       "-0.014427880456180125"
      ]
     },
     "execution_count": 7,
     "metadata": {},
     "output_type": "execute_result"
    }
   ],
   "source": [
    "result.residual_mean()"
   ]
  },
  {
   "cell_type": "code",
   "execution_count": 8,
   "id": "b33e0b9e-8ff2-4e9c-8dc4-a581f208dce4",
   "metadata": {},
   "outputs": [
    {
     "data": {
      "text/plain": [
       "0.7976726564809411"
      ]
     },
     "execution_count": 8,
     "metadata": {},
     "output_type": "execute_result"
    }
   ],
   "source": [
    "result.residual_std()"
   ]
  },
  {
   "cell_type": "code",
   "execution_count": 9,
   "id": "3f4cb89b-3ae8-4d26-a0c7-ee22f169940c",
   "metadata": {},
   "outputs": [
    {
     "data": {
      "text/plain": [
       "array([[ 0.27532024, -0.11183192,  0.17212879, -0.09062966, -0.23770971,\n",
       "        -0.12794589],\n",
       "       [-0.11183192,  0.68277726,  0.16952129, -0.48552553,  0.01427696,\n",
       "        -0.01357915],\n",
       "       [ 0.17212879,  0.16952129,  0.46630032, -0.35976425, -0.17389169,\n",
       "        -0.09755707],\n",
       "       [-0.09062966, -0.48552553, -0.35976425,  0.67135597,  0.16575271,\n",
       "         0.10820594],\n",
       "       [-0.23770971,  0.01427696, -0.17389169,  0.16575271,  0.30277952,\n",
       "         0.17306741],\n",
       "       [-0.12794589, -0.01357915, -0.09755707,  0.10820594,  0.17306741,\n",
       "         0.21644569]])"
      ]
     },
     "execution_count": 9,
     "metadata": {},
     "output_type": "execute_result"
    }
   ],
   "source": [
    "result.asymp_var()"
   ]
  },
  {
   "cell_type": "code",
   "execution_count": 10,
   "id": "e05d8b06-e33d-4574-92b8-a1152b9c3b66",
   "metadata": {},
   "outputs": [
    {
     "name": "stdout",
     "output_type": "stream",
     "text": [
      "Residuals:\n",
      "     Min         1Q     Median        3Q      Max\n",
      "--------  ---------  ---------  --------  -------\n",
      "-1.64196  -0.442753  0.0138896  0.431488  1.27584\n",
      "\n",
      "Estimated Parameters:\n",
      "   Sigma    Lambda      Gamma         Rho  Beta\n",
      "--------  --------  ---------  ----------  -----------------------\n",
      "0.823484  0.267112  -0.551854  -0.0609914  [0.58284494 0.72495343]\n",
      "\n",
      "Estimated alpha (display first 10 rows): \n",
      "  alpha_0    alpha_1    alpha_2    alpha_3\n",
      "---------  ---------  ---------  ---------\n",
      " 0.261146  0.0697027    0.25164  -0.582489\n",
      "\n",
      "Estimated c0 (display first 10 rows): \n",
      "    c0_0      c0_1      c0_2       c0_3\n",
      "--------  --------  --------  ---------\n",
      "0.775571  0.721358  0.599133  -0.234643\n",
      "\n",
      "Estimated asympotitic variance: \n",
      "              Gamma         Rho      Beta_0      Beta_1     Lambda     Sigma^2\n",
      "-------  ----------  ----------  ----------  ----------  ---------  ----------\n",
      "Gamma     0.27532    -0.111832    0.172129   -0.0906297  -0.23771   -0.127946\n",
      "Rho      -0.111832    0.682777    0.169521   -0.485526    0.014277  -0.0135791\n",
      "Beta_0    0.172129    0.169521    0.4663     -0.359764   -0.173892  -0.0975571\n",
      "Beta_1   -0.0906297  -0.485526   -0.359764    0.671356    0.165753   0.108206\n",
      "Lambda   -0.23771     0.014277   -0.173892    0.165753    0.30278    0.173067\n",
      "Sigma^2  -0.127946   -0.0135791  -0.0975571   0.108206    0.173067   0.216446\n",
      "\n"
     ]
    }
   ],
   "source": [
    "result.print_table()"
   ]
  },
  {
   "cell_type": "code",
   "execution_count": 12,
   "id": "e40fe90a-04cb-46e6-a617-81d531badc45",
   "metadata": {},
   "outputs": [],
   "source": [
    "result = QMLE_scipy_estimate(x1, y1, W_ls,initial_guess = params, constrain= False)"
   ]
  },
  {
   "cell_type": "code",
   "execution_count": 13,
   "id": "5988562c-9801-4b73-9f9e-9b356af1001c",
   "metadata": {},
   "outputs": [
    {
     "name": "stdout",
     "output_type": "stream",
     "text": [
      "Residuals:\n",
      "     Min         1Q     Median        3Q      Max\n",
      "--------  ---------  ---------  --------  -------\n",
      "-1.64196  -0.442753  0.0138887  0.431489  1.27584\n",
      "\n",
      "Estimated Parameters:\n",
      "   Sigma    Lambda      Gamma        Rho  Beta\n",
      "--------  --------  ---------  ---------  -----------------------\n",
      "0.823484  0.267113  -0.551855  -0.060991  [0.58284467 0.72495197]\n",
      "\n",
      "Estimated alpha (display first 10 rows): \n",
      "  alpha_0    alpha_1    alpha_2    alpha_3\n",
      "---------  ---------  ---------  ---------\n",
      " 0.261146  0.0697042    0.25164   -0.58249\n",
      "\n",
      "Estimated c0 (display first 10 rows): \n",
      "    c0_0      c0_1      c0_2       c0_3\n",
      "--------  --------  --------  ---------\n",
      "0.775571  0.721357  0.599133  -0.234645\n",
      "\n",
      "Estimated asympotitic variance: \n",
      "              Gamma         Rho      Beta_0      Beta_1      Lambda     Sigma^2\n",
      "-------  ----------  ----------  ----------  ----------  ----------  ----------\n",
      "Gamma     0.275321   -0.111833    0.172129   -0.0906291  -0.23771    -0.127946\n",
      "Rho      -0.111833    0.682778    0.169521   -0.485526    0.0142778  -0.0135787\n",
      "Beta_0    0.172129    0.169521    0.4663     -0.359764   -0.173891   -0.0975569\n",
      "Beta_1   -0.0906291  -0.485526   -0.359764    0.671356    0.165752    0.108205\n",
      "Lambda   -0.23771     0.0142778  -0.173891    0.165752    0.302779    0.173067\n",
      "Sigma^2  -0.127946   -0.0135787  -0.0975569   0.108205    0.173067    0.216446\n",
      "\n"
     ]
    }
   ],
   "source": [
    "result.print_table()"
   ]
  },
  {
   "cell_type": "markdown",
   "id": "e60c9c45-fcc3-4408-8089-4fa026380eae",
   "metadata": {},
   "source": [
    "### 2. Test k=1"
   ]
  },
  {
   "cell_type": "code",
   "execution_count": 14,
   "id": "87a4998f-3bf1-4082-b18f-4e4404adfe4c",
   "metadata": {},
   "outputs": [],
   "source": [
    "# set up initial guess\n",
    "initial_guess = [1.5,0.2,0.5,0.3,1.2] # in the order sigma, lam, gamma, rho, beta (all real numbers)\n",
    "\n",
    "n = 20\n",
    "k = 1\n",
    "T = 10\n",
    "\n",
    "# generate samples\n",
    "t_theta = [0.1,0.2,np.array([1]).reshape(k,1),0.5,1] # true parameters\n",
    "t_gamma, t_rho, t_beta, t_lam, t_sig = t_theta\n",
    "alpha = np.random.normal(0,1,T).reshape(T,1)\n",
    "c0 = np.random.normal(0,1,n).reshape(n,1)\n",
    "l_n = np.ones(n).reshape(n,1)\n",
    "x = []\n",
    "for i in range(T):\n",
    "    x.append(np.random.normal(0,1,n).reshape(n,k))\n",
    "# manually setting up a row-normalized spatial weight vector with 0 diagonals for even time points\n",
    "w0 = generate_weight_matrix(n)\n",
    "w1 = generate_weight_matrix(n)\n",
    "\n",
    "W_ls = []\n",
    "for i in range(T+1):\n",
    "    if is_even(i):\n",
    "        W_ls.append(w0)\n",
    "    else:\n",
    "        W_ls.append(w1)\n",
    "\n",
    "        V_nt = []\n",
    "for i in range(T):\n",
    "    V_nt.append(np.random.normal(0,t_sig,n).reshape(n,1))\n",
    "\n",
    "Y0 = np.random.normal(0,1,n).reshape(n,1)\n",
    "\n",
    "y = []\n",
    "y.append(Y0)\n",
    "for i in range(T):\n",
    "    c_vec = t_gamma*y[i]+t_rho*np.matmul(W_ls[i],np.array(y[i]).reshape(n,1))+np.matmul(x[i],np.array(t_beta).reshape(k,1))+c0+alpha[i][0]*l_n+V_nt[i]\n",
    "    Y_nt = np.matmul(np.linalg.inv(np.identity(n)-t_lam*W_ls[i+1]),c_vec).reshape(n,1)\n",
    "    y.append(Y_nt)"
   ]
  },
  {
   "cell_type": "code",
   "execution_count": 15,
   "id": "3d7e7263-4a35-4967-87c5-561b80234183",
   "metadata": {},
   "outputs": [],
   "source": [
    "result = QMLE_scipy_estimate(x, y, W_ls,initial_guess = initial_guess, constrain= False)"
   ]
  },
  {
   "cell_type": "code",
   "execution_count": 16,
   "id": "62d532d3-e784-455e-bad7-3b3b9e011d30",
   "metadata": {},
   "outputs": [
    {
     "name": "stdout",
     "output_type": "stream",
     "text": [
      "Residuals:\n",
      "     Min         1Q    Median       3Q      Max\n",
      "--------  ---------  --------  -------  -------\n",
      "-2.69784  -0.526343  0.271297  1.19655  4.77589\n",
      "\n",
      "Estimated Parameters:\n",
      "   Sigma    Lambda       Gamma       Rho      Beta\n",
      "--------  --------  ----------  --------  --------\n",
      "0.957797  0.459022  -0.0175539  0.262422  0.905975\n",
      "\n",
      "Estimated alpha (display first 10 rows): \n",
      "  alpha_0    alpha_1    alpha_2    alpha_3    alpha_4    alpha_5    alpha_6    alpha_7    alpha_8    alpha_9\n",
      "---------  ---------  ---------  ---------  ---------  ---------  ---------  ---------  ---------  ---------\n",
      " -0.20673    1.32436  -0.865887   0.696435   0.153478  -0.192189  -0.318961   0.268251   0.177229   -1.03599\n",
      "\n",
      "Estimated c0 (display first 10 rows): \n",
      "     c0_0       c0_1       c0_2       c0_3      c0_4       c0_5       c0_6      c0_7       c0_8        c0_9\n",
      "---------  ---------  ---------  ---------  --------  ---------  ---------  --------  ---------  ----------\n",
      "-0.811652  -0.530314  -0.160762  -0.438911  -1.15386  -0.706712  -0.869164  0.995303  -0.437249  -0.0237128\n",
      "\n",
      "Estimated asympotitic variance: \n",
      "                Gamma           Rho        Beta_0        Lambda       Sigma^2\n",
      "-------  ------------  ------------  ------------  ------------  ------------\n",
      "Gamma     0.00262197   -0.00106185    1.21337e-05  -0.00036231   -4.76503e-05\n",
      "Rho      -0.00106185    0.0020915     0.000286059  -0.000145737  -1.91732e-05\n",
      "Beta_0    1.21337e-05   0.000286059   0.00538859   -0.00010996   -1.3336e-05\n",
      "Lambda   -0.00036231   -0.000145737  -0.00010996    0.00534122    0.000694983\n",
      "Sigma^2  -4.76503e-05  -1.91732e-05  -1.3336e-05    0.000694983   0.0278838\n",
      "\n"
     ]
    }
   ],
   "source": [
    "result.print_table()"
   ]
  },
  {
   "cell_type": "code",
   "execution_count": 17,
   "id": "d783a776-c1d3-4a79-b55d-ca4245f5ccd6",
   "metadata": {},
   "outputs": [],
   "source": [
    "result = QMLE_scipy_estimate(x, y, W_ls,initial_guess = initial_guess, constrain= False)"
   ]
  },
  {
   "cell_type": "code",
   "execution_count": 18,
   "id": "20f255cc-283e-4632-a845-c766fa0c2269",
   "metadata": {},
   "outputs": [
    {
     "name": "stdout",
     "output_type": "stream",
     "text": [
      "Residuals:\n",
      "     Min         1Q    Median       3Q      Max\n",
      "--------  ---------  --------  -------  -------\n",
      "-2.69784  -0.526343  0.271297  1.19655  4.77589\n",
      "\n",
      "Estimated Parameters:\n",
      "   Sigma    Lambda       Gamma       Rho      Beta\n",
      "--------  --------  ----------  --------  --------\n",
      "0.957797  0.459022  -0.0175539  0.262422  0.905975\n",
      "\n",
      "Estimated alpha (display first 10 rows): \n",
      "  alpha_0    alpha_1    alpha_2    alpha_3    alpha_4    alpha_5    alpha_6    alpha_7    alpha_8    alpha_9\n",
      "---------  ---------  ---------  ---------  ---------  ---------  ---------  ---------  ---------  ---------\n",
      " -0.20673    1.32436  -0.865887   0.696435   0.153478  -0.192189  -0.318961   0.268251   0.177229   -1.03599\n",
      "\n",
      "Estimated c0 (display first 10 rows): \n",
      "     c0_0       c0_1       c0_2       c0_3      c0_4       c0_5       c0_6      c0_7       c0_8        c0_9\n",
      "---------  ---------  ---------  ---------  --------  ---------  ---------  --------  ---------  ----------\n",
      "-0.811652  -0.530314  -0.160762  -0.438911  -1.15386  -0.706712  -0.869164  0.995303  -0.437249  -0.0237128\n",
      "\n",
      "Estimated asympotitic variance: \n",
      "                Gamma           Rho        Beta_0        Lambda       Sigma^2\n",
      "-------  ------------  ------------  ------------  ------------  ------------\n",
      "Gamma     0.00262197   -0.00106185    1.21337e-05  -0.00036231   -4.76503e-05\n",
      "Rho      -0.00106185    0.0020915     0.000286059  -0.000145737  -1.91732e-05\n",
      "Beta_0    1.21337e-05   0.000286059   0.00538859   -0.00010996   -1.3336e-05\n",
      "Lambda   -0.00036231   -0.000145737  -0.00010996    0.00534122    0.000694983\n",
      "Sigma^2  -4.76503e-05  -1.91732e-05  -1.3336e-05    0.000694983   0.0278838\n",
      "\n"
     ]
    }
   ],
   "source": [
    "result.print_table()"
   ]
  },
  {
   "cell_type": "code",
   "execution_count": null,
   "id": "b8e9506e-ac41-4f03-a727-c27d88e1b91b",
   "metadata": {},
   "outputs": [],
   "source": []
  },
  {
   "cell_type": "code",
   "execution_count": null,
   "id": "fa858079-a3b8-407e-ba80-249600467b2c",
   "metadata": {},
   "outputs": [],
   "source": []
  }
 ],
 "metadata": {
  "kernelspec": {
   "display_name": "Python 3 (ipykernel)",
   "language": "python",
   "name": "python3"
  },
  "language_info": {
   "codemirror_mode": {
    "name": "ipython",
    "version": 3
   },
   "file_extension": ".py",
   "mimetype": "text/x-python",
   "name": "python",
   "nbconvert_exporter": "python",
   "pygments_lexer": "ipython3",
   "version": "3.9.7"
  }
 },
 "nbformat": 4,
 "nbformat_minor": 5
}
