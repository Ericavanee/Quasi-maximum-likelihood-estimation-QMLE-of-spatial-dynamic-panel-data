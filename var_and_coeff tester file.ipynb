{
 "cells": [
  {
   "cell_type": "code",
   "execution_count": 1,
   "id": "427e4ca2-71c6-42b4-804a-53b841cca6bb",
   "metadata": {},
   "outputs": [],
   "source": [
    "import numpy as np"
   ]
  },
  {
   "cell_type": "code",
   "execution_count": 2,
   "id": "70d29a99-e0f8-47b7-a2b0-81b802cdd17c",
   "metadata": {},
   "outputs": [],
   "source": [
    "# assume n,T,k,y,x,W_ls are given and known"
   ]
  },
  {
   "cell_type": "code",
   "execution_count": 3,
   "id": "d23bab07-b5f8-4d62-9281-1d282e098c2b",
   "metadata": {},
   "outputs": [],
   "source": [
    "def get_Znt(n,k,x,y,W_ls,t):\n",
    "    Y_lag = np.array(y[t]).reshape(n,1)\n",
    "    WY_lag = np.matmul(W_ls[t],Y_lag).reshape(n,1)\n",
    "    Xnt = np.array(x[t]).reshape(n,k)\n",
    "    Znt = regroup_matrix(Y_lag,WY_lag,Xnt,n,k)\n",
    "    return Znt"
   ]
  },
  {
   "cell_type": "code",
   "execution_count": 4,
   "id": "1ddffcf0-0903-4a85-a277-dbeb968d1170",
   "metadata": {},
   "outputs": [],
   "source": [
    "def regroup_matrix(y_vec, wy_vec, x_vec, n, k):\n",
    "    # regroup n*1, n*1, n*k into a matrix of n*(k+2)\n",
    "    my_list = [y_vec,wy_vec,x_vec]\n",
    "    reshape_list = []\n",
    "    for i in range(n):\n",
    "        row_vec = [*my_list[0][i],*my_list[1][i]]\n",
    "        row_vec.extend(my_list[2][i])\n",
    "        reshape_list.append(row_vec)\n",
    "    return np.array(reshape_list).reshape(n,k+2)  "
   ]
  },
  {
   "cell_type": "code",
   "execution_count": 5,
   "id": "3cc03bc4-60a7-4521-95d0-5830fe6a03f7",
   "metadata": {},
   "outputs": [],
   "source": [
    "def get_rnt(sigma,lam,gamma, rho, beta, t):\n",
    "    # first part\n",
    "    delta = np.array([gamma,rho,*beta]).reshape(k+2,1)\n",
    "    W = W_ls[t+1]\n",
    "    S_nt = np.identity(n) - lam*W # n-by-n\n",
    "    SlamY = np.matmul(lam*S_nt,y[t+1]).reshape(n,1) # n-by-1\n",
    "    # second part\n",
    "    Znt = get_Znt(n,k,x,y,W_ls,t) # n-by-(k+2)\n",
    "    Zdelta = np.matmul(Znt,delta).reshape(n,1)\n",
    "    # mesh together\n",
    "    rnt = SlamY-Zdelta\n",
    "    return rnt"
   ]
  },
  {
   "cell_type": "code",
   "execution_count": 6,
   "id": "d5b557c1-dde0-4472-8063-58dfbd666229",
   "metadata": {},
   "outputs": [],
   "source": [
    "# no lag\n",
    "def get_c(sigma,lam,gamma, rho, beta):\n",
    "    sum_ls = []\n",
    "    for i in range(T):\n",
    "        rnt = get_rnt(sigma,lam,gamma, rho, beta, i)\n",
    "        sum_ls.append(rnt)\n",
    "    c0 = (1/T)*sum(sum_ls)\n",
    "    return c0       "
   ]
  },
  {
   "cell_type": "code",
   "execution_count": 7,
   "id": "064c0cbe-8c5c-423a-9e73-da9d5e91c27c",
   "metadata": {},
   "outputs": [],
   "source": [
    "def get_alpha_t(sigma,lam,gamma, rho, beta, t):\n",
    "    l_n = np.ones(n).reshape(n,1)\n",
    "    rnt = get_rnt(sigma,lam,gamma, rho, beta, t)\n",
    "    c0 = get_c(sigma,lam,gamma, rho, beta)\n",
    "    alpha_t = (1/n)*np.matmul(l_n.transpose(),rnt-c0)[0][0]\n",
    "    return alpha_t"
   ]
  },
  {
   "cell_type": "code",
   "execution_count": 8,
   "id": "d661d527-b29f-4967-abda-9ff092db46ef",
   "metadata": {},
   "outputs": [
    {
     "data": {
      "text/plain": [
       "array([[1, 2, 0],\n",
       "       [2, 3, 1],\n",
       "       [3, 4, 2]])"
      ]
     },
     "execution_count": 8,
     "metadata": {},
     "output_type": "execute_result"
    }
   ],
   "source": [
    "# test \"regroup_matrix\"\n",
    "n = 3\n",
    "k = 1\n",
    "y_vec = np.array([1,2,3]).reshape(n,1)\n",
    "wy_vec = np.array([2,3,4]).reshape(n,1)\n",
    "x_vec = np.array([0,1,2]).reshape(n,k)\n",
    "regroup_matrix(y_vec, wy_vec, x_vec, n, k)"
   ]
  },
  {
   "cell_type": "code",
   "execution_count": 9,
   "id": "e23bcf24-e25a-4a9b-a382-dd1ecc85c9c3",
   "metadata": {},
   "outputs": [
    {
     "name": "stdout",
     "output_type": "stream",
     "text": [
      "[[0 1]\n",
      " [2 3]\n",
      " [4 5]]\n"
     ]
    },
    {
     "data": {
      "text/plain": [
       "array([[1, 2, 0, 1],\n",
       "       [2, 3, 2, 3],\n",
       "       [3, 4, 4, 5]])"
      ]
     },
     "execution_count": 9,
     "metadata": {},
     "output_type": "execute_result"
    }
   ],
   "source": [
    "# test \"regroup_matrix\"\n",
    "n = 3\n",
    "k = 2\n",
    "y_vec = np.array([1,2,3]).reshape(n,1)\n",
    "wy_vec = np.array([2,3,4]).reshape(n,1)\n",
    "x_vec = np.array([[0,1,2],[3,4,5]]).reshape(n,k)\n",
    "print(x_vec)\n",
    "regroup_matrix(y_vec, wy_vec, x_vec, n, k)"
   ]
  },
  {
   "cell_type": "code",
   "execution_count": 10,
   "id": "aee036cf-65b0-4267-8588-02f74f3c31b3",
   "metadata": {},
   "outputs": [],
   "source": [
    "# \"regroup_matrix\" test passed"
   ]
  },
  {
   "cell_type": "code",
   "execution_count": 11,
   "id": "3b5b45f2-c982-47d3-a8d1-dd3bf1876bbd",
   "metadata": {},
   "outputs": [],
   "source": [
    "# test get_Znt\n",
    "n = 3\n",
    "k = 1\n",
    "T = 2\n",
    "x = [np.array([1,2,3]).reshape(n,k),np.array([-1,-2,-3]).reshape(n,k)]\n",
    "y = [np.array([0,1,2]).reshape(n,1), np.array([0,-1,-2]).reshape(n,1), np.array([0,1,2]).reshape(n,1)]\n",
    "W_ls = [np.identity(3),np.identity(3),np.identity(3)]"
   ]
  },
  {
   "cell_type": "code",
   "execution_count": 12,
   "id": "dc76f8ef-3dc1-4016-bc97-b60f51145256",
   "metadata": {},
   "outputs": [
    {
     "data": {
      "text/plain": [
       "array([[0., 0., 1.],\n",
       "       [1., 1., 2.],\n",
       "       [2., 2., 3.]])"
      ]
     },
     "execution_count": 12,
     "metadata": {},
     "output_type": "execute_result"
    }
   ],
   "source": [
    "get_Znt(n,k,x,y,W_ls,0)"
   ]
  },
  {
   "cell_type": "code",
   "execution_count": 13,
   "id": "ab13ef95-a01b-4592-adff-19104a26ee05",
   "metadata": {},
   "outputs": [],
   "source": [
    "# \"get_Znt\" test passed"
   ]
  },
  {
   "cell_type": "code",
   "execution_count": 14,
   "id": "d8e5c7c4-b25d-4a76-a7a8-3396038289ab",
   "metadata": {},
   "outputs": [],
   "source": [
    "# test get_rnt\n",
    "n = 3\n",
    "k = 1\n",
    "T = 2\n",
    "x = [np.array([1,2,3]).reshape(n,k),np.array([-1,-2,-3]).reshape(n,k)]\n",
    "y = [np.array([0,1,2]).reshape(n,1), np.array([0,-1,-2]).reshape(n,1), np.array([0,1,2]).reshape(n,1)]\n",
    "W_ls = [np.identity(3),np.identity(3),np.identity(3)]\n",
    "sigma,lam,gamma,rho,beta,t = 1,1,1,1,[1],0"
   ]
  },
  {
   "cell_type": "code",
   "execution_count": 15,
   "id": "cb859018-d4be-4a39-a6db-1a2a7d2d34bc",
   "metadata": {},
   "outputs": [
    {
     "data": {
      "text/plain": [
       "array([[-1.],\n",
       "       [-4.],\n",
       "       [-7.]])"
      ]
     },
     "execution_count": 15,
     "metadata": {},
     "output_type": "execute_result"
    }
   ],
   "source": [
    "get_rnt(sigma,lam,gamma, rho, beta, t)"
   ]
  },
  {
   "cell_type": "code",
   "execution_count": 16,
   "id": "0c382c21-98de-4bd4-9bfe-f4c53359b6ca",
   "metadata": {},
   "outputs": [
    {
     "data": {
      "text/plain": [
       "array([[1.],\n",
       "       [4.],\n",
       "       [7.]])"
      ]
     },
     "execution_count": 16,
     "metadata": {},
     "output_type": "execute_result"
    }
   ],
   "source": [
    "get_rnt(sigma,lam,gamma, rho, beta, 1)"
   ]
  },
  {
   "cell_type": "code",
   "execution_count": 17,
   "id": "bfa4d07f-8a21-45ad-84a7-beb201383df1",
   "metadata": {},
   "outputs": [],
   "source": [
    "# \"get_rnt\" test passed"
   ]
  },
  {
   "cell_type": "code",
   "execution_count": 18,
   "id": "5e0c3afc-0054-464d-b577-abc367274221",
   "metadata": {},
   "outputs": [],
   "source": [
    "# test get_c  \n",
    "\n",
    "n = 3\n",
    "k = 1\n",
    "T = 2\n",
    "x = [np.array([1,2,3]).reshape(n,k),np.array([-1,-2,-3]).reshape(n,k)]\n",
    "y = [np.array([0,1,2]).reshape(n,1), np.array([0,-1,-2]).reshape(n,1), np.array([0,1,2]).reshape(n,1)]\n",
    "W_ls = [np.identity(3),np.identity(3),np.identity(3)]\n",
    "sigma,lam,gamma,rho,beta,t = 1,1,1,1,[1],0"
   ]
  },
  {
   "cell_type": "code",
   "execution_count": 19,
   "id": "f083f106-31c1-4b0f-ad3d-2fe03195ec89",
   "metadata": {},
   "outputs": [
    {
     "data": {
      "text/plain": [
       "array([[0.],\n",
       "       [0.],\n",
       "       [0.]])"
      ]
     },
     "execution_count": 19,
     "metadata": {},
     "output_type": "execute_result"
    }
   ],
   "source": [
    "get_c(sigma,lam,gamma, rho, beta)"
   ]
  },
  {
   "cell_type": "code",
   "execution_count": 20,
   "id": "f59a9d53-00f4-44a8-9af2-ef427d264293",
   "metadata": {},
   "outputs": [],
   "source": [
    "# \"get_c\" test passed."
   ]
  },
  {
   "cell_type": "code",
   "execution_count": 21,
   "id": "5f52b1f1-b0e2-4d87-8361-a8c9970b4dca",
   "metadata": {},
   "outputs": [],
   "source": [
    "# test \"get_alpha\"\n",
    "n = 3\n",
    "k = 1\n",
    "T = 2\n",
    "x = [np.array([1,2,3]).reshape(n,k),np.array([-1,-2,-3]).reshape(n,k)]\n",
    "y = [np.array([0,1,2]).reshape(n,1), np.array([0,-1,-2]).reshape(n,1), np.array([0,1,2]).reshape(n,1)]\n",
    "W_ls = [np.identity(3),np.identity(3),np.identity(3)]\n",
    "sigma,lam,gamma,rho,beta,t = 1,1,1,1,[1],0"
   ]
  },
  {
   "cell_type": "code",
   "execution_count": 22,
   "id": "b1cc346c-3c0f-4778-8b34-047978b145b2",
   "metadata": {},
   "outputs": [
    {
     "data": {
      "text/plain": [
       "-4.0"
      ]
     },
     "execution_count": 22,
     "metadata": {},
     "output_type": "execute_result"
    }
   ],
   "source": [
    "get_alpha_t(sigma,lam,gamma, rho, beta, t)"
   ]
  },
  {
   "cell_type": "code",
   "execution_count": 23,
   "id": "e0663c89-f8a5-4da5-abc9-943a778069f4",
   "metadata": {},
   "outputs": [],
   "source": [
    "# see modified \"get_alpha_t\"\n",
    "def get_alpha_t_mod(sigma,lam,gamma, rho, beta, t):\n",
    "    l_n = np.ones(n).reshape(n,1)\n",
    "    rnt = get_rnt(sigma,lam,gamma, rho, beta, t)\n",
    "    print(rnt)\n",
    "    c0 = get_c(sigma,lam,gamma, rho, beta)\n",
    "    print(c0)\n",
    "    alpha_t = (1/n)*np.matmul(l_n.transpose(),rnt-c0)[0][0]\n",
    "    return alpha_t"
   ]
  },
  {
   "cell_type": "code",
   "execution_count": 24,
   "id": "86080638-98ab-4f2f-ad0a-d3aa1a0b8f16",
   "metadata": {},
   "outputs": [
    {
     "name": "stdout",
     "output_type": "stream",
     "text": [
      "[[-1.]\n",
      " [-4.]\n",
      " [-7.]]\n",
      "[[0.]\n",
      " [0.]\n",
      " [0.]]\n"
     ]
    },
    {
     "data": {
      "text/plain": [
       "-4.0"
      ]
     },
     "execution_count": 24,
     "metadata": {},
     "output_type": "execute_result"
    }
   ],
   "source": [
    "get_alpha_t_mod(sigma,lam,gamma, rho, beta, t)"
   ]
  },
  {
   "cell_type": "code",
   "execution_count": 25,
   "id": "bb7eca26-93d1-4a34-bba6-591f0f7eb0ec",
   "metadata": {},
   "outputs": [],
   "source": [
    "# code \"get Vnt\" then jose"
   ]
  },
  {
   "cell_type": "code",
   "execution_count": 26,
   "id": "01e78d0c-e739-4bda-aa15-622861601a19",
   "metadata": {},
   "outputs": [],
   "source": [
    "def get_Vnt(n,k,T,x,y,W_ls,params,t):\n",
    "    # get components\n",
    "    sigma, lam, gamma, rho = params[:4]\n",
    "    beta = params[4:]\n",
    "    ynt = np.array(y[t+1]).reshape(n,1)\n",
    "    y_lag = np.array(y[t]).reshape(n,1)\n",
    "    W = np.array(W_ls[t+1]).reshape(n,n)\n",
    "    W_lag = np.array(W_ls[t]).reshape(n,n)\n",
    "    xnt = np.array(x[t]).reshape(n,k)\n",
    "    c0 = get_c(sigma,lam,gamma, rho, beta)\n",
    "    alpha_t = get_alpha_t(sigma,lam,gamma, rho, beta, t)\n",
    "    l_n = np.ones(n).reshape(n,1)\n",
    "    \n",
    "    # get LHS\n",
    "    LHS = lam*np.matmul(W,ynt)+gamma*y_lag+rho*np.matmul(W_lag,y_lag)+np.matmul(xnt,np.array(beta).reshape(k,1))+c0+alpha_t*l_n\n",
    "    \n",
    "    # get Vnt\n",
    "    Vnt = np.array(ynt-LHS).reshape(n,1)\n",
    "    \n",
    "    return Vnt"
   ]
  },
  {
   "cell_type": "code",
   "execution_count": 27,
   "id": "09c2a3ad-01d2-4337-a455-7fef7ec0b110",
   "metadata": {},
   "outputs": [],
   "source": [
    "# test get_Vnt\n",
    "n = 3\n",
    "k = 1\n",
    "T = 2\n",
    "x = [np.array([1,2,3]).reshape(n,k),np.array([-1,-2,-3]).reshape(n,k)]\n",
    "y = [np.array([0,1,2]).reshape(n,1), np.array([0,-1,-2]).reshape(n,1), np.array([0,1,2]).reshape(n,1)]\n",
    "W_ls = [np.identity(3),np.identity(3),np.identity(3)]\n",
    "params = [1,1,1,1,1]"
   ]
  },
  {
   "cell_type": "code",
   "execution_count": 28,
   "id": "86be5383-80a4-476a-ab06-a5f217072da9",
   "metadata": {},
   "outputs": [
    {
     "data": {
      "text/plain": [
       "array([[ 3.],\n",
       "       [ 0.],\n",
       "       [-3.]])"
      ]
     },
     "execution_count": 28,
     "metadata": {},
     "output_type": "execute_result"
    }
   ],
   "source": [
    "get_Vnt(n,k,T,x,y,W_ls,params,t)"
   ]
  },
  {
   "cell_type": "code",
   "execution_count": 29,
   "id": "3c43f0a5-6fff-4678-a3b2-504ea33a4929",
   "metadata": {},
   "outputs": [],
   "source": [
    "# test passed"
   ]
  },
  {
   "cell_type": "code",
   "execution_count": 30,
   "id": "c4d18636-89f1-4ac0-8152-d02124be33c0",
   "metadata": {},
   "outputs": [],
   "source": [
    "# test get_Znt_tilte\n",
    "\n",
    "def get_Z_tilde(n,k,x,y,W_ls,T,t):\n",
    "    Y_ls = []\n",
    "    for q in range(T):\n",
    "        Y_ls.append(y[q])\n",
    "    Y_tilde_lag = np.array(y[t]-(1/T)*sum(Y_ls)) # flattened array\n",
    "        \n",
    "    WY_ls = []\n",
    "    for l in range(T):\n",
    "        W3 = W_ls[l]\n",
    "        WY_ls.append(np.matmul(W3,np.array(y[l]).reshape(n,1)))\n",
    "    WY_sum = sum(WY_ls)\n",
    "    W_lag = W_ls[t]\n",
    "    WY_tilde_lag = np.matmul(W_lag, np.array(y[t]).reshape(n,1))-(1/T)*(WY_sum)\n",
    "    # flatten shape\n",
    "    WY_tilde_lag.ravel()\n",
    "        \n",
    "    X_ls = []\n",
    "    for m in range(T):\n",
    "        X_ls.append(np.array(x[m]))\n",
    "    X_sum = sum(X_ls)\n",
    "    X_tilde = np.array(np.array(x[t])-(1/T)*X_sum).reshape(n,k) \n",
    "    \n",
    "    ravel_X = []\n",
    "    for p in range(n):\n",
    "        ravel_X.append(X_tilde[p])\n",
    "    \n",
    "    #Z_tilde is n*(k+2)\n",
    "    Z_tilde = regroup_matrix(Y_tilde_lag,WY_tilde_lag,ravel_X, n, k)\n",
    "            \n",
    "    return Z_tilde  "
   ]
  },
  {
   "cell_type": "code",
   "execution_count": 31,
   "id": "206e2ba8-de90-46fa-99a0-3de978b7a1a4",
   "metadata": {},
   "outputs": [],
   "source": [
    "n = 3\n",
    "k = 1\n",
    "T = 2\n",
    "x = [np.array([1,2,3]).reshape(n,k),np.array([-1,-2,-3]).reshape(n,k)]\n",
    "y = [np.array([0,1,2]).reshape(n,1), np.array([0,-1,-2]).reshape(n,1), np.array([0,1,2]).reshape(n,1)]\n",
    "W_ls = [np.identity(3),np.identity(3),np.identity(3)]"
   ]
  },
  {
   "cell_type": "code",
   "execution_count": 32,
   "id": "8aed62cf-059a-4451-bc75-538bf69ef00d",
   "metadata": {},
   "outputs": [
    {
     "data": {
      "text/plain": [
       "array([[0., 0., 1.],\n",
       "       [1., 1., 2.],\n",
       "       [2., 2., 3.]])"
      ]
     },
     "execution_count": 32,
     "metadata": {},
     "output_type": "execute_result"
    }
   ],
   "source": [
    "get_Z_tilde(n,k,x,y,W_ls,T,0)"
   ]
  },
  {
   "cell_type": "code",
   "execution_count": 33,
   "id": "ebe6f39c-802c-4656-bd61-0484deabc9b4",
   "metadata": {},
   "outputs": [],
   "source": [
    "n = 3\n",
    "k = 2\n",
    "T = 2\n",
    "x = [np.array([[1,2,3],[3,2,1]]).reshape(n,k),np.array([[-1,-2,-3],[-3,-2,-1]]).reshape(n,k)]\n",
    "y = [np.array([0,1,2]).reshape(n,1), np.array([0,-1,-2]).reshape(n,1), np.array([0,1,2]).reshape(n,1)]\n",
    "W_ls = [np.identity(3),np.identity(3),np.identity(3)]"
   ]
  },
  {
   "cell_type": "code",
   "execution_count": 34,
   "id": "26f2523f-ae72-4c95-bfa7-07e987d641ba",
   "metadata": {},
   "outputs": [
    {
     "data": {
      "text/plain": [
       "array([[0., 0., 1., 2.],\n",
       "       [1., 1., 3., 3.],\n",
       "       [2., 2., 2., 1.]])"
      ]
     },
     "execution_count": 34,
     "metadata": {},
     "output_type": "execute_result"
    }
   ],
   "source": [
    "get_Z_tilde(n,k,x,y,W_ls,T,0)"
   ]
  },
  {
   "cell_type": "code",
   "execution_count": 35,
   "id": "206e16b0-5c3d-4313-b88b-3821da9001bd",
   "metadata": {},
   "outputs": [],
   "source": [
    "# test passed"
   ]
  },
  {
   "cell_type": "code",
   "execution_count": 41,
   "id": "bbb6d514-2e0d-4054-98d1-7abc0f18c35d",
   "metadata": {},
   "outputs": [],
   "source": [
    "# test get_Gnt\n",
    "\n",
    "def get_Gnt(W_ls, n, lam, t):\n",
    "    W = W_ls[t]\n",
    "    S_nt = np.identity(n) - lam*W\n",
    "    Gnt = np.matmul(W,np.linalg.inv(S_nt)).reshape(n,n)\n",
    "    return Gnt"
   ]
  },
  {
   "cell_type": "code",
   "execution_count": 44,
   "id": "2ae27b7e-fc66-4bc0-9520-a2dab4ca5a96",
   "metadata": {},
   "outputs": [],
   "source": [
    "n = 3\n",
    "k = 1\n",
    "lam = 0.5\n",
    "W_ls = [np.identity(3),np.identity(3),np.identity(3)]\n",
    "t = 0"
   ]
  },
  {
   "cell_type": "code",
   "execution_count": 45,
   "id": "00b9bd39-a2ff-4bdf-bac7-ad232fb503cf",
   "metadata": {},
   "outputs": [
    {
     "data": {
      "text/plain": [
       "array([[2., 0., 0.],\n",
       "       [0., 2., 0.],\n",
       "       [0., 0., 2.]])"
      ]
     },
     "execution_count": 45,
     "metadata": {},
     "output_type": "execute_result"
    }
   ],
   "source": [
    "get_Gnt(W_ls, n, lam, t)"
   ]
  },
  {
   "cell_type": "code",
   "execution_count": 46,
   "id": "746ea4e7-ebbb-48d2-b064-45051a62760d",
   "metadata": {},
   "outputs": [],
   "source": [
    "# test passed"
   ]
  },
  {
   "cell_type": "code",
   "execution_count": 110,
   "id": "e10aa9d9-c207-404f-be75-22d41ca5ec96",
   "metadata": {},
   "outputs": [],
   "source": [
    "# test get_H_mat\n",
    "\n",
    "def get_H_mat(x,y,W_ls,lam,sigma,gamma,rho,beta,k,n,T):\n",
    "    Hnt_vec_ls = []\n",
    "    c0 = get_c(sigma,lam,gamma, rho, beta)\n",
    "    for i in range(T):\n",
    "        #delta is (k+2)*1\n",
    "        delta = [gamma,rho,*beta]\n",
    "        #Gnt is n*n\n",
    "        Gnt = get_Gnt(W_ls, n, lam, i)\n",
    "        #G_tilde is n*n\n",
    "        G_ls = []\n",
    "        for j in range(T):\n",
    "            G_ls.append(get_Gnt(W_ls, n, lam, j))\n",
    "        G_tilde = Gnt-(1/T)*sum(G_ls)\n",
    "    \n",
    "        #Znt and Z_tilde is n*(k+2)\n",
    "        Znt = get_Znt(n,k,x,y,W_ls,i)\n",
    "        Z_tilde = get_Z_tilde(n,k,x,y,W_ls,T,i)\n",
    "\n",
    "        #GZnt and GZ_tilde is n*(k+2)\n",
    "        GZnt = np.matmul(Gnt,Znt).reshape(n,k+2)\n",
    "        GZ_ls = []\n",
    "        for r in range(T):\n",
    "            Gnt2 = get_Gnt(W_ls, n, lam, r)\n",
    "            Znt2 = get_Znt(n,k,x,y,W_ls,r)\n",
    "            GZ_ls.append(np.matmul(Gnt2,Znt2))\n",
    "        GZ_tilde = np.matmul(Gnt,Znt)-(1/T)*sum(GZ_ls)\n",
    "    \n",
    "        #GZ_delta is n*1\n",
    "        GZ_delta = np.matmul(GZ_tilde,delta).reshape(n,1)\n",
    "        GZ_delta_c = GZ_delta - np.matmul(G_tilde, np.array(c0).reshape(n,1))\n",
    "    \n",
    "        # reshape H_mat\n",
    "        ravel_Z_tilde = []\n",
    "        for p in range(n):\n",
    "            ravel_Z_tilde.append(Z_tilde[p])\n",
    "    \n",
    "        reshape_list = [ravel_Z_tilde,GZ_delta_c.ravel()]\n",
    "        \n",
    "        final_reshape_list = []\n",
    "        for q in range(n):\n",
    "            row_vec = reshape_list[0][q].tolist()\n",
    "            row_vec.append(reshape_list[1][q])\n",
    "            final_reshape_list.append(row_vec)\n",
    "        \n",
    "        H_mat = np.array(final_reshape_list).reshape(n,k+3)\n",
    "        print(H_mat)\n",
    "        \n",
    "        #J_n is n*n\n",
    "        l_n = np.ones(n).reshape(n,1)\n",
    "        J_n = np.identity(n)-(1/n)*np.matmul(l_n,l_n.transpose())\n",
    "        \n",
    "        #Hnt_vec is (k+3)*(k+3)\n",
    "        Hnt_Jn = np.matmul(H_mat.transpose(),J_n)\n",
    "        Hnt_vec = np.matmul(Hnt_Jn,H_mat)\n",
    "        Hnt_vec_ls.append(Hnt_vec)\n",
    "        \n",
    "    H = (1/((n-1)*T))*sum(Hnt_vec_ls)\n",
    "    return H    "
   ]
  },
  {
   "cell_type": "code",
   "execution_count": 111,
   "id": "fa8f4081-0faf-4ce9-aa72-c71b1c35e002",
   "metadata": {},
   "outputs": [],
   "source": [
    "n = 3\n",
    "k = 1\n",
    "T = 2\n",
    "x = [np.array([1,2,3]).reshape(n,k),np.array([-1,-2,-3]).reshape(n,k)]\n",
    "y = [np.array([0,1,2]).reshape(n,1), np.array([0,-1,-2]).reshape(n,1), np.array([0,1,2]).reshape(n,1)]\n",
    "W_ls = [np.identity(3),np.identity(3),np.identity(3)]\n",
    "params = [1,0.5,1,1,1]\n",
    "sigma, lam, gamma, rho = params[:4]\n",
    "beta = params[4:]"
   ]
  },
  {
   "cell_type": "code",
   "execution_count": 112,
   "id": "12a8566b-ba77-4fd7-a4e1-a461dba7572d",
   "metadata": {},
   "outputs": [
    {
     "name": "stdout",
     "output_type": "stream",
     "text": [
      "[[ 0.  0.  1.  2.]\n",
      " [ 1.  1.  2.  8.]\n",
      " [ 2.  2.  3. 14.]]\n",
      "[[  0.   0.  -1.  -2.]\n",
      " [ -1.  -1.  -2.  -8.]\n",
      " [ -2.  -2.  -3. -14.]]\n"
     ]
    },
    {
     "data": {
      "text/plain": [
       "array([[ 1.,  1.,  1.,  6.],\n",
       "       [ 1.,  1.,  1.,  6.],\n",
       "       [ 1.,  1.,  1.,  6.],\n",
       "       [ 6.,  6.,  6., 36.]])"
      ]
     },
     "execution_count": 112,
     "metadata": {},
     "output_type": "execute_result"
    }
   ],
   "source": [
    "get_H_mat(x,y,W_ls,lam,sigma,gamma,rho,beta,k,n,T)"
   ]
  },
  {
   "cell_type": "code",
   "execution_count": 113,
   "id": "91d29cc2-3949-4306-b687-4e5f241a2f73",
   "metadata": {},
   "outputs": [],
   "source": [
    "# test passed"
   ]
  },
  {
   "cell_type": "code",
   "execution_count": 152,
   "id": "4413ba76-5002-40c3-8807-13a387f4541c",
   "metadata": {},
   "outputs": [],
   "source": [
    "def get_first_infoMat(x,y, W_ls,lam,sigma,gamma,rho,beta,k,n,T):\n",
    "    # (k+4)*(k+4)\n",
    "    HnT = get_H_mat(x,y, W_ls,lam,sigma,gamma,rho,beta,k,n,T)\n",
    "    reshape_ls = []\n",
    "    for i in range(k+3):\n",
    "        row_vec = HnT[i].tolist()\n",
    "        row_vec.append(0) # assume that * = 0\n",
    "        reshape_ls.append(row_vec)\n",
    "    reshape_ls.append(np.zeros(k+4))\n",
    "    return np.array(reshape_ls).reshape(k+4,k+4) "
   ]
  },
  {
   "cell_type": "code",
   "execution_count": 153,
   "id": "72166010-02bc-4178-856c-62a82f99fbd7",
   "metadata": {},
   "outputs": [],
   "source": [
    "n = 3\n",
    "k = 1\n",
    "T = 2\n",
    "x = [np.array([1,2,3]).reshape(n,k),np.array([-1,-2,-3]).reshape(n,k)]\n",
    "y = [np.array([0,1,2]).reshape(n,1), np.array([0,-1,-2]).reshape(n,1), np.array([0,1,2]).reshape(n,1)]\n",
    "W_ls = [np.identity(3),np.identity(3),np.identity(3)]\n",
    "params = [1,0.5,1,1,1]\n",
    "sigma, lam, gamma, rho = params[:4]\n",
    "beta = params[4:]"
   ]
  },
  {
   "cell_type": "code",
   "execution_count": 154,
   "id": "916b112c-9d31-4136-95e9-a112dc9e9e8a",
   "metadata": {},
   "outputs": [
    {
     "name": "stdout",
     "output_type": "stream",
     "text": [
      "[[ 0.  0.  1.  2.]\n",
      " [ 1.  1.  2.  8.]\n",
      " [ 2.  2.  3. 14.]]\n",
      "[[  0.   0.  -1.  -2.]\n",
      " [ -1.  -1.  -2.  -8.]\n",
      " [ -2.  -2.  -3. -14.]]\n"
     ]
    },
    {
     "data": {
      "text/plain": [
       "array([[ 1.,  1.,  1.,  6.,  0.],\n",
       "       [ 1.,  1.,  1.,  6.,  0.],\n",
       "       [ 1.,  1.,  1.,  6.,  0.],\n",
       "       [ 6.,  6.,  6., 36.,  0.],\n",
       "       [ 0.,  0.,  0.,  0.,  0.]])"
      ]
     },
     "execution_count": 154,
     "metadata": {},
     "output_type": "execute_result"
    }
   ],
   "source": [
    "get_first_infoMat(x,y, W_ls,lam,sigma,gamma,rho,beta,k,n,T)"
   ]
  },
  {
   "cell_type": "code",
   "execution_count": 122,
   "id": "ceeb0802-18f2-48bd-aec4-8a1700c7d9a7",
   "metadata": {},
   "outputs": [],
   "source": [
    "# test passed"
   ]
  },
  {
   "cell_type": "code",
   "execution_count": 141,
   "id": "e74164ca-a641-415a-9e5e-46d62df664c1",
   "metadata": {},
   "outputs": [],
   "source": [
    "def get_second_infoMat(x,y, W_ls,lam,sigma,gamma,rho,beta,k,n,T):\n",
    "    # (k+4)*(k+4)\n",
    "    GJG_JG_tr_ls = []\n",
    "    JG_tr_ls = []\n",
    "    for i in range(T):\n",
    "        Gnt = get_Gnt(W_ls, n, lam, i)\n",
    "        l_n = np.ones(n).reshape(n,1)\n",
    "        J_n = np.identity(n)-(1/n)*np.matmul(l_n,l_n.transpose())\n",
    "        GJ = np.matmul(Gnt.transpose(),J_n).reshape(n,n)\n",
    "        GJG = np.matmul(GJ,Gnt).reshape(n,n)\n",
    "        JG = np.matmul(J_n,Gnt).reshape(n,n)\n",
    "        GJG_tr = np.matrix.trace(GJG)\n",
    "        JG_tr = np.matrix.trace(JG)\n",
    "        JG_sqr_tr = np.matrix.trace(np.matmul(JG,JG.transpose()))\n",
    "        GJG_JG_tr = GJG_tr+JG_tr\n",
    "        GJG_JG_tr_ls.append(GJG_JG_tr)\n",
    "        JG_tr_ls.append(JG_tr)\n",
    "    \n",
    "    # constant\n",
    "    first_trace = 1/((n-1)*T)*sum(GJG_JG_tr_ls)\n",
    "    print(first_trace)\n",
    "    # constant\n",
    "    second_trace = 1/(sigma**2*(n-1)*T)*sum(JG_tr_ls)\n",
    "    print(second_trace)\n",
    "    \n",
    "    # putting togther the matrix\n",
    "    first_k_plus_2_row = []\n",
    "    for j in range(k+2):\n",
    "        first_k_plus_2_row.append(np.zeros(k+4))\n",
    "    \n",
    "    print(first_k_plus_2_row)\n",
    "    \n",
    "    second_row = np.zeros(k+2).tolist()\n",
    "    print(second_row)\n",
    "    second_row.append(first_trace)\n",
    "    print(second_row)\n",
    "    second_row.append(second_trace)\n",
    "    print(second_row)\n",
    "    third_row = np.zeros(k+2).tolist()\n",
    "    third_row.append(second_trace)\n",
    "    print(third_row)\n",
    "    third_row.append(1/(2*sigma**4))\n",
    "    print(third_row)\n",
    "    reshape_ls = first_k_plus_2_row\n",
    "    reshape_ls.extend([second_row,third_row])\n",
    "    print(reshape_ls)\n",
    "    \n",
    "    return np.array(reshape_ls).reshape(k+4,k+4)        \n"
   ]
  },
  {
   "cell_type": "code",
   "execution_count": 146,
   "id": "3127ade5-07b7-4efa-80e7-82d5a0c3a513",
   "metadata": {},
   "outputs": [],
   "source": [
    "n = 3\n",
    "k = 1\n",
    "T = 2\n",
    "x = [np.array([1,2,3]).reshape(n,k),np.array([-1,-2,-3]).reshape(n,k)]\n",
    "y = [np.array([0,1,2]).reshape(n,1), np.array([0,-1,-2]).reshape(n,1), np.array([0,1,2]).reshape(n,1)]\n",
    "W_ls = [np.identity(3),np.identity(3),np.identity(3)]\n",
    "params = [1,0.5,1,1,1]\n",
    "sigma, lam, gamma, rho = params[:4]\n",
    "beta = params[4:]"
   ]
  },
  {
   "cell_type": "code",
   "execution_count": 143,
   "id": "5947b5c0-84fd-4293-9670-ebef360f82e1",
   "metadata": {},
   "outputs": [
    {
     "name": "stdout",
     "output_type": "stream",
     "text": [
      "6.0\n",
      "2.0\n",
      "[array([0., 0., 0., 0., 0.]), array([0., 0., 0., 0., 0.]), array([0., 0., 0., 0., 0.])]\n",
      "[0.0, 0.0, 0.0]\n",
      "[0.0, 0.0, 0.0, 6.0]\n",
      "[0.0, 0.0, 0.0, 6.0, 2.0]\n",
      "[0.0, 0.0, 0.0, 2.0]\n",
      "[0.0, 0.0, 0.0, 2.0, 0.5]\n",
      "[array([0., 0., 0., 0., 0.]), array([0., 0., 0., 0., 0.]), array([0., 0., 0., 0., 0.]), [0.0, 0.0, 0.0, 6.0, 2.0], [0.0, 0.0, 0.0, 2.0, 0.5]]\n"
     ]
    },
    {
     "data": {
      "text/plain": [
       "array([[0. , 0. , 0. , 0. , 0. ],\n",
       "       [0. , 0. , 0. , 0. , 0. ],\n",
       "       [0. , 0. , 0. , 0. , 0. ],\n",
       "       [0. , 0. , 0. , 6. , 2. ],\n",
       "       [0. , 0. , 0. , 2. , 0.5]])"
      ]
     },
     "execution_count": 143,
     "metadata": {},
     "output_type": "execute_result"
    }
   ],
   "source": [
    "get_second_infoMat(x,y, W_ls,lam,sigma,gamma,rho,beta,k,n,T)"
   ]
  },
  {
   "cell_type": "code",
   "execution_count": 144,
   "id": "ce902c3a-3cd9-42e8-9ec6-e905bf177149",
   "metadata": {},
   "outputs": [],
   "source": [
    "# test passed"
   ]
  },
  {
   "cell_type": "code",
   "execution_count": 148,
   "id": "35054021-f987-469b-804d-08e319b63eca",
   "metadata": {},
   "outputs": [],
   "source": [
    "def get_info_mat(x,y, W_ls,lam,sigma,gamma,rho,beta,k,n,T):\n",
    "    # this is a (k+4)*(k+4) matrix\n",
    "    first_info_mat = get_first_infoMat(x,y, W_ls,lam,sigma,gamma,rho,beta,k,n,T)\n",
    "    second_info_mat = get_second_infoMat(x,y, W_ls,lam,sigma,gamma,rho,beta,k,n,T)\n",
    "    info_mat = 1/(sigma**2)*first_info_mat+second_info_mat\n",
    "    info_mat.reshape(k+4,k+4)\n",
    "    return info_mat"
   ]
  },
  {
   "cell_type": "code",
   "execution_count": 149,
   "id": "6a96907b-45fb-470b-b473-33e21d88e5df",
   "metadata": {},
   "outputs": [],
   "source": [
    "n = 3\n",
    "k = 1\n",
    "T = 2\n",
    "x = [np.array([1,2,3]).reshape(n,k),np.array([-1,-2,-3]).reshape(n,k)]\n",
    "y = [np.array([0,1,2]).reshape(n,1), np.array([0,-1,-2]).reshape(n,1), np.array([0,1,2]).reshape(n,1)]\n",
    "W_ls = [np.identity(3),np.identity(3),np.identity(3)]\n",
    "params = [1,0.5,1,1,1]\n",
    "sigma, lam, gamma, rho = params[:4]\n",
    "beta = params[4:]"
   ]
  },
  {
   "cell_type": "code",
   "execution_count": 150,
   "id": "f22087a7-0d5c-4c3c-8e1b-e89388305232",
   "metadata": {},
   "outputs": [
    {
     "name": "stdout",
     "output_type": "stream",
     "text": [
      "[[ 0.  0.  1.  2.]\n",
      " [ 1.  1.  2.  8.]\n",
      " [ 2.  2.  3. 14.]]\n",
      "[[  0.   0.  -1.  -2.]\n",
      " [ -1.  -1.  -2.  -8.]\n",
      " [ -2.  -2.  -3. -14.]]\n"
     ]
    },
    {
     "data": {
      "text/plain": [
       "array([[ 1. ,  1. ,  1. ,  6. ,  0. ],\n",
       "       [ 1. ,  1. ,  1. ,  6. ,  0. ],\n",
       "       [ 1. ,  1. ,  1. ,  6. ,  0. ],\n",
       "       [ 6. ,  6. ,  6. , 42. ,  2. ],\n",
       "       [ 1. ,  1. ,  1. ,  3. ,  1.5]])"
      ]
     },
     "execution_count": 150,
     "metadata": {},
     "output_type": "execute_result"
    }
   ],
   "source": [
    "get_info_mat(x,y, W_ls,lam,sigma,gamma,rho,beta,k,n,T)"
   ]
  },
  {
   "cell_type": "code",
   "execution_count": 151,
   "id": "d7fccb00-3986-4273-8123-4ac563746685",
   "metadata": {},
   "outputs": [],
   "source": [
    "# test passed "
   ]
  },
  {
   "cell_type": "code",
   "execution_count": null,
   "id": "ad7dd4f7-fceb-4c11-be32-be6da14ecede",
   "metadata": {},
   "outputs": [],
   "source": []
  }
 ],
 "metadata": {
  "kernelspec": {
   "display_name": "Python 3 (ipykernel)",
   "language": "python",
   "name": "python3"
  },
  "language_info": {
   "codemirror_mode": {
    "name": "ipython",
    "version": 3
   },
   "file_extension": ".py",
   "mimetype": "text/x-python",
   "name": "python",
   "nbconvert_exporter": "python",
   "pygments_lexer": "ipython3",
   "version": "3.9.7"
  }
 },
 "nbformat": 4,
 "nbformat_minor": 5
}
