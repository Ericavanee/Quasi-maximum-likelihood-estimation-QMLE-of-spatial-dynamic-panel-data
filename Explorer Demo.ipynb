{
 "cells": [
  {
   "cell_type": "code",
   "execution_count": 1,
   "id": "a736004d-188f-4290-b542-b0b61bcaf0da",
   "metadata": {},
   "outputs": [],
   "source": [
    "import numpy as np\n",
    "from QMLE_scipy import *\n",
    "from explore import *"
   ]
  },
  {
   "cell_type": "code",
   "execution_count": 2,
   "id": "a9ab0dea-5b49-471b-bae6-e16393b6d2eb",
   "metadata": {},
   "outputs": [],
   "source": [
    "n = 5\n",
    "T = 5\n",
    "W_ls = generate_wls(n,T, alternate = True)"
   ]
  },
  {
   "cell_type": "markdown",
   "id": "a1006e2e-4a6f-46fd-a61b-72684a9f29b2",
   "metadata": {},
   "source": [
    "### k = 2"
   ]
  },
  {
   "cell_type": "code",
   "execution_count": 3,
   "id": "5057f71c-69bc-458e-995e-53b918f00cf3",
   "metadata": {},
   "outputs": [
    {
     "data": {
      "text/plain": [
       "[0.8, 0.3, 0.8, 0.8, 0.8, 0.8]"
      ]
     },
     "execution_count": 3,
     "metadata": {},
     "output_type": "execute_result"
    }
   ],
   "source": [
    "t_theta = [1,0.5,1,1,1,1]\n",
    "g_theta = [x-0.2 for x in t_theta]\n",
    "g_theta"
   ]
  },
  {
   "cell_type": "code",
   "execution_count": 4,
   "id": "725baba0-d0f0-4f70-aa3a-9c3f2c340989",
   "metadata": {},
   "outputs": [],
   "source": [
    "sample_ls = generate_samples_scipy_fix_weight(n,T,t_theta,g_theta, W_ls, N=30, constrain=False)"
   ]
  },
  {
   "cell_type": "code",
   "execution_count": 5,
   "id": "0d341581-095f-40ee-a3e0-342515191fc4",
   "metadata": {},
   "outputs": [
    {
     "name": "stdout",
     "output_type": "stream",
     "text": [
      "Measures (n=30; T=5)        sigma      lambda       gamma       rho  beta\n",
      "----------------------  ---------  ----------  ----------  --------  --------------------------------------------\n",
      "Bias                    -0.277086  0.00964955  -0.0443569  0.040789  [-0.08876420737627044, -0.10303073992418965]\n",
      "SD                       0.158747  0.092491     0.18094    0.176857  [0.2900083570896038, 0.364696825709894]\n",
      "RMSE                     0.319339  0.092993     0.186298   0.1815    [0.09198393169294874, 0.14361910805219877]\n"
     ]
    }
   ],
   "source": [
    "obtain_table_stats(sample_ls,t_theta, T)"
   ]
  },
  {
   "cell_type": "markdown",
   "id": "bb992db2-d5d5-46bb-b34e-c1374a41db8b",
   "metadata": {},
   "source": [
    "### k = 1"
   ]
  },
  {
   "cell_type": "code",
   "execution_count": 6,
   "id": "4b1e71b1-9286-46d2-b923-347c7e64e40c",
   "metadata": {},
   "outputs": [
    {
     "data": {
      "text/plain": [
       "[0.8, 0.3, 0.8, 0.8, 0.8]"
      ]
     },
     "execution_count": 6,
     "metadata": {},
     "output_type": "execute_result"
    }
   ],
   "source": [
    "# k = 1\n",
    "t_theta = [1,0.5,1,1,1]\n",
    "g_theta = [x-0.2 for x in t_theta]\n",
    "g_theta"
   ]
  },
  {
   "cell_type": "code",
   "execution_count": 7,
   "id": "d1e43fc5-0521-4868-b237-54ab941bdd85",
   "metadata": {},
   "outputs": [],
   "source": [
    "sample_ls = generate_samples_scipy_fix_weight(n,T,t_theta,g_theta, W_ls, N=50, constrain=False)"
   ]
  },
  {
   "cell_type": "code",
   "execution_count": 8,
   "id": "7614d379-d99a-4dcf-af20-bb9c0fd28f8d",
   "metadata": {},
   "outputs": [
    {
     "name": "stdout",
     "output_type": "stream",
     "text": [
      "Measures (n=50; T=5)        sigma     lambda       gamma        rho  beta\n",
      "----------------------  ---------  ---------  ----------  ---------  -----------------------\n",
      "Bias                    -0.239219  0.0247226  -0.0557695  0.0539472  [-0.014975386018252435]\n",
      "SD                       0.170377  0.0753341   0.148375   0.142724   [0.32509731015497967]\n",
      "RMSE                     0.293691  0.0792871   0.15851    0.152579   [0.10591252325639867]\n"
     ]
    }
   ],
   "source": [
    "obtain_table_stats(sample_ls,t_theta, T)"
   ]
  },
  {
   "cell_type": "code",
   "execution_count": 10,
   "id": "48f22c4a-074f-4ef9-8052-48e88e1fb3b3",
   "metadata": {},
   "outputs": [],
   "source": [
    "sample_ls = generate_samples_scipy_flex_weight(n,T,t_theta,g_theta, N=50, constrain=False)"
   ]
  },
  {
   "cell_type": "code",
   "execution_count": 11,
   "id": "e7b53608-a1cf-4c7a-b13a-d9a190a66b0d",
   "metadata": {},
   "outputs": [
    {
     "name": "stdout",
     "output_type": "stream",
     "text": [
      "Measures (n=50; T=5)        sigma     lambda       gamma         rho  beta\n",
      "----------------------  ---------  ---------  ----------  ----------  -----------------------\n",
      "Bias                    -0.233808  0.0219608  -0.0947801  -0.0310231  [-0.023060180259678043]\n",
      "SD                       0.158147  0.169044    0.186775    0.198747   [0.32416847851070785]\n",
      "RMSE                     0.28227   0.170464    0.209447    0.201154   [0.10561697437355613]\n"
     ]
    }
   ],
   "source": [
    "obtain_table_stats(sample_ls,t_theta, T)"
   ]
  }
 ],
 "metadata": {
  "kernelspec": {
   "display_name": "Python 3 (ipykernel)",
   "language": "python",
   "name": "python3"
  },
  "language_info": {
   "codemirror_mode": {
    "name": "ipython",
    "version": 3
   },
   "file_extension": ".py",
   "mimetype": "text/x-python",
   "name": "python",
   "nbconvert_exporter": "python",
   "pygments_lexer": "ipython3",
   "version": "3.9.7"
  }
 },
 "nbformat": 4,
 "nbformat_minor": 5
}
